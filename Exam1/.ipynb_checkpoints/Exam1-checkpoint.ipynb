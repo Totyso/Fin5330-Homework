{
 "cells": [
  {
   "cell_type": "code",
   "execution_count": 1,
   "metadata": {},
   "outputs": [],
   "source": [
    "import numpy as np\n",
    "import pandas as pd\n",
    "import matplotlib.pyplot as plt\n",
    "import statsmodels.api as sm\n",
    "from statsmodels.tsa.stattools import coint"
   ]
  },
  {
   "cell_type": "code",
   "execution_count": 2,
   "metadata": {},
   "outputs": [
    {
     "data": {
      "text/html": [
       "<div>\n",
       "<style scoped>\n",
       "    .dataframe tbody tr th:only-of-type {\n",
       "        vertical-align: middle;\n",
       "    }\n",
       "\n",
       "    .dataframe tbody tr th {\n",
       "        vertical-align: top;\n",
       "    }\n",
       "\n",
       "    .dataframe thead th {\n",
       "        text-align: right;\n",
       "    }\n",
       "</style>\n",
       "<table border=\"1\" class=\"dataframe\">\n",
       "  <thead>\n",
       "    <tr style=\"text-align: right;\">\n",
       "      <th></th>\n",
       "      <th>PERMNO</th>\n",
       "      <th>date</th>\n",
       "      <th>TICKER</th>\n",
       "      <th>COMNAM</th>\n",
       "      <th>PERMCO</th>\n",
       "      <th>BIDLO</th>\n",
       "      <th>ASKHI</th>\n",
       "      <th>PRC</th>\n",
       "      <th>VOL</th>\n",
       "      <th>RET</th>\n",
       "      <th>...</th>\n",
       "      <th>SHROUT</th>\n",
       "      <th>OPENPRC</th>\n",
       "      <th>NUMTRD</th>\n",
       "      <th>RETX</th>\n",
       "      <th>vwretd</th>\n",
       "      <th>vwretx</th>\n",
       "      <th>ewretd</th>\n",
       "      <th>ewretx</th>\n",
       "      <th>sprtrn</th>\n",
       "      <th>nplog</th>\n",
       "    </tr>\n",
       "  </thead>\n",
       "  <tbody>\n",
       "    <tr>\n",
       "      <th>0</th>\n",
       "      <td>26463</td>\n",
       "      <td>19970102</td>\n",
       "      <td>CTWS</td>\n",
       "      <td>CONNECTICUT WATER SERVICE INC</td>\n",
       "      <td>1191</td>\n",
       "      <td>29.000</td>\n",
       "      <td>30.0</td>\n",
       "      <td>29.25</td>\n",
       "      <td>1216</td>\n",
       "      <td>0.000000</td>\n",
       "      <td>...</td>\n",
       "      <td>3011</td>\n",
       "      <td>29.250</td>\n",
       "      <td>6.0</td>\n",
       "      <td>0.000000</td>\n",
       "      <td>-0.007358</td>\n",
       "      <td>-0.007403</td>\n",
       "      <td>0.001325</td>\n",
       "      <td>0.001294</td>\n",
       "      <td>-0.005036</td>\n",
       "      <td>3.375880</td>\n",
       "    </tr>\n",
       "    <tr>\n",
       "      <th>1</th>\n",
       "      <td>26463</td>\n",
       "      <td>19970103</td>\n",
       "      <td>CTWS</td>\n",
       "      <td>CONNECTICUT WATER SERVICE INC</td>\n",
       "      <td>1191</td>\n",
       "      <td>29.250</td>\n",
       "      <td>30.0</td>\n",
       "      <td>29.25</td>\n",
       "      <td>1850</td>\n",
       "      <td>0.000000</td>\n",
       "      <td>...</td>\n",
       "      <td>3011</td>\n",
       "      <td>30.000</td>\n",
       "      <td>5.0</td>\n",
       "      <td>0.000000</td>\n",
       "      <td>0.013491</td>\n",
       "      <td>0.013451</td>\n",
       "      <td>0.012477</td>\n",
       "      <td>0.012428</td>\n",
       "      <td>0.014952</td>\n",
       "      <td>3.375880</td>\n",
       "    </tr>\n",
       "    <tr>\n",
       "      <th>2</th>\n",
       "      <td>26463</td>\n",
       "      <td>19970106</td>\n",
       "      <td>CTWS</td>\n",
       "      <td>CONNECTICUT WATER SERVICE INC</td>\n",
       "      <td>1191</td>\n",
       "      <td>29.250</td>\n",
       "      <td>30.0</td>\n",
       "      <td>29.25</td>\n",
       "      <td>3226</td>\n",
       "      <td>0.000000</td>\n",
       "      <td>...</td>\n",
       "      <td>3011</td>\n",
       "      <td>29.250</td>\n",
       "      <td>8.0</td>\n",
       "      <td>0.000000</td>\n",
       "      <td>0.000697</td>\n",
       "      <td>0.000680</td>\n",
       "      <td>0.005099</td>\n",
       "      <td>0.005086</td>\n",
       "      <td>-0.000508</td>\n",
       "      <td>3.375880</td>\n",
       "    </tr>\n",
       "    <tr>\n",
       "      <th>3</th>\n",
       "      <td>26463</td>\n",
       "      <td>19970107</td>\n",
       "      <td>CTWS</td>\n",
       "      <td>CONNECTICUT WATER SERVICE INC</td>\n",
       "      <td>1191</td>\n",
       "      <td>29.125</td>\n",
       "      <td>30.0</td>\n",
       "      <td>29.75</td>\n",
       "      <td>2233</td>\n",
       "      <td>0.017094</td>\n",
       "      <td>...</td>\n",
       "      <td>3011</td>\n",
       "      <td>29.125</td>\n",
       "      <td>5.0</td>\n",
       "      <td>0.017094</td>\n",
       "      <td>0.007357</td>\n",
       "      <td>0.007305</td>\n",
       "      <td>0.007338</td>\n",
       "      <td>0.007329</td>\n",
       "      <td>0.007463</td>\n",
       "      <td>3.392829</td>\n",
       "    </tr>\n",
       "    <tr>\n",
       "      <th>4</th>\n",
       "      <td>26463</td>\n",
       "      <td>19970108</td>\n",
       "      <td>CTWS</td>\n",
       "      <td>CONNECTICUT WATER SERVICE INC</td>\n",
       "      <td>1191</td>\n",
       "      <td>29.125</td>\n",
       "      <td>30.0</td>\n",
       "      <td>30.00</td>\n",
       "      <td>2252</td>\n",
       "      <td>0.008403</td>\n",
       "      <td>...</td>\n",
       "      <td>3011</td>\n",
       "      <td>29.125</td>\n",
       "      <td>6.0</td>\n",
       "      <td>0.008403</td>\n",
       "      <td>-0.003754</td>\n",
       "      <td>-0.003971</td>\n",
       "      <td>0.004376</td>\n",
       "      <td>0.004304</td>\n",
       "      <td>-0.006399</td>\n",
       "      <td>3.401197</td>\n",
       "    </tr>\n",
       "  </tbody>\n",
       "</table>\n",
       "<p>5 rows × 22 columns</p>\n",
       "</div>"
      ],
      "text/plain": [
       "   PERMNO      date TICKER                         COMNAM  PERMCO   BIDLO  \\\n",
       "0   26463  19970102   CTWS  CONNECTICUT WATER SERVICE INC    1191  29.000   \n",
       "1   26463  19970103   CTWS  CONNECTICUT WATER SERVICE INC    1191  29.250   \n",
       "2   26463  19970106   CTWS  CONNECTICUT WATER SERVICE INC    1191  29.250   \n",
       "3   26463  19970107   CTWS  CONNECTICUT WATER SERVICE INC    1191  29.125   \n",
       "4   26463  19970108   CTWS  CONNECTICUT WATER SERVICE INC    1191  29.125   \n",
       "\n",
       "   ASKHI    PRC   VOL       RET    ...     SHROUT  OPENPRC  NUMTRD      RETX  \\\n",
       "0   30.0  29.25  1216  0.000000    ...       3011   29.250     6.0  0.000000   \n",
       "1   30.0  29.25  1850  0.000000    ...       3011   30.000     5.0  0.000000   \n",
       "2   30.0  29.25  3226  0.000000    ...       3011   29.250     8.0  0.000000   \n",
       "3   30.0  29.75  2233  0.017094    ...       3011   29.125     5.0  0.017094   \n",
       "4   30.0  30.00  2252  0.008403    ...       3011   29.125     6.0  0.008403   \n",
       "\n",
       "     vwretd    vwretx    ewretd    ewretx    sprtrn     nplog  \n",
       "0 -0.007358 -0.007403  0.001325  0.001294 -0.005036  3.375880  \n",
       "1  0.013491  0.013451  0.012477  0.012428  0.014952  3.375880  \n",
       "2  0.000697  0.000680  0.005099  0.005086 -0.000508  3.375880  \n",
       "3  0.007357  0.007305  0.007338  0.007329  0.007463  3.392829  \n",
       "4 -0.003754 -0.003971  0.004376  0.004304 -0.006399  3.401197  \n",
       "\n",
       "[5 rows x 22 columns]"
      ]
     },
     "execution_count": 2,
     "metadata": {},
     "output_type": "execute_result"
    }
   ],
   "source": [
    "rawData = pd.read_csv(\"WaterStocks.csv\", parse_dates=True)\n",
    "rawData['nplog'] = np.log(abs(rawData.PRC))\n",
    "rawData.head()"
   ]
  },
  {
   "cell_type": "code",
   "execution_count": 3,
   "metadata": {},
   "outputs": [],
   "source": [
    "permno = [26463, 52898, 71475]\n",
    "\n",
    "ind = rawData.PERMNO == permno[0]\n",
    "ctwsData = rawData[ind]\n",
    "\n",
    "ind = rawData.PERMNO == permno[1]\n",
    "wtrData = rawData[ind]\n",
    "\n",
    "ind = rawData.PERMNO == permno[2]\n",
    "awrData = rawData[ind]"
   ]
  },
  {
   "cell_type": "code",
   "execution_count": 4,
   "metadata": {},
   "outputs": [],
   "source": [
    "ctws_series = pd.Series(abs(ctwsData.nplog))\n",
    "wtr_series = pd.Series(wtrData.nplog)\n",
    "awr_series = pd.Series(awrData.nplog)"
   ]
  },
  {
   "cell_type": "code",
   "execution_count": 5,
   "metadata": {},
   "outputs": [
    {
     "data": {
      "image/png": "[encoded data removed]",
      "text/plain": [
       "<Figure size 432x288 with 1 Axes>"
      ]
     },
     "metadata": {},
     "output_type": "display_data"
    }
   ],
   "source": [
    "plt.plot(ctws_series)\n",
    "plt.title('CTWS')\n",
    "plt.xlabel('Time')\n",
    "plt.ylabel('nplog');"
   ]
  },
  {
   "cell_type": "code",
   "execution_count": 6,
   "metadata": {},
   "outputs": [
    {
     "data": {
      "image/png": "[encoded data removed]",
      "text/plain": [
       "<Figure size 432x288 with 1 Axes>"
      ]
     },
     "metadata": {},
     "output_type": "display_data"
    }
   ],
   "source": [
    "plt.plot(wtr_series)\n",
    "plt.title('WTR')\n",
    "plt.xlabel('Time')\n",
    "plt.ylabel('nplog');"
   ]
  },
  {
   "cell_type": "code",
   "execution_count": 7,
   "metadata": {},
   "outputs": [
    {
     "data": {
      "image/png": "[encoded data removed]",
      "text/plain": [
       "<Figure size 432x288 with 1 Axes>"
      ]
     },
     "metadata": {},
     "output_type": "display_data"
    }
   ],
   "source": [
    "plt.plot(awr_series)\n",
    "plt.title('AWR')\n",
    "plt.xlabel('Time')\n",
    "plt.ylabel('nplog');"
   ]
  },
  {
   "cell_type": "markdown",
   "metadata": {},
   "source": [
    "__Exhibit 1 (Daily returns & Volume)__"
   ]
  },
  {
   "cell_type": "markdown",
   "metadata": {},
   "source": [
    "__Returns__"
   ]
  },
  {
   "cell_type": "code",
   "execution_count": 8,
   "metadata": {},
   "outputs": [
    {
     "data": {
      "text/plain": [
       "count    3020.000000\n",
       "mean        0.000573\n",
       "std         0.021245\n",
       "min        -0.131115\n",
       "25%        -0.009769\n",
       "50%         0.000000\n",
       "75%         0.010433\n",
       "max         0.143689\n",
       "Name: RET, dtype: float64"
      ]
     },
     "execution_count": 8,
     "metadata": {},
     "output_type": "execute_result"
    }
   ],
   "source": [
    "ctwsData.RET.describe()"
   ]
  },
  {
   "cell_type": "code",
   "execution_count": 9,
   "metadata": {},
   "outputs": [
    {
     "data": {
      "text/plain": [
       "count    3020.000000\n",
       "mean        0.000716\n",
       "std         0.019450\n",
       "min        -0.105691\n",
       "25%        -0.009724\n",
       "50%         0.000000\n",
       "75%         0.010121\n",
       "max         0.131258\n",
       "Name: RET, dtype: float64"
      ]
     },
     "execution_count": 9,
     "metadata": {},
     "output_type": "execute_result"
    }
   ],
   "source": [
    "wtrData.RET.describe()"
   ]
  },
  {
   "cell_type": "code",
   "execution_count": 10,
   "metadata": {},
   "outputs": [
    {
     "data": {
      "text/plain": [
       "count    3020.000000\n",
       "mean        0.000624\n",
       "std         0.020173\n",
       "min        -0.097285\n",
       "25%        -0.010573\n",
       "50%         0.000000\n",
       "75%         0.011236\n",
       "max         0.096287\n",
       "Name: RET, dtype: float64"
      ]
     },
     "execution_count": 10,
     "metadata": {},
     "output_type": "execute_result"
    }
   ],
   "source": [
    "awrData.RET.describe()"
   ]
  },
  {
   "cell_type": "markdown",
   "metadata": {},
   "source": [
    "__Volume__"
   ]
  },
  {
   "cell_type": "code",
   "execution_count": 11,
   "metadata": {},
   "outputs": [
    {
     "data": {
      "text/plain": [
       "count      3020.000000\n",
       "mean       9956.748344\n",
       "std       25544.115451\n",
       "min           0.000000\n",
       "25%        3459.000000\n",
       "50%        6785.500000\n",
       "75%       11747.250000\n",
       "max      966638.000000\n",
       "Name: VOL, dtype: float64"
      ]
     },
     "execution_count": 11,
     "metadata": {},
     "output_type": "execute_result"
    }
   ],
   "source": [
    "ctwsData.VOL.describe()"
   ]
  },
  {
   "cell_type": "code",
   "execution_count": 12,
   "metadata": {},
   "outputs": [
    {
     "data": {
      "text/plain": [
       "count    3.020000e+03\n",
       "mean     3.345267e+05\n",
       "std      4.832983e+05\n",
       "min      2.500000e+03\n",
       "25%      4.010000e+04\n",
       "50%      1.275500e+05\n",
       "75%      4.258750e+05\n",
       "max      5.578600e+06\n",
       "Name: VOL, dtype: float64"
      ]
     },
     "execution_count": 12,
     "metadata": {},
     "output_type": "execute_result"
    }
   ],
   "source": [
    "wtrData.VOL.describe()"
   ]
  },
  {
   "cell_type": "code",
   "execution_count": 13,
   "metadata": {},
   "outputs": [
    {
     "data": {
      "text/plain": [
       "count      3020.000000\n",
       "mean      49990.043709\n",
       "std       60350.785876\n",
       "min         200.000000\n",
       "25%       11900.000000\n",
       "50%       27000.000000\n",
       "75%       67125.000000\n",
       "max      626300.000000\n",
       "Name: VOL, dtype: float64"
      ]
     },
     "execution_count": 13,
     "metadata": {},
     "output_type": "execute_result"
    }
   ],
   "source": [
    "awrData.VOL.describe()"
   ]
  },
  {
   "cell_type": "markdown",
   "metadata": {},
   "source": [
    "__CTWS test for unit-root__"
   ]
  },
  {
   "cell_type": "code",
   "execution_count": 14,
   "metadata": {},
   "outputs": [
    {
     "name": "stdout",
     "output_type": "stream",
     "text": [
      "ADF Statistic: -0.366696\n",
      "p-value: 0.549971\n",
      "Critical Values:\n",
      "\t1%: -2.566\n",
      "\t5%: -1.941\n",
      "\t10%: -1.617\n"
     ]
    }
   ],
   "source": [
    "from statsmodels.tsa.stattools import adfuller\n",
    "result = adfuller(ctws_series, maxlag=1, autolag='BIC', regression=\"nc\")\n",
    "print('ADF Statistic: %f' % result[0])\n",
    "print('p-value: %f' % result[1])\n",
    "print('Critical Values:')\n",
    "for key, value in result[4].items():\n",
    "\tprint('\\t%s: %.3f' % (key, value))"
   ]
  },
  {
   "cell_type": "markdown",
   "metadata": {},
   "source": [
    "__WTR test for unit-root__"
   ]
  },
  {
   "cell_type": "code",
   "execution_count": 15,
   "metadata": {},
   "outputs": [
    {
     "name": "stdout",
     "output_type": "stream",
     "text": [
      "ADF Statistic: -0.150078\n",
      "p-value: 0.632169\n",
      "Critical Values:\n",
      "\t1%: -2.566\n",
      "\t5%: -1.941\n",
      "\t10%: -1.617\n"
     ]
    }
   ],
   "source": [
    "result = adfuller(wtr_series, maxlag=1, autolag='BIC', regression=\"nc\")\n",
    "print('ADF Statistic: %f' % result[0])\n",
    "print('p-value: %f' % result[1])\n",
    "print('Critical Values:')\n",
    "for key, value in result[4].items():\n",
    "\tprint('\\t%s: %.3f' % (key, value))"
   ]
  },
  {
   "cell_type": "markdown",
   "metadata": {},
   "source": [
    "__AWR test for unit-root__"
   ]
  },
  {
   "cell_type": "code",
   "execution_count": 16,
   "metadata": {},
   "outputs": [
    {
     "name": "stdout",
     "output_type": "stream",
     "text": [
      "ADF Statistic: 0.193496\n",
      "p-value: 0.744843\n",
      "Critical Values:\n",
      "\t1%: -2.566\n",
      "\t5%: -1.941\n",
      "\t10%: -1.617\n"
     ]
    }
   ],
   "source": [
    "result = adfuller(awr_series, maxlag=1, autolag='BIC', regression=\"nc\")\n",
    "print('ADF Statistic: %f' % result[0])\n",
    "print('p-value: %f' % result[1])\n",
    "print('Critical Values:')\n",
    "for key, value in result[4].items():\n",
    "\tprint('\\t%s: %.3f' % (key, value))"
   ]
  },
  {
   "cell_type": "markdown",
   "metadata": {},
   "source": [
    "__Looking at first differences__"
   ]
  },
  {
   "cell_type": "code",
   "execution_count": 17,
   "metadata": {},
   "outputs": [],
   "source": [
    "first_dif_ctws = ctwsData.nplog.diff()\n",
    "first_dif_wtr = wtrData.nplog.diff()\n",
    "first_dif_awr = awrData.nplog.diff()"
   ]
  },
  {
   "cell_type": "markdown",
   "metadata": {},
   "source": [
    "__CTWS first difference test__"
   ]
  },
  {
   "cell_type": "code",
   "execution_count": 18,
   "metadata": {},
   "outputs": [
    {
     "name": "stdout",
     "output_type": "stream",
     "text": [
      "ADF Statistic: -46.494020\n",
      "p-value: 0.000000\n",
      "Critical Values:\n",
      "\t1%: -2.566\n",
      "\t5%: -1.941\n",
      "\t10%: -1.617\n"
     ]
    }
   ],
   "source": [
    "from statsmodels.tsa.stattools import adfuller\n",
    "result = adfuller(first_dif_ctws[1:], maxlag=1, autolag='BIC', regression=\"nc\")\n",
    "print('ADF Statistic: %f' % result[0])\n",
    "print('p-value: %f' % result[1])\n",
    "print('Critical Values:')\n",
    "for key, value in result[4].items():\n",
    "\tprint('\\t%s: %.3f' % (key, value))"
   ]
  },
  {
   "cell_type": "markdown",
   "metadata": {},
   "source": [
    "__WTR first difference test__"
   ]
  },
  {
   "cell_type": "code",
   "execution_count": 19,
   "metadata": {},
   "outputs": [
    {
     "name": "stdout",
     "output_type": "stream",
     "text": [
      "ADF Statistic: -55.181402\n",
      "p-value: 0.000000\n",
      "Critical Values:\n",
      "\t1%: -2.566\n",
      "\t5%: -1.941\n",
      "\t10%: -1.617\n"
     ]
    }
   ],
   "source": [
    "from statsmodels.tsa.stattools import adfuller\n",
    "result = adfuller(first_dif_wtr[1:], maxlag=1, autolag='BIC', regression=\"nc\")\n",
    "print('ADF Statistic: %f' % result[0])\n",
    "print('p-value: %f' % result[1])\n",
    "print('Critical Values:')\n",
    "for key, value in result[4].items():\n",
    "\tprint('\\t%s: %.3f' % (key, value))"
   ]
  },
  {
   "cell_type": "markdown",
   "metadata": {},
   "source": [
    "__AWR first difference test__"
   ]
  },
  {
   "cell_type": "code",
   "execution_count": 20,
   "metadata": {},
   "outputs": [
    {
     "name": "stdout",
     "output_type": "stream",
     "text": [
      "ADF Statistic: -58.517293\n",
      "p-value: 0.000000\n",
      "Critical Values:\n",
      "\t1%: -2.566\n",
      "\t5%: -1.941\n",
      "\t10%: -1.617\n"
     ]
    }
   ],
   "source": [
    "from statsmodels.tsa.stattools import adfuller\n",
    "result = adfuller(first_dif_awr[1:], maxlag=1, autolag='BIC', regression=\"nc\")\n",
    "print('ADF Statistic: %f' % result[0])\n",
    "print('p-value: %f' % result[1])\n",
    "print('Critical Values:')\n",
    "for key, value in result[4].items():\n",
    "\tprint('\\t%s: %.3f' % (key, value))"
   ]
  },
  {
   "cell_type": "markdown",
   "metadata": {},
   "source": [
    "__Testing for Cointegration__"
   ]
  },
  {
   "cell_type": "code",
   "execution_count": 21,
   "metadata": {},
   "outputs": [],
   "source": [
    "reshaped_ctws = ctws_series.values.reshape(3020, 1)\n",
    "reshaped_wtr = wtr_series.values.reshape(3020, 1)\n",
    "reshaped_awr = awr_series.values.reshape(3020, 1)"
   ]
  },
  {
   "cell_type": "markdown",
   "metadata": {},
   "source": [
    "__CTWS - WTR__"
   ]
  },
  {
   "cell_type": "code",
   "execution_count": 22,
   "metadata": {},
   "outputs": [
    {
     "name": "stdout",
     "output_type": "stream",
     "text": [
      "ADF Statistic: -3.870299\n",
      "p-value: 0.000122\n",
      "Critical Values:\n",
      "\t1%: -2.566\n",
      "\t5%: -1.941\n",
      "\t10%: -1.617\n"
     ]
    }
   ],
   "source": [
    "ols_result = sm.OLS(reshaped_ctws, reshaped_wtr).fit()    \n",
    "result = adfuller(ols_result.resid, maxlag=1, autolag='BIC', regression=\"nc\")\n",
    "print('ADF Statistic: %f' % result[0])\n",
    "print('p-value: %f' % result[1])\n",
    "print('Critical Values:')\n",
    "for key, value in result[4].items():\n",
    "\tprint('\\t%s: %.3f' % (key, value))"
   ]
  },
  {
   "cell_type": "markdown",
   "metadata": {},
   "source": [
    "__CTWS - AWR__"
   ]
  },
  {
   "cell_type": "code",
   "execution_count": 23,
   "metadata": {},
   "outputs": [
    {
     "name": "stdout",
     "output_type": "stream",
     "text": [
      "ADF Statistic: -2.767085\n",
      "p-value: 0.005513\n",
      "Critical Values:\n",
      "\t1%: -2.566\n",
      "\t5%: -1.941\n",
      "\t10%: -1.617\n"
     ]
    }
   ],
   "source": [
    "ols_result = sm.OLS(reshaped_ctws, reshaped_awr).fit()    \n",
    "result = adfuller(ols_result.resid, maxlag=1, autolag='BIC', regression=\"nc\")\n",
    "print('ADF Statistic: %f' % result[0])\n",
    "print('p-value: %f' % result[1])\n",
    "print('Critical Values:')\n",
    "for key, value in result[4].items():\n",
    "\tprint('\\t%s: %.3f' % (key, value))"
   ]
  },
  {
   "cell_type": "markdown",
   "metadata": {},
   "source": [
    "__WTR - AWR__"
   ]
  },
  {
   "cell_type": "code",
   "execution_count": 24,
   "metadata": {},
   "outputs": [
    {
     "name": "stdout",
     "output_type": "stream",
     "text": [
      "ADF Statistic: -3.229168\n",
      "p-value: 0.001248\n",
      "Critical Values:\n",
      "\t1%: -2.566\n",
      "\t5%: -1.941\n",
      "\t10%: -1.617\n"
     ]
    }
   ],
   "source": [
    "ols_result = sm.OLS(reshaped_wtr, reshaped_awr).fit()    \n",
    "result = adfuller(ols_result.resid, maxlag=1, autolag='BIC', regression=\"nc\")\n",
    "print('ADF Statistic: %f' % result[0])\n",
    "print('p-value: %f' % result[1])\n",
    "print('Critical Values:')\n",
    "for key, value in result[4].items():\n",
    "\tprint('\\t%s: %.3f' % (key, value))"
   ]
  },
  {
   "cell_type": "markdown",
   "metadata": {},
   "source": [
    "__Error Correction Model__"
   ]
  },
  {
   "cell_type": "code",
   "execution_count": 110,
   "metadata": {},
   "outputs": [],
   "source": [
    "#test = pd.concat([ctws_series.reset_index(), wtr_series.reset_index()], axis=1, join='inner')\n",
    "#test.drop(columns='index')"
   ]
  },
  {
   "cell_type": "code",
   "execution_count": 26,
   "metadata": {},
   "outputs": [],
   "source": [
    "from sklearn.linear_model import LinearRegression\n",
    "model_ctws = LinearRegression(fit_intercept=True)\n",
    "int_ctws = model_ctws.fit(reshaped_ctws, reshaped_wtr).intercept_\n",
    "coef_ctws = model_ctws.fit(reshaped_ctws, reshaped_wtr).coef_\n",
    "\n",
    "model_wtr = LinearRegression(fit_intercept=True)\n",
    "int_wtr = model_wtr.fit(reshaped_wtr, reshaped_awr).intercept_\n",
    "coef_wtr = model_wtr.fit(reshaped_wtr, reshaped_awr).coef_\n",
    "\n",
    "model_awr = LinearRegression(fit_intercept=True)\n",
    "int_awr = model_ctws.fit(reshaped_awr, reshaped_ctws).intercept_\n",
    "coef_awr = model_ctws.fit(reshaped_awr, reshaped_ctws).coef_"
   ]
  },
  {
   "cell_type": "markdown",
   "metadata": {},
   "source": [
    "__Predicted Values__"
   ]
  },
  {
   "cell_type": "code",
   "execution_count": 27,
   "metadata": {},
   "outputs": [],
   "source": [
    "rawData['predicted'] = 0.0\n",
    "predicted_value_ctws = np.empty(3020)\n",
    "for i in range(0, 3020):\n",
    "    predicted_value_ctws[i] = (int_awr[0] + (coef_awr[0,0] * awrData.loc[i+6040]['nplog']))\n",
    "    rawData.at[i, 'predicted'] = predicted_value_ctws[i-3020]"
   ]
  },
  {
   "cell_type": "code",
   "execution_count": 28,
   "metadata": {},
   "outputs": [],
   "source": [
    "predicted_value_wtr = np.empty(3020)\n",
    "for i in range(3020, 6040):\n",
    "    predicted_value_wtr[i-3020] = (int_ctws[0] + (coef_ctws[0,0] * ctwsData.loc[i-3020]['nplog']))\n",
    "    rawData.at[i, 'predicted'] = predicted_value_wtr[i-3020]"
   ]
  },
  {
   "cell_type": "code",
   "execution_count": 29,
   "metadata": {},
   "outputs": [],
   "source": [
    "predicted_value_awr = np.empty(3020)\n",
    "for i in range(6040, 9060):\n",
    "    predicted_value_awr[i-6040] = (int_wtr[0] + (coef_wtr[0,0] * wtrData.loc[i-3020]['nplog']))\n",
    "    rawData.at[i, 'predicted'] = predicted_value_awr[i-6040]"
   ]
  },
  {
   "cell_type": "markdown",
   "metadata": {},
   "source": [
    "__Difference From Predicted Values__"
   ]
  },
  {
   "cell_type": "code",
   "execution_count": 30,
   "metadata": {},
   "outputs": [],
   "source": [
    "rawData['dif_predicted'] = 0.0"
   ]
  },
  {
   "cell_type": "code",
   "execution_count": 31,
   "metadata": {},
   "outputs": [
    {
     "name": "stderr",
     "output_type": "stream",
     "text": [
      "C:\\Users\\Tyson\\Anaconda3\\lib\\site-packages\\ipykernel_launcher.py:2: SettingWithCopyWarning: \n",
      "A value is trying to be set on a copy of a slice from a DataFrame\n",
      "\n",
      "See the caveats in the documentation: http://pandas.pydata.org/pandas-docs/stable/indexing.html#indexing-view-versus-copy\n",
      "  \n"
     ]
    }
   ],
   "source": [
    "for i in range(0, 9060):\n",
    "    rawData['dif_predicted'][i] = rawData['nplog'][i] - rawData['predicted'][i]"
   ]
  },
  {
   "cell_type": "code",
   "execution_count": 32,
   "metadata": {},
   "outputs": [],
   "source": [
    "permno = [26463, 52898, 71475]\n",
    "\n",
    "ind = rawData.PERMNO == permno[0]\n",
    "ctwsData = rawData[ind]\n",
    "\n",
    "ind = rawData.PERMNO == permno[1]\n",
    "wtrData = rawData[ind]\n",
    "\n",
    "ind = rawData.PERMNO == permno[2]\n",
    "awrData = rawData[ind]"
   ]
  },
  {
   "cell_type": "markdown",
   "metadata": {},
   "source": [
    "__WTR & CTWS Strategy__"
   ]
  },
  {
   "cell_type": "code",
   "execution_count": 34,
   "metadata": {},
   "outputs": [],
   "source": [
    "multiple = [0.25, 0.50, 0.75]"
   ]
  },
  {
   "cell_type": "markdown",
   "metadata": {},
   "source": [
    "__WTR Bounds__"
   ]
  },
  {
   "cell_type": "code",
   "execution_count": 112,
   "metadata": {},
   "outputs": [
    {
     "data": {
      "text/plain": [
       "0.10557823087613721"
      ]
     },
     "execution_count": 112,
     "metadata": {},
     "output_type": "execute_result"
    }
   ],
   "source": [
    "e_wtr = np.sqrt(np.var((wtrData.dif_predicted)))\n",
    "np.mean(np.abs(wtrData.dif_predicted))"
   ]
  },
  {
   "cell_type": "code",
   "execution_count": 113,
   "metadata": {},
   "outputs": [],
   "source": [
    "upper_bound_25_wtr = multiple[0] * e_wtr\n",
    "lower_bound_25_wtr = -multiple[0] * e_wtr\n",
    "upper_bound_50_wtr = multiple[1] * e_wtr\n",
    "lower_bound_50_wtr = -multiple[1] * e_wtr\n",
    "upper_bound_75_wtr = multiple[2] * e_wtr\n",
    "lower_bound_75_wtr = -multiple[2] * e_wtr"
   ]
  },
  {
   "cell_type": "markdown",
   "metadata": {},
   "source": [
    "__CTWS Bounds__"
   ]
  },
  {
   "cell_type": "code",
   "execution_count": 114,
   "metadata": {},
   "outputs": [
    {
     "data": {
      "text/plain": [
       "0.09324405069520635"
      ]
     },
     "execution_count": 114,
     "metadata": {},
     "output_type": "execute_result"
    }
   ],
   "source": [
    "e_ctws = np.sqrt(np.var((ctwsData.dif_predicted)))\n",
    "np.mean(np.abs(ctwsData.dif_predicted))"
   ]
  },
  {
   "cell_type": "code",
   "execution_count": 115,
   "metadata": {},
   "outputs": [],
   "source": [
    "upper_bound_25_ctws = multiple[0] * e_ctws\n",
    "lower_bound_25_ctws = -multiple[0] * e_ctws\n",
    "upper_bound_50_ctws = multiple[1] * e_ctws\n",
    "lower_bound_50_ctws = -multiple[1] * e_ctws\n",
    "upper_bound_75_ctws = multiple[2] * e_ctws\n",
    "lower_bound_75_ctws = -multiple[2] * e_ctws"
   ]
  },
  {
   "cell_type": "markdown",
   "metadata": {},
   "source": [
    "__Amount of Shares to Short__"
   ]
  },
  {
   "cell_type": "code",
   "execution_count": 116,
   "metadata": {},
   "outputs": [],
   "source": [
    "short_wtr_on_ctws = np.empty(3020)\n",
    "for i in range(0, 3020):\n",
    "    short_wtr_on_ctws[i] = 1000 * (ctwsData.nplog[i]/wtrData.nplog[i+3020])"
   ]
  },
  {
   "cell_type": "code",
   "execution_count": 117,
   "metadata": {},
   "outputs": [],
   "source": [
    "short_ctws_on_wtr = np.empty(3020)\n",
    "for i in range(0, 3020):\n",
    "    short_ctws_on_wtr[i] = 1000 * (wtrData.nplog[i+3020]/ctwsData.nplog[i])"
   ]
  },
  {
   "cell_type": "markdown",
   "metadata": {},
   "source": [
    "__Long CTWS Short WTR__"
   ]
  },
  {
   "cell_type": "code",
   "execution_count": 118,
   "metadata": {},
   "outputs": [
    {
     "name": "stderr",
     "output_type": "stream",
     "text": [
      "C:\\Users\\Tyson\\Anaconda3\\lib\\site-packages\\ipykernel_launcher.py:5: SettingWithCopyWarning: \n",
      "A value is trying to be set on a copy of a slice from a DataFrame\n",
      "\n",
      "See the caveats in the documentation: http://pandas.pydata.org/pandas-docs/stable/indexing.html#indexing-view-versus-copy\n",
      "  \"\"\"\n",
      "C:\\Users\\Tyson\\Anaconda3\\lib\\site-packages\\pandas\\core\\indexing.py:189: SettingWithCopyWarning: \n",
      "A value is trying to be set on a copy of a slice from a DataFrame\n",
      "\n",
      "See the caveats in the documentation: http://pandas.pydata.org/pandas-docs/stable/indexing.html#indexing-view-versus-copy\n",
      "  self._setitem_with_indexer(indexer, value)\n",
      "C:\\Users\\Tyson\\Anaconda3\\lib\\site-packages\\ipykernel_launcher.py:12: SettingWithCopyWarning: \n",
      "A value is trying to be set on a copy of a slice from a DataFrame\n",
      "\n",
      "See the caveats in the documentation: http://pandas.pydata.org/pandas-docs/stable/indexing.html#indexing-view-versus-copy\n",
      "  if sys.path[0] == '':\n",
      "C:\\Users\\Tyson\\Anaconda3\\lib\\site-packages\\ipykernel_launcher.py:19: SettingWithCopyWarning: \n",
      "A value is trying to be set on a copy of a slice from a DataFrame\n",
      "\n",
      "See the caveats in the documentation: http://pandas.pydata.org/pandas-docs/stable/indexing.html#indexing-view-versus-copy\n",
      "C:\\Users\\Tyson\\Anaconda3\\lib\\site-packages\\ipykernel_launcher.py:23: SettingWithCopyWarning: \n",
      "A value is trying to be set on a copy of a slice from a DataFrame\n",
      "\n",
      "See the caveats in the documentation: http://pandas.pydata.org/pandas-docs/stable/indexing.html#indexing-view-versus-copy\n",
      "C:\\Users\\Tyson\\Anaconda3\\lib\\site-packages\\ipykernel_launcher.py:25: SettingWithCopyWarning: \n",
      "A value is trying to be set on a copy of a slice from a DataFrame\n",
      "\n",
      "See the caveats in the documentation: http://pandas.pydata.org/pandas-docs/stable/indexing.html#indexing-view-versus-copy\n",
      "C:\\Users\\Tyson\\Anaconda3\\lib\\site-packages\\ipykernel_launcher.py:14: SettingWithCopyWarning: \n",
      "A value is trying to be set on a copy of a slice from a DataFrame\n",
      "\n",
      "See the caveats in the documentation: http://pandas.pydata.org/pandas-docs/stable/indexing.html#indexing-view-versus-copy\n",
      "  \n"
     ]
    }
   ],
   "source": [
    "rawData['Buy'] = 0\n",
    "\n",
    "for i in range(0, 1):\n",
    "    if rawData['dif_predicted'][i] > upper_bound_25_ctws:\n",
    "        rawData['Buy'][i] = 'YES'\n",
    "    else:\n",
    "        rawData['Buy'][i] = 'NO'\n",
    "\n",
    "for i in range(1, 3020):\n",
    "    if rawData['dif_predicted'][i] > upper_bound_25_ctws:\n",
    "        if rawData['Buy'][i-1] in ('YES', 'HOLD BUY'):\n",
    "            rawData['Buy'][i] = 'HOLD BUY'\n",
    "        else:\n",
    "            rawData['Buy'][i] = 'YES'\n",
    "    else:\n",
    "        if rawData['Buy'][i-1] in ('YES', 'HOLD BUY'):\n",
    "            if rawData['dif_predicted'][i] > 0:\n",
    "                if rawData['Buy'][i-1] in ('YES', 'HOLD BUY'):\n",
    "                    rawData['Buy'][i] = 'HOLD BUY'\n",
    "                else:\n",
    "                    rawData['Buy'][i] = 'NO'\n",
    "            else:\n",
    "                    rawData['Buy'][i] = 'EXIT BUY'\n",
    "        else:\n",
    "            rawData['Buy'][i] = 'NO'"
   ]
  },
  {
   "cell_type": "markdown",
   "metadata": {},
   "source": [
    "__Long CTWS Results__"
   ]
  },
  {
   "cell_type": "code",
   "execution_count": 122,
   "metadata": {},
   "outputs": [],
   "source": [
    "ctws_buy = rawData.loc[rawData['Buy'] == 'YES']\n",
    "ctws_exit_buy = rawData.loc[rawData['Buy'] == 'EXIT BUY']"
   ]
  },
  {
   "cell_type": "code",
   "execution_count": 123,
   "metadata": {},
   "outputs": [],
   "source": [
    "n = ctws_exit_buy.nplog.count()\n",
    "ctws_buy_gains = np.empty(n)\n",
    "\n",
    "for i in range(0, n):\n",
    "    ctws_buy_gains[i] = (ctws_buy.PRC.values[i] - ctws_exit_buy.PRC.values[i]) / ctws_buy.PRC.values[i]"
   ]
  },
  {
   "cell_type": "code",
   "execution_count": 38,
   "metadata": {},
   "outputs": [
    {
     "name": "stderr",
     "output_type": "stream",
     "text": [
      "C:\\Users\\Tyson\\Anaconda3\\lib\\site-packages\\ipykernel_launcher.py:5: SettingWithCopyWarning: \n",
      "A value is trying to be set on a copy of a slice from a DataFrame\n",
      "\n",
      "See the caveats in the documentation: http://pandas.pydata.org/pandas-docs/stable/indexing.html#indexing-view-versus-copy\n",
      "  \"\"\"\n",
      "C:\\Users\\Tyson\\Anaconda3\\lib\\site-packages\\pandas\\core\\indexing.py:189: SettingWithCopyWarning: \n",
      "A value is trying to be set on a copy of a slice from a DataFrame\n",
      "\n",
      "See the caveats in the documentation: http://pandas.pydata.org/pandas-docs/stable/indexing.html#indexing-view-versus-copy\n",
      "  self._setitem_with_indexer(indexer, value)\n",
      "C:\\Users\\Tyson\\Anaconda3\\lib\\site-packages\\ipykernel_launcher.py:12: SettingWithCopyWarning: \n",
      "A value is trying to be set on a copy of a slice from a DataFrame\n",
      "\n",
      "See the caveats in the documentation: http://pandas.pydata.org/pandas-docs/stable/indexing.html#indexing-view-versus-copy\n",
      "  if sys.path[0] == '':\n",
      "C:\\Users\\Tyson\\Anaconda3\\lib\\site-packages\\ipykernel_launcher.py:19: SettingWithCopyWarning: \n",
      "A value is trying to be set on a copy of a slice from a DataFrame\n",
      "\n",
      "See the caveats in the documentation: http://pandas.pydata.org/pandas-docs/stable/indexing.html#indexing-view-versus-copy\n",
      "C:\\Users\\Tyson\\Anaconda3\\lib\\site-packages\\ipykernel_launcher.py:23: SettingWithCopyWarning: \n",
      "A value is trying to be set on a copy of a slice from a DataFrame\n",
      "\n",
      "See the caveats in the documentation: http://pandas.pydata.org/pandas-docs/stable/indexing.html#indexing-view-versus-copy\n",
      "C:\\Users\\Tyson\\Anaconda3\\lib\\site-packages\\ipykernel_launcher.py:25: SettingWithCopyWarning: \n",
      "A value is trying to be set on a copy of a slice from a DataFrame\n",
      "\n",
      "See the caveats in the documentation: http://pandas.pydata.org/pandas-docs/stable/indexing.html#indexing-view-versus-copy\n",
      "C:\\Users\\Tyson\\Anaconda3\\lib\\site-packages\\ipykernel_launcher.py:14: SettingWithCopyWarning: \n",
      "A value is trying to be set on a copy of a slice from a DataFrame\n",
      "\n",
      "See the caveats in the documentation: http://pandas.pydata.org/pandas-docs/stable/indexing.html#indexing-view-versus-copy\n",
      "  \n"
     ]
    }
   ],
   "source": [
    "rawData['Sell'] = 0\n",
    "\n",
    "for i in range(3020, 3021):\n",
    "    if rawData['dif_predicted'][i] < lower_bound_25_wtr:\n",
    "        rawData['Sell'][i] = 'YES'\n",
    "    else:\n",
    "        rawData['Sell'][i] = 'NO'\n",
    "\n",
    "for i in range(3021, 6040):\n",
    "    if rawData['dif_predicted'][i] < lower_bound_25_wtr:\n",
    "        if rawData['Sell'][i-1] in ('YES', 'HOLD SELL'):\n",
    "            rawData['Sell'][i] = 'HOLD SELL'\n",
    "        else:\n",
    "            rawData['Sell'][i] = 'YES'\n",
    "    else:\n",
    "        if rawData['Sell'][i-1] in ('YES', 'HOLD SELL'):\n",
    "            if rawData['dif_predicted'][i] < 0:\n",
    "                if rawData['Sell'][i-1] in ('YES', 'HOLD SELL'):\n",
    "                    rawData['Sell'][i] = 'HOLD SELL'\n",
    "                else:\n",
    "                    rawData['Sell'][i] = 'NO'\n",
    "            else:\n",
    "                    rawData['Sell'][i] = 'EXIT SELL'\n",
    "        else:\n",
    "            rawData['Sell'][i] = 'NO'"
   ]
  },
  {
   "cell_type": "markdown",
   "metadata": {},
   "source": [
    "__Short WTR Results__"
   ]
  },
  {
   "cell_type": "code",
   "execution_count": 124,
   "metadata": {},
   "outputs": [],
   "source": [
    "wtr_sell = rawData.loc[rawData['Sell'] == 'YES']\n",
    "wtr_exit_sell = rawData.loc[rawData['Sell'] == 'EXIT SELL']"
   ]
  },
  {
   "cell_type": "code",
   "execution_count": 125,
   "metadata": {},
   "outputs": [],
   "source": [
    "n = wtr_exit_sell.nplog.count()\n",
    "wtr_sell_gains = np.empty(n)\n",
    "\n",
    "for i in range(0, n):\n",
    "    wtr_sell_gains[i] = (wtr_sell.PRC.values[i] - wtr_exit_sell.PRC.values[i]) / wtr_sell.PRC.values[i]"
   ]
  },
  {
   "cell_type": "markdown",
   "metadata": {},
   "source": [
    "__Long WTR Short CTWS__"
   ]
  },
  {
   "cell_type": "code",
   "execution_count": 39,
   "metadata": {},
   "outputs": [
    {
     "name": "stderr",
     "output_type": "stream",
     "text": [
      "C:\\Users\\Tyson\\Anaconda3\\lib\\site-packages\\ipykernel_launcher.py:7: SettingWithCopyWarning: \n",
      "A value is trying to be set on a copy of a slice from a DataFrame\n",
      "\n",
      "See the caveats in the documentation: http://pandas.pydata.org/pandas-docs/stable/indexing.html#indexing-view-versus-copy\n",
      "  import sys\n",
      "C:\\Users\\Tyson\\Anaconda3\\lib\\site-packages\\pandas\\core\\indexing.py:189: SettingWithCopyWarning: \n",
      "A value is trying to be set on a copy of a slice from a DataFrame\n",
      "\n",
      "See the caveats in the documentation: http://pandas.pydata.org/pandas-docs/stable/indexing.html#indexing-view-versus-copy\n",
      "  self._setitem_with_indexer(indexer, value)\n",
      "C:\\Users\\Tyson\\Anaconda3\\lib\\site-packages\\ipykernel_launcher.py:25: SettingWithCopyWarning: \n",
      "A value is trying to be set on a copy of a slice from a DataFrame\n",
      "\n",
      "See the caveats in the documentation: http://pandas.pydata.org/pandas-docs/stable/indexing.html#indexing-view-versus-copy\n",
      "C:\\Users\\Tyson\\Anaconda3\\lib\\site-packages\\ipykernel_launcher.py:14: SettingWithCopyWarning: \n",
      "A value is trying to be set on a copy of a slice from a DataFrame\n",
      "\n",
      "See the caveats in the documentation: http://pandas.pydata.org/pandas-docs/stable/indexing.html#indexing-view-versus-copy\n",
      "  \n",
      "C:\\Users\\Tyson\\Anaconda3\\lib\\site-packages\\ipykernel_launcher.py:12: SettingWithCopyWarning: \n",
      "A value is trying to be set on a copy of a slice from a DataFrame\n",
      "\n",
      "See the caveats in the documentation: http://pandas.pydata.org/pandas-docs/stable/indexing.html#indexing-view-versus-copy\n",
      "  if sys.path[0] == '':\n",
      "C:\\Users\\Tyson\\Anaconda3\\lib\\site-packages\\ipykernel_launcher.py:19: SettingWithCopyWarning: \n",
      "A value is trying to be set on a copy of a slice from a DataFrame\n",
      "\n",
      "See the caveats in the documentation: http://pandas.pydata.org/pandas-docs/stable/indexing.html#indexing-view-versus-copy\n",
      "C:\\Users\\Tyson\\Anaconda3\\lib\\site-packages\\ipykernel_launcher.py:23: SettingWithCopyWarning: \n",
      "A value is trying to be set on a copy of a slice from a DataFrame\n",
      "\n",
      "See the caveats in the documentation: http://pandas.pydata.org/pandas-docs/stable/indexing.html#indexing-view-versus-copy\n"
     ]
    }
   ],
   "source": [
    "rawData['Buy'] = 0\n",
    "\n",
    "for i in range(3020, 3021):\n",
    "    if rawData['dif_predicted'][i] > upper_bound_25_wtr:\n",
    "        rawData['Buy'][i] = 'YES'\n",
    "    else:\n",
    "        rawData['Buy'][i] = 'NO'\n",
    "\n",
    "for i in range(3021, 6040):\n",
    "    if rawData['dif_predicted'][i] > upper_bound_25_wtr:\n",
    "        if rawData['Buy'][i-1] in ('YES', 'HOLD BUY'):\n",
    "            rawData['Buy'][i] = 'HOLD BUY'\n",
    "        else:\n",
    "            rawData['Buy'][i] = 'YES'\n",
    "    else:\n",
    "        if rawData['Buy'][i-1] in ('YES', 'HOLD BUY'):\n",
    "            if rawData['dif_predicted'][i] > 0:\n",
    "                if rawData['Buy'][i-1] in ('YES', 'HOLD BUY'):\n",
    "                    rawData['Buy'][i] = 'HOLD BUY'\n",
    "                else:\n",
    "                    rawData['Buy'][i] = 'NO'\n",
    "            else:\n",
    "                    rawData['Buy'][i] = 'EXIT BUY'\n",
    "        else:\n",
    "            rawData['Buy'][i] = 'NO'"
   ]
  },
  {
   "cell_type": "markdown",
   "metadata": {},
   "source": [
    "__Long WTR Results__"
   ]
  },
  {
   "cell_type": "code",
   "execution_count": 126,
   "metadata": {},
   "outputs": [],
   "source": [
    "wtr_buy = rawData.loc[rawData['Buy'] == 'YES']\n",
    "wtr_exit_buy = rawData.loc[rawData['Buy'] == 'EXIT BUY']"
   ]
  },
  {
   "cell_type": "code",
   "execution_count": 127,
   "metadata": {},
   "outputs": [],
   "source": [
    "n = wtr_exit_buy.nplog.count()\n",
    "wtr_buy_gains = np.empty(n)\n",
    "\n",
    "for i in range(0, n):\n",
    "    wtr_buy_gains[i] = (wtr_buy.PRC.values[i] - wtr_exit_buy.PRC.values[i]) / wtr_buy.PRC.values[i]"
   ]
  },
  {
   "cell_type": "code",
   "execution_count": 119,
   "metadata": {},
   "outputs": [
    {
     "name": "stderr",
     "output_type": "stream",
     "text": [
      "C:\\Users\\Tyson\\Anaconda3\\lib\\site-packages\\ipykernel_launcher.py:7: SettingWithCopyWarning: \n",
      "A value is trying to be set on a copy of a slice from a DataFrame\n",
      "\n",
      "See the caveats in the documentation: http://pandas.pydata.org/pandas-docs/stable/indexing.html#indexing-view-versus-copy\n",
      "  import sys\n",
      "C:\\Users\\Tyson\\Anaconda3\\lib\\site-packages\\pandas\\core\\indexing.py:189: SettingWithCopyWarning: \n",
      "A value is trying to be set on a copy of a slice from a DataFrame\n",
      "\n",
      "See the caveats in the documentation: http://pandas.pydata.org/pandas-docs/stable/indexing.html#indexing-view-versus-copy\n",
      "  self._setitem_with_indexer(indexer, value)\n",
      "C:\\Users\\Tyson\\Anaconda3\\lib\\site-packages\\ipykernel_launcher.py:14: SettingWithCopyWarning: \n",
      "A value is trying to be set on a copy of a slice from a DataFrame\n",
      "\n",
      "See the caveats in the documentation: http://pandas.pydata.org/pandas-docs/stable/indexing.html#indexing-view-versus-copy\n",
      "  \n",
      "C:\\Users\\Tyson\\Anaconda3\\lib\\site-packages\\ipykernel_launcher.py:12: SettingWithCopyWarning: \n",
      "A value is trying to be set on a copy of a slice from a DataFrame\n",
      "\n",
      "See the caveats in the documentation: http://pandas.pydata.org/pandas-docs/stable/indexing.html#indexing-view-versus-copy\n",
      "  if sys.path[0] == '':\n",
      "C:\\Users\\Tyson\\Anaconda3\\lib\\site-packages\\ipykernel_launcher.py:19: SettingWithCopyWarning: \n",
      "A value is trying to be set on a copy of a slice from a DataFrame\n",
      "\n",
      "See the caveats in the documentation: http://pandas.pydata.org/pandas-docs/stable/indexing.html#indexing-view-versus-copy\n",
      "C:\\Users\\Tyson\\Anaconda3\\lib\\site-packages\\ipykernel_launcher.py:23: SettingWithCopyWarning: \n",
      "A value is trying to be set on a copy of a slice from a DataFrame\n",
      "\n",
      "See the caveats in the documentation: http://pandas.pydata.org/pandas-docs/stable/indexing.html#indexing-view-versus-copy\n",
      "C:\\Users\\Tyson\\Anaconda3\\lib\\site-packages\\ipykernel_launcher.py:25: SettingWithCopyWarning: \n",
      "A value is trying to be set on a copy of a slice from a DataFrame\n",
      "\n",
      "See the caveats in the documentation: http://pandas.pydata.org/pandas-docs/stable/indexing.html#indexing-view-versus-copy\n"
     ]
    }
   ],
   "source": [
    "rawData['Sell'] = 0\n",
    "\n",
    "for i in range(0, 1):\n",
    "    if rawData['dif_predicted'][i] < lower_bound_25_ctws:\n",
    "        rawData['Sell'][i] = 'YES'\n",
    "    else:\n",
    "        rawData['Sell'][i] = 'NO'\n",
    "\n",
    "for i in range(3021, 6040):\n",
    "    if rawData['dif_predicted'][i] < lower_bound_25_ctws:\n",
    "        if rawData['Sell'][i-1] in ('YES', 'HOLD SELL'):\n",
    "            rawData['Sell'][i] = 'HOLD SELL'\n",
    "        else:\n",
    "            rawData['Sell'][i] = 'YES'\n",
    "    else:\n",
    "        if rawData['Sell'][i-1] in ('YES', 'HOLD SELL'):\n",
    "            if rawData['dif_predicted'][i] < 0:\n",
    "                if rawData['Sell'][i-1] in ('YES', 'HOLD SELL'):\n",
    "                    rawData['Sell'][i] = 'HOLD SELL'\n",
    "                else:\n",
    "                    rawData['Sell'][i] = 'NO'\n",
    "            else:\n",
    "                    rawData['Sell'][i] = 'EXIT SELL'\n",
    "        else:\n",
    "            rawData['Sell'][i] = 'NO'"
   ]
  },
  {
   "cell_type": "markdown",
   "metadata": {},
   "source": [
    "__Short CTWS Results__"
   ]
  },
  {
   "cell_type": "code",
   "execution_count": 120,
   "metadata": {},
   "outputs": [],
   "source": [
    "ctws_sell = rawData.loc[rawData['Sell'] == 'YES']\n",
    "ctws_exit_sell = rawData.loc[rawData['Sell'] == 'EXIT SELL']"
   ]
  },
  {
   "cell_type": "code",
   "execution_count": 121,
   "metadata": {},
   "outputs": [],
   "source": [
    "n = ctws_exit_sell.nplog.count()\n",
    "ctws_sell_gains = np.empty(n)\n",
    "\n",
    "for i in range(0, n):\n",
    "    ctws_sell_gains[i] = (ctws_sell.PRC.values[i] - ctws_exit_sell.PRC.values[i]) / ctws_sell.PRC.values[i]"
   ]
  },
  {
   "cell_type": "code",
   "execution_count": 130,
   "metadata": {},
   "outputs": [],
   "source": [
    "data = [['L_CTWS', ctws_buy.nplog.count(), ctws_buy_gains.mean(), ctws_buy_gains.std(), 0, ctws_buy_gains.max(), ctws_buy_gains.min(), ctws_buy_gains.sum(), '-'],\\\n",
    "['S_WTR', wtr_sell.nplog.count(), wtr_sell_gains.mean(), wtr_sell_gains.std(), 0, wtr_sell_gains.max(), wtr_sell_gains.min(), wtr_sell_gains.sum(), '-'], \\\n",
    "['L_WTR', wtr_buy.nplog.count(), wtr_buy_gains.mean(), wtr_buy_gains.std(), 0, wtr_buy_gains.max(), wtr_buy_gains.min(), wtr_buy_gains.sum(), '-'],\\\n",
    "['S_CTWS', ctws_sell.nplog.count(), ctws_sell_gains.mean(), ctws_sell_gains.std(), 0, ctws_sell_gains.max(), ctws_sell_gains.min(), ctws_sell_gains.sum(), ctws_buy_gains.sum() + wtr_sell_gains.sum() + wtr_buy_gains.sum() + ctws_sell_gains.sum()]] \n",
    "  \n",
    "results = pd.DataFrame(data, columns = ['Position', 'Count', 'Mean', 'St. Dev', 'Median', 'Max', 'Min', 'Position Total', 'Strategy Total']) "
   ]
  },
  {
   "cell_type": "code",
   "execution_count": 131,
   "metadata": {},
   "outputs": [
    {
     "data": {
      "text/html": [
       "<div>\n",
       "<style scoped>\n",
       "    .dataframe tbody tr th:only-of-type {\n",
       "        vertical-align: middle;\n",
       "    }\n",
       "\n",
       "    .dataframe tbody tr th {\n",
       "        vertical-align: top;\n",
       "    }\n",
       "\n",
       "    .dataframe thead th {\n",
       "        text-align: right;\n",
       "    }\n",
       "</style>\n",
       "<table border=\"1\" class=\"dataframe\">\n",
       "  <thead>\n",
       "    <tr style=\"text-align: right;\">\n",
       "      <th></th>\n",
       "      <th>Position</th>\n",
       "      <th>Count</th>\n",
       "      <th>Mean</th>\n",
       "      <th>St. Dev</th>\n",
       "      <th>Median</th>\n",
       "      <th>Max</th>\n",
       "      <th>Min</th>\n",
       "      <th>Position Total</th>\n",
       "      <th>Strategy Total</th>\n",
       "    </tr>\n",
       "  </thead>\n",
       "  <tbody>\n",
       "    <tr>\n",
       "      <th>0</th>\n",
       "      <td>L_CTWS</td>\n",
       "      <td>31</td>\n",
       "      <td>0.055750</td>\n",
       "      <td>0.021524</td>\n",
       "      <td>0</td>\n",
       "      <td>0.119862</td>\n",
       "      <td>0.021739</td>\n",
       "      <td>1.728249</td>\n",
       "      <td>-</td>\n",
       "    </tr>\n",
       "    <tr>\n",
       "      <th>1</th>\n",
       "      <td>S_WTR</td>\n",
       "      <td>34</td>\n",
       "      <td>-0.065089</td>\n",
       "      <td>0.039385</td>\n",
       "      <td>0</td>\n",
       "      <td>-0.036919</td>\n",
       "      <td>-0.236246</td>\n",
       "      <td>-2.147935</td>\n",
       "      <td>-</td>\n",
       "    </tr>\n",
       "    <tr>\n",
       "      <th>2</th>\n",
       "      <td>L_WTR</td>\n",
       "      <td>31</td>\n",
       "      <td>0.055750</td>\n",
       "      <td>0.021524</td>\n",
       "      <td>0</td>\n",
       "      <td>0.119862</td>\n",
       "      <td>0.021739</td>\n",
       "      <td>1.728249</td>\n",
       "      <td>-</td>\n",
       "    </tr>\n",
       "    <tr>\n",
       "      <th>3</th>\n",
       "      <td>S_CTWS</td>\n",
       "      <td>34</td>\n",
       "      <td>-0.065089</td>\n",
       "      <td>0.039385</td>\n",
       "      <td>0</td>\n",
       "      <td>-0.036919</td>\n",
       "      <td>-0.236246</td>\n",
       "      <td>-2.147935</td>\n",
       "      <td>-0.839372</td>\n",
       "    </tr>\n",
       "  </tbody>\n",
       "</table>\n",
       "</div>"
      ],
      "text/plain": [
       "  Position  Count      Mean   St. Dev  Median       Max       Min  \\\n",
       "0   L_CTWS     31  0.055750  0.021524       0  0.119862  0.021739   \n",
       "1    S_WTR     34 -0.065089  0.039385       0 -0.036919 -0.236246   \n",
       "2    L_WTR     31  0.055750  0.021524       0  0.119862  0.021739   \n",
       "3   S_CTWS     34 -0.065089  0.039385       0 -0.036919 -0.236246   \n",
       "\n",
       "   Position Total Strategy Total  \n",
       "0        1.728249              -  \n",
       "1       -2.147935              -  \n",
       "2        1.728249              -  \n",
       "3       -2.147935      -0.839372  "
      ]
     },
     "execution_count": 131,
     "metadata": {},
     "output_type": "execute_result"
    }
   ],
   "source": [
    "results"
   ]
  },
  {
   "cell_type": "code",
   "execution_count": null,
   "metadata": {},
   "outputs": [],
   "source": []
  }
 ],
 "metadata": {
  "kernelspec": {
   "display_name": "Python 3",
   "language": "python",
   "name": "python3"
  },
  "language_info": {
   "codemirror_mode": {
    "name": "ipython",
    "version": 3
   },
   "file_extension": ".py",
   "mimetype": "text/x-python",
   "name": "python",
   "nbconvert_exporter": "python",
   "pygments_lexer": "ipython3",
   "version": "3.6.5"
  }
 },
 "nbformat": 4,
 "nbformat_minor": 2
}
