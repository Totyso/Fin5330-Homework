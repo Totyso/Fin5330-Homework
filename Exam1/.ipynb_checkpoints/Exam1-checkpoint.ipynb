{
 "cells": [
  {
   "cell_type": "code",
   "execution_count": 91,
   "metadata": {},
   "outputs": [],
   "source": [
    "import numpy as np\n",
    "import pandas as pd\n",
    "import matplotlib.pyplot as plt\n",
    "import statsmodels.api as sm\n",
    "from statsmodels.tsa.stattools import coint\n",
    "from datetime import datetime\n",
    "from scipy import stats"
   ]
  },
  {
   "cell_type": "code",
   "execution_count": 92,
   "metadata": {},
   "outputs": [
    {
     "data": {
      "text/html": [
       "<div>\n",
       "<style scoped>\n",
       "    .dataframe tbody tr th:only-of-type {\n",
       "        vertical-align: middle;\n",
       "    }\n",
       "\n",
       "    .dataframe tbody tr th {\n",
       "        vertical-align: top;\n",
       "    }\n",
       "\n",
       "    .dataframe thead th {\n",
       "        text-align: right;\n",
       "    }\n",
       "</style>\n",
       "<table border=\"1\" class=\"dataframe\">\n",
       "  <thead>\n",
       "    <tr style=\"text-align: right;\">\n",
       "      <th></th>\n",
       "      <th>PERMNO</th>\n",
       "      <th>date</th>\n",
       "      <th>TICKER</th>\n",
       "      <th>COMNAM</th>\n",
       "      <th>PERMCO</th>\n",
       "      <th>BIDLO</th>\n",
       "      <th>ASKHI</th>\n",
       "      <th>PRC</th>\n",
       "      <th>VOL</th>\n",
       "      <th>RET</th>\n",
       "      <th>...</th>\n",
       "      <th>SHROUT</th>\n",
       "      <th>OPENPRC</th>\n",
       "      <th>NUMTRD</th>\n",
       "      <th>RETX</th>\n",
       "      <th>vwretd</th>\n",
       "      <th>vwretx</th>\n",
       "      <th>ewretd</th>\n",
       "      <th>ewretx</th>\n",
       "      <th>sprtrn</th>\n",
       "      <th>nplog</th>\n",
       "    </tr>\n",
       "  </thead>\n",
       "  <tbody>\n",
       "    <tr>\n",
       "      <th>0</th>\n",
       "      <td>26463</td>\n",
       "      <td>19970102</td>\n",
       "      <td>CTWS</td>\n",
       "      <td>CONNECTICUT WATER SERVICE INC</td>\n",
       "      <td>1191</td>\n",
       "      <td>29.000</td>\n",
       "      <td>30.0</td>\n",
       "      <td>29.25</td>\n",
       "      <td>1216</td>\n",
       "      <td>0.000000</td>\n",
       "      <td>...</td>\n",
       "      <td>3011</td>\n",
       "      <td>29.250</td>\n",
       "      <td>6.0</td>\n",
       "      <td>0.000000</td>\n",
       "      <td>-0.007358</td>\n",
       "      <td>-0.007403</td>\n",
       "      <td>0.001325</td>\n",
       "      <td>0.001294</td>\n",
       "      <td>-0.005036</td>\n",
       "      <td>3.375880</td>\n",
       "    </tr>\n",
       "    <tr>\n",
       "      <th>1</th>\n",
       "      <td>26463</td>\n",
       "      <td>19970103</td>\n",
       "      <td>CTWS</td>\n",
       "      <td>CONNECTICUT WATER SERVICE INC</td>\n",
       "      <td>1191</td>\n",
       "      <td>29.250</td>\n",
       "      <td>30.0</td>\n",
       "      <td>29.25</td>\n",
       "      <td>1850</td>\n",
       "      <td>0.000000</td>\n",
       "      <td>...</td>\n",
       "      <td>3011</td>\n",
       "      <td>30.000</td>\n",
       "      <td>5.0</td>\n",
       "      <td>0.000000</td>\n",
       "      <td>0.013491</td>\n",
       "      <td>0.013451</td>\n",
       "      <td>0.012477</td>\n",
       "      <td>0.012428</td>\n",
       "      <td>0.014952</td>\n",
       "      <td>3.375880</td>\n",
       "    </tr>\n",
       "    <tr>\n",
       "      <th>2</th>\n",
       "      <td>26463</td>\n",
       "      <td>19970106</td>\n",
       "      <td>CTWS</td>\n",
       "      <td>CONNECTICUT WATER SERVICE INC</td>\n",
       "      <td>1191</td>\n",
       "      <td>29.250</td>\n",
       "      <td>30.0</td>\n",
       "      <td>29.25</td>\n",
       "      <td>3226</td>\n",
       "      <td>0.000000</td>\n",
       "      <td>...</td>\n",
       "      <td>3011</td>\n",
       "      <td>29.250</td>\n",
       "      <td>8.0</td>\n",
       "      <td>0.000000</td>\n",
       "      <td>0.000697</td>\n",
       "      <td>0.000680</td>\n",
       "      <td>0.005099</td>\n",
       "      <td>0.005086</td>\n",
       "      <td>-0.000508</td>\n",
       "      <td>3.375880</td>\n",
       "    </tr>\n",
       "    <tr>\n",
       "      <th>3</th>\n",
       "      <td>26463</td>\n",
       "      <td>19970107</td>\n",
       "      <td>CTWS</td>\n",
       "      <td>CONNECTICUT WATER SERVICE INC</td>\n",
       "      <td>1191</td>\n",
       "      <td>29.125</td>\n",
       "      <td>30.0</td>\n",
       "      <td>29.75</td>\n",
       "      <td>2233</td>\n",
       "      <td>0.017094</td>\n",
       "      <td>...</td>\n",
       "      <td>3011</td>\n",
       "      <td>29.125</td>\n",
       "      <td>5.0</td>\n",
       "      <td>0.017094</td>\n",
       "      <td>0.007357</td>\n",
       "      <td>0.007305</td>\n",
       "      <td>0.007338</td>\n",
       "      <td>0.007329</td>\n",
       "      <td>0.007463</td>\n",
       "      <td>3.392829</td>\n",
       "    </tr>\n",
       "    <tr>\n",
       "      <th>4</th>\n",
       "      <td>26463</td>\n",
       "      <td>19970108</td>\n",
       "      <td>CTWS</td>\n",
       "      <td>CONNECTICUT WATER SERVICE INC</td>\n",
       "      <td>1191</td>\n",
       "      <td>29.125</td>\n",
       "      <td>30.0</td>\n",
       "      <td>30.00</td>\n",
       "      <td>2252</td>\n",
       "      <td>0.008403</td>\n",
       "      <td>...</td>\n",
       "      <td>3011</td>\n",
       "      <td>29.125</td>\n",
       "      <td>6.0</td>\n",
       "      <td>0.008403</td>\n",
       "      <td>-0.003754</td>\n",
       "      <td>-0.003971</td>\n",
       "      <td>0.004376</td>\n",
       "      <td>0.004304</td>\n",
       "      <td>-0.006399</td>\n",
       "      <td>3.401197</td>\n",
       "    </tr>\n",
       "  </tbody>\n",
       "</table>\n",
       "<p>5 rows × 22 columns</p>\n",
       "</div>"
      ],
      "text/plain": [
       "   PERMNO      date TICKER                         COMNAM  PERMCO   BIDLO  \\\n",
       "0   26463  19970102   CTWS  CONNECTICUT WATER SERVICE INC    1191  29.000   \n",
       "1   26463  19970103   CTWS  CONNECTICUT WATER SERVICE INC    1191  29.250   \n",
       "2   26463  19970106   CTWS  CONNECTICUT WATER SERVICE INC    1191  29.250   \n",
       "3   26463  19970107   CTWS  CONNECTICUT WATER SERVICE INC    1191  29.125   \n",
       "4   26463  19970108   CTWS  CONNECTICUT WATER SERVICE INC    1191  29.125   \n",
       "\n",
       "   ASKHI    PRC   VOL       RET    ...     SHROUT  OPENPRC  NUMTRD      RETX  \\\n",
       "0   30.0  29.25  1216  0.000000    ...       3011   29.250     6.0  0.000000   \n",
       "1   30.0  29.25  1850  0.000000    ...       3011   30.000     5.0  0.000000   \n",
       "2   30.0  29.25  3226  0.000000    ...       3011   29.250     8.0  0.000000   \n",
       "3   30.0  29.75  2233  0.017094    ...       3011   29.125     5.0  0.017094   \n",
       "4   30.0  30.00  2252  0.008403    ...       3011   29.125     6.0  0.008403   \n",
       "\n",
       "     vwretd    vwretx    ewretd    ewretx    sprtrn     nplog  \n",
       "0 -0.007358 -0.007403  0.001325  0.001294 -0.005036  3.375880  \n",
       "1  0.013491  0.013451  0.012477  0.012428  0.014952  3.375880  \n",
       "2  0.000697  0.000680  0.005099  0.005086 -0.000508  3.375880  \n",
       "3  0.007357  0.007305  0.007338  0.007329  0.007463  3.392829  \n",
       "4 -0.003754 -0.003971  0.004376  0.004304 -0.006399  3.401197  \n",
       "\n",
       "[5 rows x 22 columns]"
      ]
     },
     "execution_count": 92,
     "metadata": {},
     "output_type": "execute_result"
    }
   ],
   "source": [
    "rawData = pd.read_csv(\"WaterStocks.csv\", parse_dates=True)\n",
    "rawData['nplog'] = np.log(abs(rawData.PRC))\n",
    "rawData.head()"
   ]
  },
  {
   "cell_type": "code",
   "execution_count": 93,
   "metadata": {},
   "outputs": [],
   "source": [
    "permno = [26463, 52898, 71475]\n",
    "\n",
    "ind = rawData.PERMNO == permno[0]\n",
    "ctwsData = rawData[ind]\n",
    "\n",
    "ind = rawData.PERMNO == permno[1]\n",
    "wtrData = rawData[ind]\n",
    "\n",
    "ind = rawData.PERMNO == permno[2]\n",
    "awrData = rawData[ind]"
   ]
  },
  {
   "cell_type": "code",
   "execution_count": 94,
   "metadata": {},
   "outputs": [],
   "source": [
    "ctws_series = pd.Series(abs(ctwsData.nplog))\n",
    "wtr_series = pd.Series(wtrData.nplog)\n",
    "awr_series = pd.Series(awrData.nplog)"
   ]
  },
  {
   "cell_type": "code",
   "execution_count": 95,
   "metadata": {},
   "outputs": [
    {
     "data": {
      "image/png": "[encoded data removed]",
      "text/plain": [
       "<Figure size 432x288 with 1 Axes>"
      ]
     },
     "metadata": {},
     "output_type": "display_data"
    }
   ],
   "source": [
    "plt.plot(ctws_series)\n",
    "plt.title('CTWS')\n",
    "plt.xlabel('Time')\n",
    "plt.ylabel('nplog');"
   ]
  },
  {
   "cell_type": "code",
   "execution_count": 96,
   "metadata": {},
   "outputs": [
    {
     "data": {
      "image/png": "[encoded data removed]",
      "text/plain": [
       "<Figure size 432x288 with 1 Axes>"
      ]
     },
     "metadata": {},
     "output_type": "display_data"
    }
   ],
   "source": [
    "plt.plot(wtr_series)\n",
    "plt.title('WTR')\n",
    "plt.xlabel('Time')\n",
    "plt.ylabel('nplog');"
   ]
  },
  {
   "cell_type": "code",
   "execution_count": 97,
   "metadata": {},
   "outputs": [
    {
     "data": {
      "image/png": "[encoded data removed]",
      "text/plain": [
       "<Figure size 432x288 with 1 Axes>"
      ]
     },
     "metadata": {},
     "output_type": "display_data"
    }
   ],
   "source": [
    "plt.plot(awr_series)\n",
    "plt.title('AWR')\n",
    "plt.xlabel('Time')\n",
    "plt.ylabel('nplog');"
   ]
  },
  {
   "cell_type": "markdown",
   "metadata": {},
   "source": [
    "__Separate Test Data and Trading Data__"
   ]
  },
  {
   "cell_type": "code",
   "execution_count": 98,
   "metadata": {},
   "outputs": [],
   "source": [
    "rawData_first = rawData.loc[rawData['date'] < 20000101]\n",
    "rawData_last = rawData.loc[rawData['date'] >= 20000101]"
   ]
  },
  {
   "cell_type": "code",
   "execution_count": 99,
   "metadata": {},
   "outputs": [
    {
     "data": {
      "text/html": [
       "<div>\n",
       "<style scoped>\n",
       "    .dataframe tbody tr th:only-of-type {\n",
       "        vertical-align: middle;\n",
       "    }\n",
       "\n",
       "    .dataframe tbody tr th {\n",
       "        vertical-align: top;\n",
       "    }\n",
       "\n",
       "    .dataframe thead th {\n",
       "        text-align: right;\n",
       "    }\n",
       "</style>\n",
       "<table border=\"1\" class=\"dataframe\">\n",
       "  <thead>\n",
       "    <tr style=\"text-align: right;\">\n",
       "      <th></th>\n",
       "      <th>PERMNO</th>\n",
       "      <th>date</th>\n",
       "      <th>TICKER</th>\n",
       "      <th>COMNAM</th>\n",
       "      <th>PERMCO</th>\n",
       "      <th>BIDLO</th>\n",
       "      <th>ASKHI</th>\n",
       "      <th>PRC</th>\n",
       "      <th>VOL</th>\n",
       "      <th>RET</th>\n",
       "      <th>...</th>\n",
       "      <th>SHROUT</th>\n",
       "      <th>OPENPRC</th>\n",
       "      <th>NUMTRD</th>\n",
       "      <th>RETX</th>\n",
       "      <th>vwretd</th>\n",
       "      <th>vwretx</th>\n",
       "      <th>ewretd</th>\n",
       "      <th>ewretx</th>\n",
       "      <th>sprtrn</th>\n",
       "      <th>nplog</th>\n",
       "    </tr>\n",
       "  </thead>\n",
       "  <tbody>\n",
       "    <tr>\n",
       "      <th>0</th>\n",
       "      <td>26463</td>\n",
       "      <td>19970102</td>\n",
       "      <td>CTWS</td>\n",
       "      <td>CONNECTICUT WATER SERVICE INC</td>\n",
       "      <td>1191</td>\n",
       "      <td>29.000</td>\n",
       "      <td>30.0</td>\n",
       "      <td>29.25</td>\n",
       "      <td>1216</td>\n",
       "      <td>0.000000</td>\n",
       "      <td>...</td>\n",
       "      <td>3011</td>\n",
       "      <td>29.250</td>\n",
       "      <td>6.0</td>\n",
       "      <td>0.000000</td>\n",
       "      <td>-0.007358</td>\n",
       "      <td>-0.007403</td>\n",
       "      <td>0.001325</td>\n",
       "      <td>0.001294</td>\n",
       "      <td>-0.005036</td>\n",
       "      <td>3.375880</td>\n",
       "    </tr>\n",
       "    <tr>\n",
       "      <th>1</th>\n",
       "      <td>26463</td>\n",
       "      <td>19970103</td>\n",
       "      <td>CTWS</td>\n",
       "      <td>CONNECTICUT WATER SERVICE INC</td>\n",
       "      <td>1191</td>\n",
       "      <td>29.250</td>\n",
       "      <td>30.0</td>\n",
       "      <td>29.25</td>\n",
       "      <td>1850</td>\n",
       "      <td>0.000000</td>\n",
       "      <td>...</td>\n",
       "      <td>3011</td>\n",
       "      <td>30.000</td>\n",
       "      <td>5.0</td>\n",
       "      <td>0.000000</td>\n",
       "      <td>0.013491</td>\n",
       "      <td>0.013451</td>\n",
       "      <td>0.012477</td>\n",
       "      <td>0.012428</td>\n",
       "      <td>0.014952</td>\n",
       "      <td>3.375880</td>\n",
       "    </tr>\n",
       "    <tr>\n",
       "      <th>2</th>\n",
       "      <td>26463</td>\n",
       "      <td>19970106</td>\n",
       "      <td>CTWS</td>\n",
       "      <td>CONNECTICUT WATER SERVICE INC</td>\n",
       "      <td>1191</td>\n",
       "      <td>29.250</td>\n",
       "      <td>30.0</td>\n",
       "      <td>29.25</td>\n",
       "      <td>3226</td>\n",
       "      <td>0.000000</td>\n",
       "      <td>...</td>\n",
       "      <td>3011</td>\n",
       "      <td>29.250</td>\n",
       "      <td>8.0</td>\n",
       "      <td>0.000000</td>\n",
       "      <td>0.000697</td>\n",
       "      <td>0.000680</td>\n",
       "      <td>0.005099</td>\n",
       "      <td>0.005086</td>\n",
       "      <td>-0.000508</td>\n",
       "      <td>3.375880</td>\n",
       "    </tr>\n",
       "    <tr>\n",
       "      <th>3</th>\n",
       "      <td>26463</td>\n",
       "      <td>19970107</td>\n",
       "      <td>CTWS</td>\n",
       "      <td>CONNECTICUT WATER SERVICE INC</td>\n",
       "      <td>1191</td>\n",
       "      <td>29.125</td>\n",
       "      <td>30.0</td>\n",
       "      <td>29.75</td>\n",
       "      <td>2233</td>\n",
       "      <td>0.017094</td>\n",
       "      <td>...</td>\n",
       "      <td>3011</td>\n",
       "      <td>29.125</td>\n",
       "      <td>5.0</td>\n",
       "      <td>0.017094</td>\n",
       "      <td>0.007357</td>\n",
       "      <td>0.007305</td>\n",
       "      <td>0.007338</td>\n",
       "      <td>0.007329</td>\n",
       "      <td>0.007463</td>\n",
       "      <td>3.392829</td>\n",
       "    </tr>\n",
       "    <tr>\n",
       "      <th>4</th>\n",
       "      <td>26463</td>\n",
       "      <td>19970108</td>\n",
       "      <td>CTWS</td>\n",
       "      <td>CONNECTICUT WATER SERVICE INC</td>\n",
       "      <td>1191</td>\n",
       "      <td>29.125</td>\n",
       "      <td>30.0</td>\n",
       "      <td>30.00</td>\n",
       "      <td>2252</td>\n",
       "      <td>0.008403</td>\n",
       "      <td>...</td>\n",
       "      <td>3011</td>\n",
       "      <td>29.125</td>\n",
       "      <td>6.0</td>\n",
       "      <td>0.008403</td>\n",
       "      <td>-0.003754</td>\n",
       "      <td>-0.003971</td>\n",
       "      <td>0.004376</td>\n",
       "      <td>0.004304</td>\n",
       "      <td>-0.006399</td>\n",
       "      <td>3.401197</td>\n",
       "    </tr>\n",
       "  </tbody>\n",
       "</table>\n",
       "<p>5 rows × 22 columns</p>\n",
       "</div>"
      ],
      "text/plain": [
       "   PERMNO      date TICKER                         COMNAM  PERMCO   BIDLO  \\\n",
       "0   26463  19970102   CTWS  CONNECTICUT WATER SERVICE INC    1191  29.000   \n",
       "1   26463  19970103   CTWS  CONNECTICUT WATER SERVICE INC    1191  29.250   \n",
       "2   26463  19970106   CTWS  CONNECTICUT WATER SERVICE INC    1191  29.250   \n",
       "3   26463  19970107   CTWS  CONNECTICUT WATER SERVICE INC    1191  29.125   \n",
       "4   26463  19970108   CTWS  CONNECTICUT WATER SERVICE INC    1191  29.125   \n",
       "\n",
       "   ASKHI    PRC   VOL       RET    ...     SHROUT  OPENPRC  NUMTRD      RETX  \\\n",
       "0   30.0  29.25  1216  0.000000    ...       3011   29.250     6.0  0.000000   \n",
       "1   30.0  29.25  1850  0.000000    ...       3011   30.000     5.0  0.000000   \n",
       "2   30.0  29.25  3226  0.000000    ...       3011   29.250     8.0  0.000000   \n",
       "3   30.0  29.75  2233  0.017094    ...       3011   29.125     5.0  0.017094   \n",
       "4   30.0  30.00  2252  0.008403    ...       3011   29.125     6.0  0.008403   \n",
       "\n",
       "     vwretd    vwretx    ewretd    ewretx    sprtrn     nplog  \n",
       "0 -0.007358 -0.007403  0.001325  0.001294 -0.005036  3.375880  \n",
       "1  0.013491  0.013451  0.012477  0.012428  0.014952  3.375880  \n",
       "2  0.000697  0.000680  0.005099  0.005086 -0.000508  3.375880  \n",
       "3  0.007357  0.007305  0.007338  0.007329  0.007463  3.392829  \n",
       "4 -0.003754 -0.003971  0.004376  0.004304 -0.006399  3.401197  \n",
       "\n",
       "[5 rows x 22 columns]"
      ]
     },
     "execution_count": 99,
     "metadata": {},
     "output_type": "execute_result"
    }
   ],
   "source": [
    "rawData_first.head()"
   ]
  },
  {
   "cell_type": "code",
   "execution_count": 100,
   "metadata": {},
   "outputs": [],
   "source": [
    "permno = [26463, 52898, 71475]\n",
    "\n",
    "ind = rawData_first.PERMNO == permno[0]\n",
    "ctwsData_first = rawData_first[ind]\n",
    "\n",
    "ind = rawData_first.PERMNO == permno[1]\n",
    "wtrData_first = rawData_first[ind]\n",
    "\n",
    "ind = rawData_first.PERMNO == permno[2]\n",
    "awrData_first = rawData_first[ind]"
   ]
  },
  {
   "cell_type": "code",
   "execution_count": 101,
   "metadata": {},
   "outputs": [],
   "source": [
    "permno = [26463, 52898, 71475]\n",
    "\n",
    "ind = rawData_last.PERMNO == permno[0]\n",
    "ctwsData_last = rawData_last[ind]\n",
    "\n",
    "ind = rawData_last.PERMNO == permno[1]\n",
    "wtrData_last = rawData_last[ind]\n",
    "\n",
    "ind = rawData_last.PERMNO == permno[2]\n",
    "awrData_last = rawData_last[ind]"
   ]
  },
  {
   "cell_type": "code",
   "execution_count": 102,
   "metadata": {},
   "outputs": [],
   "source": [
    "rawData_first.reset_index(inplace=True)\n",
    "rawData_last.reset_index(inplace=True)\n",
    "\n",
    "ctwsData_first.reset_index(inplace=True)\n",
    "wtrData_first.reset_index(inplace=True)\n",
    "awrData_first.reset_index(inplace=True)\n",
    "ctwsData_last.reset_index(inplace=True)\n",
    "wtrData_last.reset_index(inplace=True)\n",
    "awrData_last.reset_index(inplace=True)"
   ]
  },
  {
   "cell_type": "markdown",
   "metadata": {},
   "source": [
    "__Exhibit 1 (Daily returns & Volume)__"
   ]
  },
  {
   "cell_type": "markdown",
   "metadata": {},
   "source": [
    "__Returns__"
   ]
  },
  {
   "cell_type": "code",
   "execution_count": 103,
   "metadata": {},
   "outputs": [
    {
     "data": {
      "text/plain": [
       "count    3020.000000\n",
       "mean        0.000573\n",
       "std         0.021245\n",
       "min        -0.131115\n",
       "25%        -0.009769\n",
       "50%         0.000000\n",
       "75%         0.010433\n",
       "max         0.143689\n",
       "Name: RET, dtype: float64"
      ]
     },
     "execution_count": 103,
     "metadata": {},
     "output_type": "execute_result"
    }
   ],
   "source": [
    "ctwsData.RET.describe()"
   ]
  },
  {
   "cell_type": "code",
   "execution_count": 104,
   "metadata": {},
   "outputs": [
    {
     "data": {
      "text/plain": [
       "count    3020.000000\n",
       "mean        0.000716\n",
       "std         0.019450\n",
       "min        -0.105691\n",
       "25%        -0.009724\n",
       "50%         0.000000\n",
       "75%         0.010121\n",
       "max         0.131258\n",
       "Name: RET, dtype: float64"
      ]
     },
     "execution_count": 104,
     "metadata": {},
     "output_type": "execute_result"
    }
   ],
   "source": [
    "wtrData.RET.describe()"
   ]
  },
  {
   "cell_type": "code",
   "execution_count": 105,
   "metadata": {},
   "outputs": [
    {
     "data": {
      "text/plain": [
       "count    3020.000000\n",
       "mean        0.000624\n",
       "std         0.020173\n",
       "min        -0.097285\n",
       "25%        -0.010573\n",
       "50%         0.000000\n",
       "75%         0.011236\n",
       "max         0.096287\n",
       "Name: RET, dtype: float64"
      ]
     },
     "execution_count": 105,
     "metadata": {},
     "output_type": "execute_result"
    }
   ],
   "source": [
    "awrData.RET.describe()"
   ]
  },
  {
   "cell_type": "markdown",
   "metadata": {},
   "source": [
    "__Volume__"
   ]
  },
  {
   "cell_type": "code",
   "execution_count": 106,
   "metadata": {},
   "outputs": [
    {
     "data": {
      "text/plain": [
       "count      3020.000000\n",
       "mean       9956.748344\n",
       "std       25544.115451\n",
       "min           0.000000\n",
       "25%        3459.000000\n",
       "50%        6785.500000\n",
       "75%       11747.250000\n",
       "max      966638.000000\n",
       "Name: VOL, dtype: float64"
      ]
     },
     "execution_count": 106,
     "metadata": {},
     "output_type": "execute_result"
    }
   ],
   "source": [
    "ctwsData.VOL.describe()"
   ]
  },
  {
   "cell_type": "code",
   "execution_count": 107,
   "metadata": {},
   "outputs": [
    {
     "data": {
      "text/plain": [
       "count    3.020000e+03\n",
       "mean     3.345267e+05\n",
       "std      4.832983e+05\n",
       "min      2.500000e+03\n",
       "25%      4.010000e+04\n",
       "50%      1.275500e+05\n",
       "75%      4.258750e+05\n",
       "max      5.578600e+06\n",
       "Name: VOL, dtype: float64"
      ]
     },
     "execution_count": 107,
     "metadata": {},
     "output_type": "execute_result"
    }
   ],
   "source": [
    "wtrData.VOL.describe()"
   ]
  },
  {
   "cell_type": "code",
   "execution_count": 108,
   "metadata": {},
   "outputs": [
    {
     "data": {
      "text/plain": [
       "count      3020.000000\n",
       "mean      49990.043709\n",
       "std       60350.785876\n",
       "min         200.000000\n",
       "25%       11900.000000\n",
       "50%       27000.000000\n",
       "75%       67125.000000\n",
       "max      626300.000000\n",
       "Name: VOL, dtype: float64"
      ]
     },
     "execution_count": 108,
     "metadata": {},
     "output_type": "execute_result"
    }
   ],
   "source": [
    "awrData.VOL.describe()"
   ]
  },
  {
   "cell_type": "markdown",
   "metadata": {},
   "source": [
    "__Buy and Hold Return__"
   ]
  },
  {
   "cell_type": "code",
   "execution_count": 109,
   "metadata": {},
   "outputs": [
    {
     "name": "stdout",
     "output_type": "stream",
     "text": [
      "The buy and hold return for CTWS is: -26.62%\n"
     ]
    }
   ],
   "source": [
    "CTWS_hold = ((ctwsData_last.PRC.values[-2:-1][0] - ctwsData_last.PRC[0]) / ctwsData_last.PRC[0])\n",
    "print(\"The buy and hold return for CTWS is: \"+\"{:.2%}\".format(CTWS_hold));"
   ]
  },
  {
   "cell_type": "code",
   "execution_count": 110,
   "metadata": {},
   "outputs": [
    {
     "name": "stdout",
     "output_type": "stream",
     "text": [
      "The buy and hold return for WTR is: -5.59%\n"
     ]
    }
   ],
   "source": [
    "WTR_hold = ((wtrData_last.PRC.values[-2:-1][0] - wtrData_last.PRC[0]) / wtrData_last.PRC[0])\n",
    "print(\"The buy and hold return for WTR is: \"+\"{:.2%}\".format(WTR_hold));"
   ]
  },
  {
   "cell_type": "code",
   "execution_count": 111,
   "metadata": {},
   "outputs": [
    {
     "name": "stdout",
     "output_type": "stream",
     "text": [
      "The buy and hold return for AWR is: -15.69%\n"
     ]
    }
   ],
   "source": [
    "AWR_hold = ((awrData_last.PRC.values[-2:-1][0] - awrData_last.PRC[0]) / awrData_last.PRC[0])\n",
    "print(\"The buy and hold return for AWR is: \"+\"{:.2%}\".format(AWR_hold));"
   ]
  },
  {
   "cell_type": "markdown",
   "metadata": {},
   "source": [
    "__CTWS test for unit-root__"
   ]
  },
  {
   "cell_type": "code",
   "execution_count": 112,
   "metadata": {},
   "outputs": [
    {
     "name": "stdout",
     "output_type": "stream",
     "text": [
      "ADF Statistic: -0.366696\n",
      "p-value: 0.549971\n",
      "Critical Values:\n",
      "\t1%: -2.566\n",
      "\t5%: -1.941\n",
      "\t10%: -1.617\n"
     ]
    }
   ],
   "source": [
    "from statsmodels.tsa.stattools import adfuller\n",
    "result = adfuller(ctws_series, maxlag=1, autolag='BIC', regression=\"nc\")\n",
    "print('ADF Statistic: %f' % result[0])\n",
    "print('p-value: %f' % result[1])\n",
    "print('Critical Values:')\n",
    "for key, value in result[4].items():\n",
    "\tprint('\\t%s: %.3f' % (key, value))"
   ]
  },
  {
   "cell_type": "markdown",
   "metadata": {},
   "source": [
    "__WTR test for unit-root__"
   ]
  },
  {
   "cell_type": "code",
   "execution_count": 113,
   "metadata": {},
   "outputs": [
    {
     "name": "stdout",
     "output_type": "stream",
     "text": [
      "ADF Statistic: -0.150078\n",
      "p-value: 0.632169\n",
      "Critical Values:\n",
      "\t1%: -2.566\n",
      "\t5%: -1.941\n",
      "\t10%: -1.617\n"
     ]
    }
   ],
   "source": [
    "result = adfuller(wtr_series, maxlag=1, autolag='BIC', regression=\"nc\")\n",
    "print('ADF Statistic: %f' % result[0])\n",
    "print('p-value: %f' % result[1])\n",
    "print('Critical Values:')\n",
    "for key, value in result[4].items():\n",
    "\tprint('\\t%s: %.3f' % (key, value))"
   ]
  },
  {
   "cell_type": "markdown",
   "metadata": {},
   "source": [
    "__AWR test for unit-root__"
   ]
  },
  {
   "cell_type": "code",
   "execution_count": 114,
   "metadata": {},
   "outputs": [
    {
     "name": "stdout",
     "output_type": "stream",
     "text": [
      "ADF Statistic: 0.193496\n",
      "p-value: 0.744843\n",
      "Critical Values:\n",
      "\t1%: -2.566\n",
      "\t5%: -1.941\n",
      "\t10%: -1.617\n"
     ]
    }
   ],
   "source": [
    "result = adfuller(awr_series, maxlag=1, autolag='BIC', regression=\"nc\")\n",
    "print('ADF Statistic: %f' % result[0])\n",
    "print('p-value: %f' % result[1])\n",
    "print('Critical Values:')\n",
    "for key, value in result[4].items():\n",
    "\tprint('\\t%s: %.3f' % (key, value))"
   ]
  },
  {
   "cell_type": "markdown",
   "metadata": {},
   "source": [
    "__Looking at first differences__"
   ]
  },
  {
   "cell_type": "code",
   "execution_count": 115,
   "metadata": {},
   "outputs": [],
   "source": [
    "first_dif_ctws = ctwsData.nplog.diff()\n",
    "first_dif_wtr = wtrData.nplog.diff()\n",
    "first_dif_awr = awrData.nplog.diff()"
   ]
  },
  {
   "cell_type": "markdown",
   "metadata": {},
   "source": [
    "__CTWS first difference test__"
   ]
  },
  {
   "cell_type": "code",
   "execution_count": 116,
   "metadata": {},
   "outputs": [
    {
     "name": "stdout",
     "output_type": "stream",
     "text": [
      "ADF Statistic: -46.494020\n",
      "p-value: 0.000000\n",
      "Critical Values:\n",
      "\t1%: -2.566\n",
      "\t5%: -1.941\n",
      "\t10%: -1.617\n"
     ]
    }
   ],
   "source": [
    "from statsmodels.tsa.stattools import adfuller\n",
    "result = adfuller(first_dif_ctws[1:], maxlag=1, autolag='BIC', regression=\"nc\")\n",
    "print('ADF Statistic: %f' % result[0])\n",
    "print('p-value: %f' % result[1])\n",
    "print('Critical Values:')\n",
    "for key, value in result[4].items():\n",
    "\tprint('\\t%s: %.3f' % (key, value))"
   ]
  },
  {
   "cell_type": "markdown",
   "metadata": {},
   "source": [
    "__WTR first difference test__"
   ]
  },
  {
   "cell_type": "code",
   "execution_count": 117,
   "metadata": {},
   "outputs": [
    {
     "name": "stdout",
     "output_type": "stream",
     "text": [
      "ADF Statistic: -55.181402\n",
      "p-value: 0.000000\n",
      "Critical Values:\n",
      "\t1%: -2.566\n",
      "\t5%: -1.941\n",
      "\t10%: -1.617\n"
     ]
    }
   ],
   "source": [
    "from statsmodels.tsa.stattools import adfuller\n",
    "result = adfuller(first_dif_wtr[1:], maxlag=1, autolag='BIC', regression=\"nc\")\n",
    "print('ADF Statistic: %f' % result[0])\n",
    "print('p-value: %f' % result[1])\n",
    "print('Critical Values:')\n",
    "for key, value in result[4].items():\n",
    "\tprint('\\t%s: %.3f' % (key, value))"
   ]
  },
  {
   "cell_type": "markdown",
   "metadata": {},
   "source": [
    "__AWR first difference test__"
   ]
  },
  {
   "cell_type": "code",
   "execution_count": 118,
   "metadata": {},
   "outputs": [
    {
     "name": "stdout",
     "output_type": "stream",
     "text": [
      "ADF Statistic: -58.517293\n",
      "p-value: 0.000000\n",
      "Critical Values:\n",
      "\t1%: -2.566\n",
      "\t5%: -1.941\n",
      "\t10%: -1.617\n"
     ]
    }
   ],
   "source": [
    "from statsmodels.tsa.stattools import adfuller\n",
    "result = adfuller(first_dif_awr[1:], maxlag=1, autolag='BIC', regression=\"nc\")\n",
    "print('ADF Statistic: %f' % result[0])\n",
    "print('p-value: %f' % result[1])\n",
    "print('Critical Values:')\n",
    "for key, value in result[4].items():\n",
    "\tprint('\\t%s: %.3f' % (key, value))"
   ]
  },
  {
   "cell_type": "markdown",
   "metadata": {},
   "source": [
    "__Testing for Cointegration__"
   ]
  },
  {
   "cell_type": "code",
   "execution_count": 119,
   "metadata": {},
   "outputs": [],
   "source": [
    "reshaped_ctws = ctws_series.values.reshape(3020, 1)\n",
    "reshaped_wtr = wtr_series.values.reshape(3020, 1)\n",
    "reshaped_awr = awr_series.values.reshape(3020, 1)"
   ]
  },
  {
   "cell_type": "markdown",
   "metadata": {},
   "source": [
    "__CTWS - WTR__"
   ]
  },
  {
   "cell_type": "code",
   "execution_count": 120,
   "metadata": {},
   "outputs": [
    {
     "name": "stdout",
     "output_type": "stream",
     "text": [
      "ADF Statistic: -3.870299\n",
      "p-value: 0.000122\n",
      "Critical Values:\n",
      "\t1%: -2.566\n",
      "\t5%: -1.941\n",
      "\t10%: -1.617\n"
     ]
    }
   ],
   "source": [
    "ols_result = sm.OLS(reshaped_ctws, reshaped_wtr).fit()    \n",
    "result = adfuller(ols_result.resid, maxlag=1, autolag='BIC', regression=\"nc\")\n",
    "print('ADF Statistic: %f' % result[0])\n",
    "print('p-value: %f' % result[1])\n",
    "print('Critical Values:')\n",
    "for key, value in result[4].items():\n",
    "\tprint('\\t%s: %.3f' % (key, value))"
   ]
  },
  {
   "cell_type": "markdown",
   "metadata": {},
   "source": [
    "__CTWS - AWR__"
   ]
  },
  {
   "cell_type": "code",
   "execution_count": 121,
   "metadata": {},
   "outputs": [
    {
     "name": "stdout",
     "output_type": "stream",
     "text": [
      "ADF Statistic: -2.767085\n",
      "p-value: 0.005513\n",
      "Critical Values:\n",
      "\t1%: -2.566\n",
      "\t5%: -1.941\n",
      "\t10%: -1.617\n"
     ]
    }
   ],
   "source": [
    "ols_result = sm.OLS(reshaped_ctws, reshaped_awr).fit()    \n",
    "result = adfuller(ols_result.resid, maxlag=1, autolag='BIC', regression=\"nc\")\n",
    "print('ADF Statistic: %f' % result[0])\n",
    "print('p-value: %f' % result[1])\n",
    "print('Critical Values:')\n",
    "for key, value in result[4].items():\n",
    "\tprint('\\t%s: %.3f' % (key, value))"
   ]
  },
  {
   "cell_type": "markdown",
   "metadata": {},
   "source": [
    "__WTR - AWR__"
   ]
  },
  {
   "cell_type": "code",
   "execution_count": 122,
   "metadata": {},
   "outputs": [
    {
     "name": "stdout",
     "output_type": "stream",
     "text": [
      "ADF Statistic: -3.229168\n",
      "p-value: 0.001248\n",
      "Critical Values:\n",
      "\t1%: -2.566\n",
      "\t5%: -1.941\n",
      "\t10%: -1.617\n"
     ]
    }
   ],
   "source": [
    "ols_result = sm.OLS(reshaped_wtr, reshaped_awr).fit()    \n",
    "result = adfuller(ols_result.resid, maxlag=1, autolag='BIC', regression=\"nc\")\n",
    "print('ADF Statistic: %f' % result[0])\n",
    "print('p-value: %f' % result[1])\n",
    "print('Critical Values:')\n",
    "for key, value in result[4].items():\n",
    "\tprint('\\t%s: %.3f' % (key, value))"
   ]
  },
  {
   "cell_type": "markdown",
   "metadata": {},
   "source": [
    "__Error Correction Model__"
   ]
  },
  {
   "cell_type": "markdown",
   "metadata": {},
   "source": [
    "__Between CTWS and WTR__"
   ]
  },
  {
   "cell_type": "code",
   "execution_count": 123,
   "metadata": {},
   "outputs": [],
   "source": [
    "ols_result = sm.OLS(reshaped_ctws, reshaped_wtr).fit()    \n",
    "result = sm.OLS(first_dif_ctws[1:], ols_result.resid[1:]).fit()"
   ]
  },
  {
   "cell_type": "code",
   "execution_count": 124,
   "metadata": {},
   "outputs": [
    {
     "data": {
      "text/plain": [
       "x1    0.006223\n",
       "dtype: float64"
      ]
     },
     "execution_count": 124,
     "metadata": {},
     "output_type": "execute_result"
    }
   ],
   "source": [
    "result.params"
   ]
  },
  {
   "cell_type": "code",
   "execution_count": 125,
   "metadata": {},
   "outputs": [
    {
     "data": {
      "text/plain": [
       "-0.00011387469146569553"
      ]
     },
     "execution_count": 125,
     "metadata": {},
     "output_type": "execute_result"
    }
   ],
   "source": [
    "np.mean(result.resid)"
   ]
  },
  {
   "cell_type": "code",
   "execution_count": null,
   "metadata": {},
   "outputs": [],
   "source": []
  },
  {
   "cell_type": "markdown",
   "metadata": {},
   "source": [
    "_Equation(6) for each pair_"
   ]
  },
  {
   "cell_type": "markdown",
   "metadata": {},
   "source": [
    "CTWS & WTR"
   ]
  },
  {
   "cell_type": "code",
   "execution_count": 126,
   "metadata": {},
   "outputs": [
    {
     "name": "stdout",
     "output_type": "stream",
     "text": [
      "Equation(6) for CTWS is log(CTWS)=alpha+beta_1log(WTR)+epsilon\n"
     ]
    }
   ],
   "source": [
    "print(f\"Equation(6) for CTWS is log(CTWS)=alpha+beta_1log(WTR)+epsilon\")"
   ]
  },
  {
   "cell_type": "markdown",
   "metadata": {},
   "source": [
    "WTR and AWR"
   ]
  },
  {
   "cell_type": "code",
   "execution_count": 127,
   "metadata": {},
   "outputs": [
    {
     "name": "stdout",
     "output_type": "stream",
     "text": [
      "Equation(6) for WTR is log(WTR)=alpha+beta_1log(AWR)+epsilon\n"
     ]
    }
   ],
   "source": [
    "print(f\"Equation(6) for WTR is log(WTR)=alpha+beta_1log(AWR)+epsilon\")"
   ]
  },
  {
   "cell_type": "markdown",
   "metadata": {},
   "source": [
    "CTWS and AWR"
   ]
  },
  {
   "cell_type": "code",
   "execution_count": 128,
   "metadata": {},
   "outputs": [
    {
     "name": "stdout",
     "output_type": "stream",
     "text": [
      "Equation(6) for CTWS is log(CTWS)=alpha+beta_1log(AWR)+epsilon\n"
     ]
    }
   ],
   "source": [
    "print(f\"Equation(6) for CTWS is log(CTWS)=alpha+beta_1log(AWR)+epsilon\")"
   ]
  },
  {
   "cell_type": "markdown",
   "metadata": {},
   "source": [
    "_Equation(7) for each pair_"
   ]
  },
  {
   "cell_type": "markdown",
   "metadata": {},
   "source": [
    "CTWS and WTR"
   ]
  },
  {
   "cell_type": "code",
   "execution_count": 129,
   "metadata": {},
   "outputs": [],
   "source": [
    "from sklearn.linear_model import LinearRegression\n",
    "\n",
    "ctws_first_series = pd.Series(abs(ctwsData_first.nplog))\n",
    "wtr_first_series = pd.Series(wtrData_first.nplog)\n",
    "awr_first_series = pd.Series(awrData_first.nplog)\n",
    "\n",
    "reshaped_ctws_first = ctws_first_series.values.reshape(757, 1)\n",
    "reshaped_wtr_first = wtr_first_series.values.reshape(757, 1)\n",
    "reshaped_awr_first = awr_first_series.values.reshape(757, 1)\n",
    "\n",
    "model_ctws = LinearRegression(fit_intercept=True)\n",
    "int_ctws = model_ctws.fit(reshaped_ctws_first, reshaped_wtr_first).intercept_\n",
    "coef_ctws = model_ctws.fit(reshaped_ctws_first, reshaped_wtr_first).coef_\n",
    "results = (int_ctws[0], coef_ctws[0][0])"
   ]
  },
  {
   "cell_type": "code",
   "execution_count": 130,
   "metadata": {},
   "outputs": [
    {
     "name": "stdout",
     "output_type": "stream",
     "text": [
      "Equation(7) for CTWS is log(CTWS)=3.5159-0.1212log(WTR)\n"
     ]
    }
   ],
   "source": [
    "print(f\"Equation(7) for CTWS is log(CTWS)={results[0]:0.4f}{results[1]: 0.4f}log(WTR)\")"
   ]
  },
  {
   "cell_type": "markdown",
   "metadata": {},
   "source": [
    "WTR and AWR"
   ]
  },
  {
   "cell_type": "code",
   "execution_count": 131,
   "metadata": {},
   "outputs": [],
   "source": [
    "model_wtr = LinearRegression(fit_intercept=True)\n",
    "int_wtr = model_wtr.fit(reshaped_wtr_first, reshaped_awr_first).intercept_\n",
    "coef_wtr = model_wtr.fit(reshaped_wtr_first, reshaped_awr_first).coef_\n",
    "results = (int_wtr[0], coef_wtr[0][0])"
   ]
  },
  {
   "cell_type": "code",
   "execution_count": 132,
   "metadata": {},
   "outputs": [
    {
     "name": "stdout",
     "output_type": "stream",
     "text": [
      "Equation(7) for WTR is log(WTR)=1.7561 + 0.4799log(AWR)\n"
     ]
    }
   ],
   "source": [
    "print(f\"Equation(7) for WTR is log(WTR)={results[0]:0.4f} +{results[1]: 0.4f}log(AWR)\")"
   ]
  },
  {
   "cell_type": "markdown",
   "metadata": {},
   "source": [
    "CTWS and AWR"
   ]
  },
  {
   "cell_type": "code",
   "execution_count": 133,
   "metadata": {},
   "outputs": [],
   "source": [
    "model_awr = LinearRegression(fit_intercept=True)\n",
    "int_awr = model_ctws.fit(reshaped_awr_first, reshaped_ctws_first).intercept_\n",
    "coef_awr = model_ctws.fit(reshaped_awr_first, reshaped_ctws_first).coef_\n",
    "results = (int_wtr[0], coef_wtr[0][0])"
   ]
  },
  {
   "cell_type": "code",
   "execution_count": 134,
   "metadata": {},
   "outputs": [
    {
     "name": "stdout",
     "output_type": "stream",
     "text": [
      "Equation(7) for CTWS is log(CTWS)=1.7561 + 0.4799log(AWR)\n"
     ]
    }
   ],
   "source": [
    "print(f\"Equation(7) for CTWS is log(CTWS)={results[0]:0.4f} +{results[1]: 0.4f}log(AWR)\")"
   ]
  },
  {
   "cell_type": "markdown",
   "metadata": {},
   "source": [
    "_Running Equations 7&8 for each pair_"
   ]
  },
  {
   "cell_type": "code",
   "execution_count": 135,
   "metadata": {},
   "outputs": [
    {
     "name": "stderr",
     "output_type": "stream",
     "text": [
      "C:\\Users\\Tyson\\Anaconda3\\lib\\site-packages\\ipykernel_launcher.py:1: SettingWithCopyWarning: \n",
      "A value is trying to be set on a copy of a slice from a DataFrame.\n",
      "Try using .loc[row_indexer,col_indexer] = value instead\n",
      "\n",
      "See the caveats in the documentation: http://pandas.pydata.org/pandas-docs/stable/indexing.html#indexing-view-versus-copy\n",
      "  \"\"\"Entry point for launching an IPython kernel.\n"
     ]
    }
   ],
   "source": [
    "rawData_last['predicted'] = 0.0\n",
    "predicted_value_ctws = np.empty(2263)\n",
    "for i in range(0, 2263):\n",
    "    predicted_value_ctws[i] = (int_awr[0] + (coef_awr[0,0] * awrData_last.loc[i]['nplog']))\n",
    "    rawData_last.at[i, 'predicted'] = predicted_value_ctws[i]"
   ]
  },
  {
   "cell_type": "code",
   "execution_count": 136,
   "metadata": {},
   "outputs": [],
   "source": [
    "predicted_value_wtr = np.empty(2263)\n",
    "for i in range(0, 2263):\n",
    "    predicted_value_wtr[i] = (int_ctws[0] + (coef_ctws[0,0] * ctwsData_last.loc[i]['nplog']))\n",
    "    rawData_last.at[(i+2263), 'predicted'] = predicted_value_wtr[i]"
   ]
  },
  {
   "cell_type": "code",
   "execution_count": 137,
   "metadata": {},
   "outputs": [],
   "source": [
    "predicted_value_awr = np.empty(2263)\n",
    "for i in range(0, 2263):\n",
    "    predicted_value_awr[i] = (int_wtr[0] + (coef_wtr[0,0] * wtrData_last.loc[i]['nplog']))\n",
    "    rawData_last.at[(i+4526), 'predicted'] = predicted_value_awr[i]"
   ]
  },
  {
   "cell_type": "code",
   "execution_count": 139,
   "metadata": {},
   "outputs": [
    {
     "name": "stderr",
     "output_type": "stream",
     "text": [
      "C:\\Users\\Tyson\\Anaconda3\\lib\\site-packages\\ipykernel_launcher.py:1: SettingWithCopyWarning: \n",
      "A value is trying to be set on a copy of a slice from a DataFrame.\n",
      "Try using .loc[row_indexer,col_indexer] = value instead\n",
      "\n",
      "See the caveats in the documentation: http://pandas.pydata.org/pandas-docs/stable/indexing.html#indexing-view-versus-copy\n",
      "  \"\"\"Entry point for launching an IPython kernel.\n",
      "C:\\Users\\Tyson\\Anaconda3\\lib\\site-packages\\ipykernel_launcher.py:4: SettingWithCopyWarning: \n",
      "A value is trying to be set on a copy of a slice from a DataFrame\n",
      "\n",
      "See the caveats in the documentation: http://pandas.pydata.org/pandas-docs/stable/indexing.html#indexing-view-versus-copy\n",
      "  after removing the cwd from sys.path.\n",
      "C:\\Users\\Tyson\\Anaconda3\\lib\\site-packages\\IPython\\core\\interactiveshell.py:2963: SettingWithCopyWarning: \n",
      "A value is trying to be set on a copy of a slice from a DataFrame\n",
      "\n",
      "See the caveats in the documentation: http://pandas.pydata.org/pandas-docs/stable/indexing.html#indexing-view-versus-copy\n",
      "  exec(code_obj, self.user_global_ns, self.user_ns)\n"
     ]
    }
   ],
   "source": [
    "rawData_last['dif_predicted'] = 0.0\n",
    "\n",
    "for i in range(0, 6789):\n",
    "    rawData_last['dif_predicted'][i] = rawData_last['nplog'][i] - rawData_last['predicted'][i]"
   ]
  },
  {
   "cell_type": "code",
   "execution_count": 140,
   "metadata": {},
   "outputs": [],
   "source": [
    "permno = [26463, 52898, 71475]\n",
    "\n",
    "ind = rawData_last.PERMNO == permno[0]\n",
    "ctwsData_last = rawData_last[ind]\n",
    "\n",
    "ind = rawData_last.PERMNO == permno[1]\n",
    "wtrData_last = rawData_last[ind]\n",
    "\n",
    "ind = rawData_last.PERMNO == permno[2]\n",
    "awrData_last = rawData_last[ind]"
   ]
  },
  {
   "cell_type": "code",
   "execution_count": 141,
   "metadata": {},
   "outputs": [],
   "source": [
    "multiple = [0.25, 0.50, 0.75]"
   ]
  },
  {
   "cell_type": "markdown",
   "metadata": {},
   "source": [
    "CTWS $\\sigma_\\epsilon$ value"
   ]
  },
  {
   "cell_type": "code",
   "execution_count": 142,
   "metadata": {},
   "outputs": [],
   "source": [
    "e_ctws = np.sqrt(np.var((ctwsData_last.dif_predicted)))\n",
    "\n",
    "upper_bound_25_ctws = multiple[0] * e_ctws\n",
    "lower_bound_25_ctws = -multiple[0] * e_ctws\n",
    "upper_bound_50_ctws = multiple[1] * e_ctws\n",
    "lower_bound_50_ctws = -multiple[1] * e_ctws\n",
    "upper_bound_75_ctws = multiple[2] * e_ctws\n",
    "lower_bound_75_ctws = -multiple[2] * e_ctws"
   ]
  },
  {
   "cell_type": "markdown",
   "metadata": {},
   "source": [
    "WTR $\\sigma_\\epsilon$ value"
   ]
  },
  {
   "cell_type": "code",
   "execution_count": 143,
   "metadata": {},
   "outputs": [],
   "source": [
    "e_wtr = np.sqrt(np.var((wtrData_last.dif_predicted)))\n",
    "\n",
    "upper_bound_25_wtr = multiple[0] * e_wtr\n",
    "lower_bound_25_wtr = -multiple[0] * e_wtr\n",
    "upper_bound_50_wtr = multiple[1] * e_wtr\n",
    "lower_bound_50_wtr = -multiple[1] * e_wtr\n",
    "upper_bound_75_wtr = multiple[2] * e_wtr\n",
    "lower_bound_75_wtr = -multiple[2] * e_wtr"
   ]
  },
  {
   "cell_type": "markdown",
   "metadata": {},
   "source": [
    "AWR $\\sigma_\\epsilon$ value"
   ]
  },
  {
   "cell_type": "code",
   "execution_count": 144,
   "metadata": {},
   "outputs": [],
   "source": [
    "e_awr = np.sqrt(np.var((awrData_last.dif_predicted)))\n",
    "\n",
    "upper_bound_25_awr = multiple[0] * e_awr\n",
    "lower_bound_25_awr = -multiple[0] * e_awr\n",
    "upper_bound_50_awr = multiple[1] * e_awr\n",
    "lower_bound_50_awr = -multiple[1] * e_awr\n",
    "upper_bound_75_awr = multiple[2] * e_awr\n",
    "lower_bound_75_awr = -multiple[2] * e_awr"
   ]
  },
  {
   "cell_type": "markdown",
   "metadata": {},
   "source": [
    "CTWS strategy graph"
   ]
  },
  {
   "cell_type": "code",
   "execution_count": 145,
   "metadata": {},
   "outputs": [],
   "source": [
    "y = pd.Series(ctwsData_last.dif_predicted)\n",
    "\n",
    "upper = np.empty(ctwsData_last.shape)\n",
    "upper.fill(upper_bound_25_ctws)\n",
    "lower = np.empty(ctwsData_last.shape)\n",
    "lower.fill(lower_bound_25_ctws)"
   ]
  },
  {
   "cell_type": "code",
   "execution_count": 146,
   "metadata": {},
   "outputs": [
    {
     "data": {
      "image/png": "[encoded data removed]",
      "text/plain": [
       "<Figure size 432x288 with 1 Axes>"
      ]
     },
     "metadata": {},
     "output_type": "display_data"
    }
   ],
   "source": [
    "fig = plt.figure()\n",
    "ax = plt.axes()\n",
    "\n",
    "plt.plot(y, color=\"red\", linewidth=2)\n",
    "plt.plot(upper, color=\"purple\", linewidth=2, linestyle='dashed')\n",
    "plt.plot(lower, color=\"purple\", linewidth=2, linestyle='dashed')\n",
    "plt.title('CTWS 0.25 strategy')\n",
    "plt.xlabel('Time')\n",
    "plt.ylabel('Difference From Predicted Model');"
   ]
  },
  {
   "cell_type": "code",
   "execution_count": 147,
   "metadata": {},
   "outputs": [],
   "source": [
    "y = pd.Series(ctwsData_last.dif_predicted)\n",
    "\n",
    "upper = np.empty(ctwsData_last.shape)\n",
    "upper.fill(upper_bound_50_ctws)\n",
    "lower = np.empty(ctwsData_last.shape)\n",
    "lower.fill(lower_bound_50_ctws)"
   ]
  },
  {
   "cell_type": "code",
   "execution_count": 148,
   "metadata": {},
   "outputs": [
    {
     "data": {
      "image/png": "[encoded data removed]",
      "text/plain": [
       "<Figure size 432x288 with 1 Axes>"
      ]
     },
     "metadata": {},
     "output_type": "display_data"
    }
   ],
   "source": [
    "fig = plt.figure()\n",
    "ax = plt.axes()\n",
    "\n",
    "plt.plot(y, color=\"red\", linewidth=2)\n",
    "plt.plot(upper, color=\"purple\", linewidth=2, linestyle='dashed')\n",
    "plt.plot(lower, color=\"purple\", linewidth=2, linestyle='dashed')\n",
    "plt.title('CTWS 0.50 strategy')\n",
    "plt.xlabel('Time')\n",
    "plt.ylabel('Difference From Predicted Model');"
   ]
  },
  {
   "cell_type": "code",
   "execution_count": 149,
   "metadata": {},
   "outputs": [],
   "source": [
    "y = pd.Series(ctwsData_last.dif_predicted)\n",
    "\n",
    "upper = np.empty(ctwsData_last.shape)\n",
    "upper.fill(upper_bound_75_ctws)\n",
    "lower = np.empty(ctwsData_last.shape)\n",
    "lower.fill(lower_bound_75_ctws)"
   ]
  },
  {
   "cell_type": "code",
   "execution_count": 150,
   "metadata": {},
   "outputs": [
    {
     "data": {
      "image/png": "[encoded data removed]",
      "text/plain": [
       "<Figure size 432x288 with 1 Axes>"
      ]
     },
     "metadata": {},
     "output_type": "display_data"
    }
   ],
   "source": [
    "fig = plt.figure()\n",
    "ax = plt.axes()\n",
    "\n",
    "plt.plot(y, color=\"red\", linewidth=2)\n",
    "plt.plot(upper, color=\"purple\", linewidth=2, linestyle='dashed')\n",
    "plt.plot(lower, color=\"purple\", linewidth=2, linestyle='dashed')\n",
    "plt.title('CTWS 0.75 strategy')\n",
    "plt.xlabel('Time')\n",
    "plt.ylabel('Difference From Predicted Model');"
   ]
  },
  {
   "cell_type": "markdown",
   "metadata": {},
   "source": [
    "WTR Strategy Graph"
   ]
  },
  {
   "cell_type": "code",
   "execution_count": 151,
   "metadata": {},
   "outputs": [],
   "source": [
    "wtrData_last.reset_index(inplace=True)\n",
    "y = pd.Series(wtrData_last.dif_predicted)\n",
    "\n",
    "upper = np.empty(wtrData_last.shape)\n",
    "upper.fill(upper_bound_25_wtr)\n",
    "lower = np.empty(wtrData_last.shape)\n",
    "lower.fill(lower_bound_25_wtr)"
   ]
  },
  {
   "cell_type": "code",
   "execution_count": 152,
   "metadata": {},
   "outputs": [
    {
     "data": {
      "image/png": "[encoded data removed]",
      "text/plain": [
       "<Figure size 432x288 with 1 Axes>"
      ]
     },
     "metadata": {},
     "output_type": "display_data"
    }
   ],
   "source": [
    "fig = plt.figure()\n",
    "ax = plt.axes()\n",
    "\n",
    "plt.plot(y, color=\"red\", linewidth=2)\n",
    "plt.plot(upper, color=\"purple\", linewidth=2, linestyle='dashed')\n",
    "plt.plot(lower, color=\"purple\", linewidth=2, linestyle='dashed')\n",
    "plt.title('WTR 0.25 strategy')\n",
    "plt.xlabel('Time')\n",
    "plt.ylabel('Difference From Predicted Model');"
   ]
  },
  {
   "cell_type": "code",
   "execution_count": 153,
   "metadata": {},
   "outputs": [],
   "source": [
    "y = pd.Series(wtrData_last.dif_predicted)\n",
    "\n",
    "upper = np.empty(wtrData_last.shape)\n",
    "upper.fill(upper_bound_50_wtr)\n",
    "lower = np.empty(wtrData_last.shape)\n",
    "lower.fill(lower_bound_50_wtr)"
   ]
  },
  {
   "cell_type": "code",
   "execution_count": 154,
   "metadata": {},
   "outputs": [
    {
     "data": {
      "image/png": "[encoded data removed]",
      "text/plain": [
       "<Figure size 432x288 with 1 Axes>"
      ]
     },
     "metadata": {},
     "output_type": "display_data"
    }
   ],
   "source": [
    "fig = plt.figure()\n",
    "ax = plt.axes()\n",
    "\n",
    "plt.plot(y, color=\"red\", linewidth=2)\n",
    "plt.plot(upper, color=\"purple\", linewidth=2, linestyle='dashed')\n",
    "plt.plot(lower, color=\"purple\", linewidth=2, linestyle='dashed')\n",
    "plt.title('WTR 0.50 strategy')\n",
    "plt.xlabel('Time')\n",
    "plt.ylabel('Difference From Predicted Model');"
   ]
  },
  {
   "cell_type": "code",
   "execution_count": 155,
   "metadata": {},
   "outputs": [],
   "source": [
    "y = pd.Series(wtrData_last.dif_predicted)\n",
    "\n",
    "upper = np.empty(wtrData_last.shape)\n",
    "upper.fill(upper_bound_75_wtr)\n",
    "lower = np.empty(wtrData_last.shape)\n",
    "lower.fill(lower_bound_75_wtr)"
   ]
  },
  {
   "cell_type": "code",
   "execution_count": 156,
   "metadata": {},
   "outputs": [
    {
     "data": {
      "image/png": "[encoded data removed]",
      "text/plain": [
       "<Figure size 432x288 with 1 Axes>"
      ]
     },
     "metadata": {},
     "output_type": "display_data"
    }
   ],
   "source": [
    "fig = plt.figure()\n",
    "ax = plt.axes()\n",
    "\n",
    "plt.plot(y, color=\"red\", linewidth=2)\n",
    "plt.plot(upper, color=\"purple\", linewidth=2, linestyle='dashed')\n",
    "plt.plot(lower, color=\"purple\", linewidth=2, linestyle='dashed')\n",
    "plt.title('WTR 0.75 strategy')\n",
    "plt.xlabel('Time')\n",
    "plt.ylabel('Difference From Predicted Model');"
   ]
  },
  {
   "cell_type": "markdown",
   "metadata": {},
   "source": [
    "AWR Strategy Graph"
   ]
  },
  {
   "cell_type": "code",
   "execution_count": 157,
   "metadata": {},
   "outputs": [],
   "source": [
    "awrData_last.reset_index(inplace=True)\n",
    "y = pd.Series(awrData_last.dif_predicted)\n",
    "\n",
    "upper = np.empty(awrData_last.shape)\n",
    "upper.fill(upper_bound_25_awr)\n",
    "lower = np.empty(awrData_last.shape)\n",
    "lower.fill(lower_bound_25_awr)"
   ]
  },
  {
   "cell_type": "code",
   "execution_count": 163,
   "metadata": {},
   "outputs": [
    {
     "data": {
      "image/png": "[encoded data removed]",
      "text/plain": [
       "<Figure size 432x288 with 1 Axes>"
      ]
     },
     "metadata": {},
     "output_type": "display_data"
    }
   ],
   "source": [
    "fig = plt.figure()\n",
    "ax = plt.axes()\n",
    "\n",
    "plt.plot(y, color=\"red\", linewidth=2)\n",
    "plt.plot(upper, color=\"purple\", linewidth=2, linestyle='dashed')\n",
    "plt.plot(lower, color=\"purple\", linewidth=2, linestyle='dashed')\n",
    "plt.title('AWR 0.25 strategy')\n",
    "plt.xlabel('Time')\n",
    "plt.ylabel('Difference From Predicted Model');"
   ]
  },
  {
   "cell_type": "code",
   "execution_count": 164,
   "metadata": {},
   "outputs": [],
   "source": [
    "y = pd.Series(awrData_last.dif_predicted)\n",
    "\n",
    "upper = np.empty(awrData_last.shape)\n",
    "upper.fill(upper_bound_50_awr)\n",
    "lower = np.empty(awrData_last.shape)\n",
    "lower.fill(lower_bound_50_awr)"
   ]
  },
  {
   "cell_type": "code",
   "execution_count": 165,
   "metadata": {},
   "outputs": [
    {
     "data": {
      "image/png": "[encoded data removed]",
      "text/plain": [
       "<Figure size 432x288 with 1 Axes>"
      ]
     },
     "metadata": {},
     "output_type": "display_data"
    }
   ],
   "source": [
    "fig = plt.figure()\n",
    "ax = plt.axes()\n",
    "\n",
    "plt.plot(y, color=\"red\", linewidth=2)\n",
    "plt.plot(upper, color=\"purple\", linewidth=2, linestyle='dashed')\n",
    "plt.plot(lower, color=\"purple\", linewidth=2, linestyle='dashed')\n",
    "plt.title('AWR 0.50 strategy')\n",
    "plt.xlabel('Time')\n",
    "plt.ylabel('Difference From Predicted Model');"
   ]
  },
  {
   "cell_type": "code",
   "execution_count": 166,
   "metadata": {},
   "outputs": [],
   "source": [
    "y = pd.Series(awrData_last.dif_predicted)\n",
    "\n",
    "upper = np.empty(awrData_last.shape)\n",
    "upper.fill(upper_bound_75_awr)\n",
    "lower = np.empty(awrData_last.shape)\n",
    "lower.fill(lower_bound_75_awr)"
   ]
  },
  {
   "cell_type": "code",
   "execution_count": 167,
   "metadata": {},
   "outputs": [
    {
     "data": {
      "image/png": "[encoded data removed]",
      "text/plain": [
       "<Figure size 432x288 with 1 Axes>"
      ]
     },
     "metadata": {},
     "output_type": "display_data"
    }
   ],
   "source": [
    "fig = plt.figure()\n",
    "ax = plt.axes()\n",
    "\n",
    "plt.plot(y, color=\"red\", linewidth=2)\n",
    "plt.plot(upper, color=\"purple\", linewidth=2, linestyle='dashed')\n",
    "plt.plot(lower, color=\"purple\", linewidth=2, linestyle='dashed')\n",
    "plt.title('AWR 0.75 strategy')\n",
    "plt.xlabel('Time')\n",
    "plt.ylabel('Difference From Predicted Model');"
   ]
  },
  {
   "cell_type": "markdown",
   "metadata": {},
   "source": [
    "_Amount of signals for each pair_"
   ]
  },
  {
   "cell_type": "markdown",
   "metadata": {},
   "source": [
    "CTWS"
   ]
  },
  {
   "cell_type": "code",
   "execution_count": 308,
   "metadata": {},
   "outputs": [],
   "source": [
    "ctws_signals = pd.DataFrame({'δi': (0.25, 0.50, 0.75), 'Buy Signals': (0.0, 0.0, 0.0), 'Sell Signals': (0.0, 0.0, 0.0)})"
   ]
  },
  {
   "cell_type": "code",
   "execution_count": 309,
   "metadata": {},
   "outputs": [
    {
     "name": "stderr",
     "output_type": "stream",
     "text": [
      "C:\\Users\\Tyson\\Anaconda3\\lib\\site-packages\\ipykernel_launcher.py:1: SettingWithCopyWarning: \n",
      "A value is trying to be set on a copy of a slice from a DataFrame.\n",
      "Try using .loc[row_indexer,col_indexer] = value instead\n",
      "\n",
      "See the caveats in the documentation: http://pandas.pydata.org/pandas-docs/stable/indexing.html#indexing-view-versus-copy\n",
      "  \"\"\"Entry point for launching an IPython kernel.\n",
      "C:\\Users\\Tyson\\Anaconda3\\lib\\site-packages\\ipykernel_launcher.py:5: SettingWithCopyWarning: \n",
      "A value is trying to be set on a copy of a slice from a DataFrame\n",
      "\n",
      "See the caveats in the documentation: http://pandas.pydata.org/pandas-docs/stable/indexing.html#indexing-view-versus-copy\n",
      "  \"\"\"\n",
      "C:\\Users\\Tyson\\Anaconda3\\lib\\site-packages\\pandas\\core\\indexing.py:189: SettingWithCopyWarning: \n",
      "A value is trying to be set on a copy of a slice from a DataFrame\n",
      "\n",
      "See the caveats in the documentation: http://pandas.pydata.org/pandas-docs/stable/indexing.html#indexing-view-versus-copy\n",
      "  self._setitem_with_indexer(indexer, value)\n",
      "C:\\Users\\Tyson\\Anaconda3\\lib\\site-packages\\pandas\\core\\series.py:914: SettingWithCopyWarning: \n",
      "A value is trying to be set on a copy of a slice from a DataFrame\n",
      "\n",
      "See the caveats in the documentation: http://pandas.pydata.org/pandas-docs/stable/indexing.html#indexing-view-versus-copy\n",
      "  self.loc[key] = value\n",
      "C:\\Users\\Tyson\\Anaconda3\\lib\\site-packages\\IPython\\core\\interactiveshell.py:2963: SettingWithCopyWarning: \n",
      "A value is trying to be set on a copy of a slice from a DataFrame\n",
      "\n",
      "See the caveats in the documentation: http://pandas.pydata.org/pandas-docs/stable/indexing.html#indexing-view-versus-copy\n",
      "  exec(code_obj, self.user_global_ns, self.user_ns)\n",
      "C:\\Users\\Tyson\\Anaconda3\\lib\\site-packages\\ipykernel_launcher.py:19: SettingWithCopyWarning: \n",
      "A value is trying to be set on a copy of a slice from a DataFrame\n",
      "\n",
      "See the caveats in the documentation: http://pandas.pydata.org/pandas-docs/stable/indexing.html#indexing-view-versus-copy\n",
      "C:\\Users\\Tyson\\Anaconda3\\lib\\site-packages\\ipykernel_launcher.py:12: SettingWithCopyWarning: \n",
      "A value is trying to be set on a copy of a slice from a DataFrame\n",
      "\n",
      "See the caveats in the documentation: http://pandas.pydata.org/pandas-docs/stable/indexing.html#indexing-view-versus-copy\n",
      "  if sys.path[0] == '':\n",
      "C:\\Users\\Tyson\\Anaconda3\\lib\\site-packages\\ipykernel_launcher.py:23: SettingWithCopyWarning: \n",
      "A value is trying to be set on a copy of a slice from a DataFrame\n",
      "\n",
      "See the caveats in the documentation: http://pandas.pydata.org/pandas-docs/stable/indexing.html#indexing-view-versus-copy\n",
      "C:\\Users\\Tyson\\Anaconda3\\lib\\site-packages\\ipykernel_launcher.py:25: SettingWithCopyWarning: \n",
      "A value is trying to be set on a copy of a slice from a DataFrame\n",
      "\n",
      "See the caveats in the documentation: http://pandas.pydata.org/pandas-docs/stable/indexing.html#indexing-view-versus-copy\n",
      "C:\\Users\\Tyson\\Anaconda3\\lib\\site-packages\\ipykernel_launcher.py:14: SettingWithCopyWarning: \n",
      "A value is trying to be set on a copy of a slice from a DataFrame\n",
      "\n",
      "See the caveats in the documentation: http://pandas.pydata.org/pandas-docs/stable/indexing.html#indexing-view-versus-copy\n",
      "  \n"
     ]
    }
   ],
   "source": [
    "rawData_last['Buy'] = 0\n",
    "\n",
    "for i in range(0, 1):\n",
    "    if rawData_last['dif_predicted'][i] > upper_bound_25_ctws:\n",
    "        rawData_last['Buy'][i] = 'YES'\n",
    "    else:\n",
    "        rawData_last['Buy'][i] = 'NO'\n",
    "\n",
    "for i in range(1, 2263):\n",
    "    if rawData_last['dif_predicted'][i] > upper_bound_25_ctws:\n",
    "        if rawData_last['Buy'][i-1] in ('YES', 'HOLD BUY'):\n",
    "            rawData_last['Buy'][i] = 'HOLD BUY'\n",
    "        else:\n",
    "            rawData_last['Buy'][i] = 'YES'\n",
    "    else:\n",
    "        if rawData_last['Buy'][i-1] in ('YES', 'HOLD BUY'):\n",
    "            if rawData_last['dif_predicted'][i] > 0:\n",
    "                if rawData_last['Buy'][i-1] in ('YES', 'HOLD BUY'):\n",
    "                    rawData_last['Buy'][i] = 'HOLD BUY'\n",
    "                else:\n",
    "                    rawData_last['Buy'][i] = 'NO'\n",
    "            else:\n",
    "                    rawData_last['Buy'][i] = 'EXIT BUY'\n",
    "        else:\n",
    "            rawData_last['Buy'][i] = 'NO'"
   ]
  },
  {
   "cell_type": "code",
   "execution_count": 310,
   "metadata": {},
   "outputs": [
    {
     "name": "stderr",
     "output_type": "stream",
     "text": [
      "C:\\Users\\Tyson\\Anaconda3\\lib\\site-packages\\ipykernel_launcher.py:1: SettingWithCopyWarning: \n",
      "A value is trying to be set on a copy of a slice from a DataFrame.\n",
      "Try using .loc[row_indexer,col_indexer] = value instead\n",
      "\n",
      "See the caveats in the documentation: http://pandas.pydata.org/pandas-docs/stable/indexing.html#indexing-view-versus-copy\n",
      "  \"\"\"Entry point for launching an IPython kernel.\n",
      "C:\\Users\\Tyson\\Anaconda3\\lib\\site-packages\\ipykernel_launcher.py:7: SettingWithCopyWarning: \n",
      "A value is trying to be set on a copy of a slice from a DataFrame\n",
      "\n",
      "See the caveats in the documentation: http://pandas.pydata.org/pandas-docs/stable/indexing.html#indexing-view-versus-copy\n",
      "  import sys\n",
      "C:\\Users\\Tyson\\Anaconda3\\lib\\site-packages\\pandas\\core\\indexing.py:189: SettingWithCopyWarning: \n",
      "A value is trying to be set on a copy of a slice from a DataFrame\n",
      "\n",
      "See the caveats in the documentation: http://pandas.pydata.org/pandas-docs/stable/indexing.html#indexing-view-versus-copy\n",
      "  self._setitem_with_indexer(indexer, value)\n",
      "C:\\Users\\Tyson\\Anaconda3\\lib\\site-packages\\pandas\\core\\series.py:914: SettingWithCopyWarning: \n",
      "A value is trying to be set on a copy of a slice from a DataFrame\n",
      "\n",
      "See the caveats in the documentation: http://pandas.pydata.org/pandas-docs/stable/indexing.html#indexing-view-versus-copy\n",
      "  self.loc[key] = value\n",
      "C:\\Users\\Tyson\\Anaconda3\\lib\\site-packages\\IPython\\core\\interactiveshell.py:2963: SettingWithCopyWarning: \n",
      "A value is trying to be set on a copy of a slice from a DataFrame\n",
      "\n",
      "See the caveats in the documentation: http://pandas.pydata.org/pandas-docs/stable/indexing.html#indexing-view-versus-copy\n",
      "  exec(code_obj, self.user_global_ns, self.user_ns)\n",
      "C:\\Users\\Tyson\\Anaconda3\\lib\\site-packages\\ipykernel_launcher.py:25: SettingWithCopyWarning: \n",
      "A value is trying to be set on a copy of a slice from a DataFrame\n",
      "\n",
      "See the caveats in the documentation: http://pandas.pydata.org/pandas-docs/stable/indexing.html#indexing-view-versus-copy\n",
      "C:\\Users\\Tyson\\Anaconda3\\lib\\site-packages\\ipykernel_launcher.py:14: SettingWithCopyWarning: \n",
      "A value is trying to be set on a copy of a slice from a DataFrame\n",
      "\n",
      "See the caveats in the documentation: http://pandas.pydata.org/pandas-docs/stable/indexing.html#indexing-view-versus-copy\n",
      "  \n",
      "C:\\Users\\Tyson\\Anaconda3\\lib\\site-packages\\ipykernel_launcher.py:12: SettingWithCopyWarning: \n",
      "A value is trying to be set on a copy of a slice from a DataFrame\n",
      "\n",
      "See the caveats in the documentation: http://pandas.pydata.org/pandas-docs/stable/indexing.html#indexing-view-versus-copy\n",
      "  if sys.path[0] == '':\n",
      "C:\\Users\\Tyson\\Anaconda3\\lib\\site-packages\\ipykernel_launcher.py:19: SettingWithCopyWarning: \n",
      "A value is trying to be set on a copy of a slice from a DataFrame\n",
      "\n",
      "See the caveats in the documentation: http://pandas.pydata.org/pandas-docs/stable/indexing.html#indexing-view-versus-copy\n",
      "C:\\Users\\Tyson\\Anaconda3\\lib\\site-packages\\ipykernel_launcher.py:23: SettingWithCopyWarning: \n",
      "A value is trying to be set on a copy of a slice from a DataFrame\n",
      "\n",
      "See the caveats in the documentation: http://pandas.pydata.org/pandas-docs/stable/indexing.html#indexing-view-versus-copy\n"
     ]
    }
   ],
   "source": [
    "rawData_last['Sell'] = 0\n",
    "\n",
    "for i in range(0, 1):\n",
    "    if rawData_last['dif_predicted'][i] < lower_bound_25_ctws:\n",
    "        rawData_last['Sell'][i] = 'YES'\n",
    "    else:\n",
    "        rawData_last['Sell'][i] = 'NO'\n",
    "\n",
    "for i in range(1, 2263):\n",
    "    if rawData_last['dif_predicted'][i] < lower_bound_25_ctws:\n",
    "        if rawData_last['Sell'][i-1] in ('YES', 'HOLD SELL'):\n",
    "            rawData_last['Sell'][i] = 'HOLD SELL'\n",
    "        else:\n",
    "            rawData_last['Sell'][i] = 'YES'\n",
    "    else:\n",
    "        if rawData_last['Sell'][i-1] in ('YES', 'HOLD SELL'):\n",
    "            if rawData_last['dif_predicted'][i] < 0:\n",
    "                if rawData_last['Sell'][i-1] in ('YES', 'HOLD SELL'):\n",
    "                    rawData_last['Sell'][i] = 'HOLD SELL'\n",
    "                else:\n",
    "                    rawData_last['Sell'][i] = 'NO'\n",
    "            else:\n",
    "                    rawData_last['Sell'][i] = 'EXIT SELL'\n",
    "        else:\n",
    "            rawData_last['Sell'][i] = 'NO'"
   ]
  },
  {
   "cell_type": "code",
   "execution_count": 311,
   "metadata": {},
   "outputs": [],
   "source": [
    "ctws_buy = rawData_last.loc[rawData_last['Buy'] == 'YES']\n",
    "ctws_exit_buy = rawData_last.loc[rawData_last['Buy'] == 'EXIT BUY']\n",
    "\n",
    "ctws_buy.reset_index(inplace=True)\n",
    "ctws_exit_buy.reset_index(inplace=True)\n",
    "\n",
    "ctws_sell = rawData_last.loc[rawData_last['Sell'] == 'YES']\n",
    "ctws_exit_sell = rawData_last.loc[rawData_last['Sell'] == 'EXIT SELL']\n",
    "\n",
    "ctws_sell.reset_index(inplace=True)\n",
    "ctws_exit_sell.reset_index(inplace=True)"
   ]
  },
  {
   "cell_type": "code",
   "execution_count": 312,
   "metadata": {},
   "outputs": [],
   "source": [
    "ctws_signals['Buy Signals'][0] = rawData_last.loc[(rawData_last['PERMCO'] == 1191) & (rawData_last['Buy'] == 'YES')].count()[0]\n",
    "ctws_signals['Sell Signals'][0] = rawData_last.loc[(rawData_last['PERMCO'] == 1191) & (rawData_last['Sell'] == 'YES')].count()[0]"
   ]
  },
  {
   "cell_type": "code",
   "execution_count": 263,
   "metadata": {},
   "outputs": [
    {
     "name": "stderr",
     "output_type": "stream",
     "text": [
      "C:\\Users\\Tyson\\Anaconda3\\lib\\site-packages\\ipykernel_launcher.py:1: SettingWithCopyWarning: \n",
      "A value is trying to be set on a copy of a slice from a DataFrame.\n",
      "Try using .loc[row_indexer,col_indexer] = value instead\n",
      "\n",
      "See the caveats in the documentation: http://pandas.pydata.org/pandas-docs/stable/indexing.html#indexing-view-versus-copy\n",
      "  \"\"\"Entry point for launching an IPython kernel.\n",
      "C:\\Users\\Tyson\\Anaconda3\\lib\\site-packages\\ipykernel_launcher.py:7: SettingWithCopyWarning: \n",
      "A value is trying to be set on a copy of a slice from a DataFrame\n",
      "\n",
      "See the caveats in the documentation: http://pandas.pydata.org/pandas-docs/stable/indexing.html#indexing-view-versus-copy\n",
      "  import sys\n",
      "C:\\Users\\Tyson\\Anaconda3\\lib\\site-packages\\pandas\\core\\indexing.py:189: SettingWithCopyWarning: \n",
      "A value is trying to be set on a copy of a slice from a DataFrame\n",
      "\n",
      "See the caveats in the documentation: http://pandas.pydata.org/pandas-docs/stable/indexing.html#indexing-view-versus-copy\n",
      "  self._setitem_with_indexer(indexer, value)\n",
      "C:\\Users\\Tyson\\Anaconda3\\lib\\site-packages\\pandas\\core\\series.py:914: SettingWithCopyWarning: \n",
      "A value is trying to be set on a copy of a slice from a DataFrame\n",
      "\n",
      "See the caveats in the documentation: http://pandas.pydata.org/pandas-docs/stable/indexing.html#indexing-view-versus-copy\n",
      "  self.loc[key] = value\n",
      "C:\\Users\\Tyson\\Anaconda3\\lib\\site-packages\\IPython\\core\\interactiveshell.py:2963: SettingWithCopyWarning: \n",
      "A value is trying to be set on a copy of a slice from a DataFrame\n",
      "\n",
      "See the caveats in the documentation: http://pandas.pydata.org/pandas-docs/stable/indexing.html#indexing-view-versus-copy\n",
      "  exec(code_obj, self.user_global_ns, self.user_ns)\n",
      "C:\\Users\\Tyson\\Anaconda3\\lib\\site-packages\\ipykernel_launcher.py:25: SettingWithCopyWarning: \n",
      "A value is trying to be set on a copy of a slice from a DataFrame\n",
      "\n",
      "See the caveats in the documentation: http://pandas.pydata.org/pandas-docs/stable/indexing.html#indexing-view-versus-copy\n",
      "C:\\Users\\Tyson\\Anaconda3\\lib\\site-packages\\ipykernel_launcher.py:14: SettingWithCopyWarning: \n",
      "A value is trying to be set on a copy of a slice from a DataFrame\n",
      "\n",
      "See the caveats in the documentation: http://pandas.pydata.org/pandas-docs/stable/indexing.html#indexing-view-versus-copy\n",
      "  \n",
      "C:\\Users\\Tyson\\Anaconda3\\lib\\site-packages\\ipykernel_launcher.py:19: SettingWithCopyWarning: \n",
      "A value is trying to be set on a copy of a slice from a DataFrame\n",
      "\n",
      "See the caveats in the documentation: http://pandas.pydata.org/pandas-docs/stable/indexing.html#indexing-view-versus-copy\n",
      "C:\\Users\\Tyson\\Anaconda3\\lib\\site-packages\\ipykernel_launcher.py:23: SettingWithCopyWarning: \n",
      "A value is trying to be set on a copy of a slice from a DataFrame\n",
      "\n",
      "See the caveats in the documentation: http://pandas.pydata.org/pandas-docs/stable/indexing.html#indexing-view-versus-copy\n",
      "C:\\Users\\Tyson\\Anaconda3\\lib\\site-packages\\ipykernel_launcher.py:12: SettingWithCopyWarning: \n",
      "A value is trying to be set on a copy of a slice from a DataFrame\n",
      "\n",
      "See the caveats in the documentation: http://pandas.pydata.org/pandas-docs/stable/indexing.html#indexing-view-versus-copy\n",
      "  if sys.path[0] == '':\n"
     ]
    }
   ],
   "source": [
    "rawData_last['Buy'] = 0\n",
    "\n",
    "for i in range(0, 1):\n",
    "    if rawData_last['dif_predicted'][i] > upper_bound_50_ctws:\n",
    "        rawData_last['Buy'][i] = 'YES'\n",
    "    else:\n",
    "        rawData_last['Buy'][i] = 'NO'\n",
    "\n",
    "for i in range(1, 2263):\n",
    "    if rawData_last['dif_predicted'][i] > upper_bound_50_ctws:\n",
    "        if rawData_last['Buy'][i-1] in ('YES', 'HOLD BUY'):\n",
    "            rawData_last['Buy'][i] = 'HOLD BUY'\n",
    "        else:\n",
    "            rawData_last['Buy'][i] = 'YES'\n",
    "    else:\n",
    "        if rawData_last['Buy'][i-1] in ('YES', 'HOLD BUY'):\n",
    "            if rawData_last['dif_predicted'][i] > 0:\n",
    "                if rawData_last['Buy'][i-1] in ('YES', 'HOLD BUY'):\n",
    "                    rawData_last['Buy'][i] = 'HOLD BUY'\n",
    "                else:\n",
    "                    rawData_last['Buy'][i] = 'NO'\n",
    "            else:\n",
    "                    rawData_last['Buy'][i] = 'EXIT BUY'\n",
    "        else:\n",
    "            rawData_last['Buy'][i] = 'NO'"
   ]
  },
  {
   "cell_type": "code",
   "execution_count": 264,
   "metadata": {},
   "outputs": [
    {
     "name": "stderr",
     "output_type": "stream",
     "text": [
      "C:\\Users\\Tyson\\Anaconda3\\lib\\site-packages\\ipykernel_launcher.py:1: SettingWithCopyWarning: \n",
      "A value is trying to be set on a copy of a slice from a DataFrame.\n",
      "Try using .loc[row_indexer,col_indexer] = value instead\n",
      "\n",
      "See the caveats in the documentation: http://pandas.pydata.org/pandas-docs/stable/indexing.html#indexing-view-versus-copy\n",
      "  \"\"\"Entry point for launching an IPython kernel.\n",
      "C:\\Users\\Tyson\\Anaconda3\\lib\\site-packages\\ipykernel_launcher.py:7: SettingWithCopyWarning: \n",
      "A value is trying to be set on a copy of a slice from a DataFrame\n",
      "\n",
      "See the caveats in the documentation: http://pandas.pydata.org/pandas-docs/stable/indexing.html#indexing-view-versus-copy\n",
      "  import sys\n",
      "C:\\Users\\Tyson\\Anaconda3\\lib\\site-packages\\pandas\\core\\indexing.py:189: SettingWithCopyWarning: \n",
      "A value is trying to be set on a copy of a slice from a DataFrame\n",
      "\n",
      "See the caveats in the documentation: http://pandas.pydata.org/pandas-docs/stable/indexing.html#indexing-view-versus-copy\n",
      "  self._setitem_with_indexer(indexer, value)\n",
      "C:\\Users\\Tyson\\Anaconda3\\lib\\site-packages\\pandas\\core\\series.py:914: SettingWithCopyWarning: \n",
      "A value is trying to be set on a copy of a slice from a DataFrame\n",
      "\n",
      "See the caveats in the documentation: http://pandas.pydata.org/pandas-docs/stable/indexing.html#indexing-view-versus-copy\n",
      "  self.loc[key] = value\n",
      "C:\\Users\\Tyson\\Anaconda3\\lib\\site-packages\\IPython\\core\\interactiveshell.py:2963: SettingWithCopyWarning: \n",
      "A value is trying to be set on a copy of a slice from a DataFrame\n",
      "\n",
      "See the caveats in the documentation: http://pandas.pydata.org/pandas-docs/stable/indexing.html#indexing-view-versus-copy\n",
      "  exec(code_obj, self.user_global_ns, self.user_ns)\n",
      "C:\\Users\\Tyson\\Anaconda3\\lib\\site-packages\\ipykernel_launcher.py:25: SettingWithCopyWarning: \n",
      "A value is trying to be set on a copy of a slice from a DataFrame\n",
      "\n",
      "See the caveats in the documentation: http://pandas.pydata.org/pandas-docs/stable/indexing.html#indexing-view-versus-copy\n",
      "C:\\Users\\Tyson\\Anaconda3\\lib\\site-packages\\ipykernel_launcher.py:14: SettingWithCopyWarning: \n",
      "A value is trying to be set on a copy of a slice from a DataFrame\n",
      "\n",
      "See the caveats in the documentation: http://pandas.pydata.org/pandas-docs/stable/indexing.html#indexing-view-versus-copy\n",
      "  \n",
      "C:\\Users\\Tyson\\Anaconda3\\lib\\site-packages\\ipykernel_launcher.py:19: SettingWithCopyWarning: \n",
      "A value is trying to be set on a copy of a slice from a DataFrame\n",
      "\n",
      "See the caveats in the documentation: http://pandas.pydata.org/pandas-docs/stable/indexing.html#indexing-view-versus-copy\n",
      "C:\\Users\\Tyson\\Anaconda3\\lib\\site-packages\\ipykernel_launcher.py:12: SettingWithCopyWarning: \n",
      "A value is trying to be set on a copy of a slice from a DataFrame\n",
      "\n",
      "See the caveats in the documentation: http://pandas.pydata.org/pandas-docs/stable/indexing.html#indexing-view-versus-copy\n",
      "  if sys.path[0] == '':\n",
      "C:\\Users\\Tyson\\Anaconda3\\lib\\site-packages\\ipykernel_launcher.py:23: SettingWithCopyWarning: \n",
      "A value is trying to be set on a copy of a slice from a DataFrame\n",
      "\n",
      "See the caveats in the documentation: http://pandas.pydata.org/pandas-docs/stable/indexing.html#indexing-view-versus-copy\n"
     ]
    }
   ],
   "source": [
    "rawData_last['Sell'] = 0\n",
    "\n",
    "for i in range(0, 1):\n",
    "    if rawData_last['dif_predicted'][i] < lower_bound_50_ctws:\n",
    "        rawData_last['Sell'][i] = 'YES'\n",
    "    else:\n",
    "        rawData_last['Sell'][i] = 'NO'\n",
    "\n",
    "for i in range(1, 2263):\n",
    "    if rawData_last['dif_predicted'][i] < lower_bound_50_ctws:\n",
    "        if rawData_last['Sell'][i-1] in ('YES', 'HOLD SELL'):\n",
    "            rawData_last['Sell'][i] = 'HOLD SELL'\n",
    "        else:\n",
    "            rawData_last['Sell'][i] = 'YES'\n",
    "    else:\n",
    "        if rawData_last['Sell'][i-1] in ('YES', 'HOLD SELL'):\n",
    "            if rawData_last['dif_predicted'][i] < 0:\n",
    "                if rawData_last['Sell'][i-1] in ('YES', 'HOLD SELL'):\n",
    "                    rawData_last['Sell'][i] = 'HOLD SELL'\n",
    "                else:\n",
    "                    rawData_last['Sell'][i] = 'NO'\n",
    "            else:\n",
    "                    rawData_last['Sell'][i] = 'EXIT SELL'\n",
    "        else:\n",
    "            rawData_last['Sell'][i] = 'NO'"
   ]
  },
  {
   "cell_type": "code",
   "execution_count": 265,
   "metadata": {},
   "outputs": [],
   "source": [
    "ctws_signals['Buy Signals'][1] = rawData_last.loc[(rawData_last['PERMCO'] == 1191) & (rawData_last['Buy'] == 'YES')].count()[0]\n",
    "ctws_signals['Sell Signals'][1] = rawData_last.loc[(rawData_last['PERMCO'] == 1191) & (rawData_last['Sell'] == 'YES')].count()[0]"
   ]
  },
  {
   "cell_type": "code",
   "execution_count": 266,
   "metadata": {},
   "outputs": [
    {
     "name": "stderr",
     "output_type": "stream",
     "text": [
      "C:\\Users\\Tyson\\Anaconda3\\lib\\site-packages\\ipykernel_launcher.py:1: SettingWithCopyWarning: \n",
      "A value is trying to be set on a copy of a slice from a DataFrame.\n",
      "Try using .loc[row_indexer,col_indexer] = value instead\n",
      "\n",
      "See the caveats in the documentation: http://pandas.pydata.org/pandas-docs/stable/indexing.html#indexing-view-versus-copy\n",
      "  \"\"\"Entry point for launching an IPython kernel.\n",
      "C:\\Users\\Tyson\\Anaconda3\\lib\\site-packages\\ipykernel_launcher.py:7: SettingWithCopyWarning: \n",
      "A value is trying to be set on a copy of a slice from a DataFrame\n",
      "\n",
      "See the caveats in the documentation: http://pandas.pydata.org/pandas-docs/stable/indexing.html#indexing-view-versus-copy\n",
      "  import sys\n",
      "C:\\Users\\Tyson\\Anaconda3\\lib\\site-packages\\pandas\\core\\indexing.py:189: SettingWithCopyWarning: \n",
      "A value is trying to be set on a copy of a slice from a DataFrame\n",
      "\n",
      "See the caveats in the documentation: http://pandas.pydata.org/pandas-docs/stable/indexing.html#indexing-view-versus-copy\n",
      "  self._setitem_with_indexer(indexer, value)\n",
      "C:\\Users\\Tyson\\Anaconda3\\lib\\site-packages\\pandas\\core\\series.py:914: SettingWithCopyWarning: \n",
      "A value is trying to be set on a copy of a slice from a DataFrame\n",
      "\n",
      "See the caveats in the documentation: http://pandas.pydata.org/pandas-docs/stable/indexing.html#indexing-view-versus-copy\n",
      "  self.loc[key] = value\n",
      "C:\\Users\\Tyson\\Anaconda3\\lib\\site-packages\\IPython\\core\\interactiveshell.py:2963: SettingWithCopyWarning: \n",
      "A value is trying to be set on a copy of a slice from a DataFrame\n",
      "\n",
      "See the caveats in the documentation: http://pandas.pydata.org/pandas-docs/stable/indexing.html#indexing-view-versus-copy\n",
      "  exec(code_obj, self.user_global_ns, self.user_ns)\n",
      "C:\\Users\\Tyson\\Anaconda3\\lib\\site-packages\\ipykernel_launcher.py:25: SettingWithCopyWarning: \n",
      "A value is trying to be set on a copy of a slice from a DataFrame\n",
      "\n",
      "See the caveats in the documentation: http://pandas.pydata.org/pandas-docs/stable/indexing.html#indexing-view-versus-copy\n",
      "C:\\Users\\Tyson\\Anaconda3\\lib\\site-packages\\ipykernel_launcher.py:14: SettingWithCopyWarning: \n",
      "A value is trying to be set on a copy of a slice from a DataFrame\n",
      "\n",
      "See the caveats in the documentation: http://pandas.pydata.org/pandas-docs/stable/indexing.html#indexing-view-versus-copy\n",
      "  \n",
      "C:\\Users\\Tyson\\Anaconda3\\lib\\site-packages\\ipykernel_launcher.py:19: SettingWithCopyWarning: \n",
      "A value is trying to be set on a copy of a slice from a DataFrame\n",
      "\n",
      "See the caveats in the documentation: http://pandas.pydata.org/pandas-docs/stable/indexing.html#indexing-view-versus-copy\n",
      "C:\\Users\\Tyson\\Anaconda3\\lib\\site-packages\\ipykernel_launcher.py:23: SettingWithCopyWarning: \n",
      "A value is trying to be set on a copy of a slice from a DataFrame\n",
      "\n",
      "See the caveats in the documentation: http://pandas.pydata.org/pandas-docs/stable/indexing.html#indexing-view-versus-copy\n",
      "C:\\Users\\Tyson\\Anaconda3\\lib\\site-packages\\ipykernel_launcher.py:12: SettingWithCopyWarning: \n",
      "A value is trying to be set on a copy of a slice from a DataFrame\n",
      "\n",
      "See the caveats in the documentation: http://pandas.pydata.org/pandas-docs/stable/indexing.html#indexing-view-versus-copy\n",
      "  if sys.path[0] == '':\n"
     ]
    }
   ],
   "source": [
    "rawData_last['Buy'] = 0\n",
    "\n",
    "for i in range(0, 1):\n",
    "    if rawData_last['dif_predicted'][i] > upper_bound_75_ctws:\n",
    "        rawData_last['Buy'][i] = 'YES'\n",
    "    else:\n",
    "        rawData_last['Buy'][i] = 'NO'\n",
    "\n",
    "for i in range(1, 2263):\n",
    "    if rawData_last['dif_predicted'][i] > upper_bound_75_ctws:\n",
    "        if rawData_last['Buy'][i-1] in ('YES', 'HOLD BUY'):\n",
    "            rawData_last['Buy'][i] = 'HOLD BUY'\n",
    "        else:\n",
    "            rawData_last['Buy'][i] = 'YES'\n",
    "    else:\n",
    "        if rawData_last['Buy'][i-1] in ('YES', 'HOLD BUY'):\n",
    "            if rawData_last['dif_predicted'][i] > 0:\n",
    "                if rawData_last['Buy'][i-1] in ('YES', 'HOLD BUY'):\n",
    "                    rawData_last['Buy'][i] = 'HOLD BUY'\n",
    "                else:\n",
    "                    rawData_last['Buy'][i] = 'NO'\n",
    "            else:\n",
    "                    rawData_last['Buy'][i] = 'EXIT BUY'\n",
    "        else:\n",
    "            rawData_last['Buy'][i] = 'NO'"
   ]
  },
  {
   "cell_type": "code",
   "execution_count": 267,
   "metadata": {},
   "outputs": [
    {
     "name": "stderr",
     "output_type": "stream",
     "text": [
      "C:\\Users\\Tyson\\Anaconda3\\lib\\site-packages\\ipykernel_launcher.py:1: SettingWithCopyWarning: \n",
      "A value is trying to be set on a copy of a slice from a DataFrame.\n",
      "Try using .loc[row_indexer,col_indexer] = value instead\n",
      "\n",
      "See the caveats in the documentation: http://pandas.pydata.org/pandas-docs/stable/indexing.html#indexing-view-versus-copy\n",
      "  \"\"\"Entry point for launching an IPython kernel.\n",
      "C:\\Users\\Tyson\\Anaconda3\\lib\\site-packages\\ipykernel_launcher.py:7: SettingWithCopyWarning: \n",
      "A value is trying to be set on a copy of a slice from a DataFrame\n",
      "\n",
      "See the caveats in the documentation: http://pandas.pydata.org/pandas-docs/stable/indexing.html#indexing-view-versus-copy\n",
      "  import sys\n",
      "C:\\Users\\Tyson\\Anaconda3\\lib\\site-packages\\pandas\\core\\indexing.py:189: SettingWithCopyWarning: \n",
      "A value is trying to be set on a copy of a slice from a DataFrame\n",
      "\n",
      "See the caveats in the documentation: http://pandas.pydata.org/pandas-docs/stable/indexing.html#indexing-view-versus-copy\n",
      "  self._setitem_with_indexer(indexer, value)\n",
      "C:\\Users\\Tyson\\Anaconda3\\lib\\site-packages\\pandas\\core\\series.py:914: SettingWithCopyWarning: \n",
      "A value is trying to be set on a copy of a slice from a DataFrame\n",
      "\n",
      "See the caveats in the documentation: http://pandas.pydata.org/pandas-docs/stable/indexing.html#indexing-view-versus-copy\n",
      "  self.loc[key] = value\n",
      "C:\\Users\\Tyson\\Anaconda3\\lib\\site-packages\\IPython\\core\\interactiveshell.py:2963: SettingWithCopyWarning: \n",
      "A value is trying to be set on a copy of a slice from a DataFrame\n",
      "\n",
      "See the caveats in the documentation: http://pandas.pydata.org/pandas-docs/stable/indexing.html#indexing-view-versus-copy\n",
      "  exec(code_obj, self.user_global_ns, self.user_ns)\n",
      "C:\\Users\\Tyson\\Anaconda3\\lib\\site-packages\\ipykernel_launcher.py:25: SettingWithCopyWarning: \n",
      "A value is trying to be set on a copy of a slice from a DataFrame\n",
      "\n",
      "See the caveats in the documentation: http://pandas.pydata.org/pandas-docs/stable/indexing.html#indexing-view-versus-copy\n",
      "C:\\Users\\Tyson\\Anaconda3\\lib\\site-packages\\ipykernel_launcher.py:14: SettingWithCopyWarning: \n",
      "A value is trying to be set on a copy of a slice from a DataFrame\n",
      "\n",
      "See the caveats in the documentation: http://pandas.pydata.org/pandas-docs/stable/indexing.html#indexing-view-versus-copy\n",
      "  \n",
      "C:\\Users\\Tyson\\Anaconda3\\lib\\site-packages\\ipykernel_launcher.py:19: SettingWithCopyWarning: \n",
      "A value is trying to be set on a copy of a slice from a DataFrame\n",
      "\n",
      "See the caveats in the documentation: http://pandas.pydata.org/pandas-docs/stable/indexing.html#indexing-view-versus-copy\n",
      "C:\\Users\\Tyson\\Anaconda3\\lib\\site-packages\\ipykernel_launcher.py:12: SettingWithCopyWarning: \n",
      "A value is trying to be set on a copy of a slice from a DataFrame\n",
      "\n",
      "See the caveats in the documentation: http://pandas.pydata.org/pandas-docs/stable/indexing.html#indexing-view-versus-copy\n",
      "  if sys.path[0] == '':\n",
      "C:\\Users\\Tyson\\Anaconda3\\lib\\site-packages\\ipykernel_launcher.py:23: SettingWithCopyWarning: \n",
      "A value is trying to be set on a copy of a slice from a DataFrame\n",
      "\n",
      "See the caveats in the documentation: http://pandas.pydata.org/pandas-docs/stable/indexing.html#indexing-view-versus-copy\n"
     ]
    }
   ],
   "source": [
    "rawData_last['Sell'] = 0\n",
    "\n",
    "for i in range(0, 1):\n",
    "    if rawData_last['dif_predicted'][i] < lower_bound_75_ctws:\n",
    "        rawData_last['Sell'][i] = 'YES'\n",
    "    else:\n",
    "        rawData_last['Sell'][i] = 'NO'\n",
    "\n",
    "for i in range(1, 2263):\n",
    "    if rawData_last['dif_predicted'][i] < lower_bound_75_ctws:\n",
    "        if rawData_last['Sell'][i-1] in ('YES', 'HOLD SELL'):\n",
    "            rawData_last['Sell'][i] = 'HOLD SELL'\n",
    "        else:\n",
    "            rawData_last['Sell'][i] = 'YES'\n",
    "    else:\n",
    "        if rawData_last['Sell'][i-1] in ('YES', 'HOLD SELL'):\n",
    "            if rawData_last['dif_predicted'][i] < 0:\n",
    "                if rawData_last['Sell'][i-1] in ('YES', 'HOLD SELL'):\n",
    "                    rawData_last['Sell'][i] = 'HOLD SELL'\n",
    "                else:\n",
    "                    rawData_last['Sell'][i] = 'NO'\n",
    "            else:\n",
    "                    rawData_last['Sell'][i] = 'EXIT SELL'\n",
    "        else:\n",
    "            rawData_last['Sell'][i] = 'NO'"
   ]
  },
  {
   "cell_type": "code",
   "execution_count": 268,
   "metadata": {},
   "outputs": [],
   "source": [
    "ctws_signals['Buy Signals'][2] = rawData_last.loc[(rawData_last['PERMCO'] == 1191) & (rawData_last['Buy'] == 'YES')].count()[0]\n",
    "ctws_signals['Sell Signals'][2] = rawData_last.loc[(rawData_last['PERMCO'] == 1191) & (rawData_last['Sell'] == 'YES')].count()[0]"
   ]
  },
  {
   "cell_type": "code",
   "execution_count": 269,
   "metadata": {},
   "outputs": [
    {
     "data": {
      "text/html": [
       "<div>\n",
       "<style scoped>\n",
       "    .dataframe tbody tr th:only-of-type {\n",
       "        vertical-align: middle;\n",
       "    }\n",
       "\n",
       "    .dataframe tbody tr th {\n",
       "        vertical-align: top;\n",
       "    }\n",
       "\n",
       "    .dataframe thead th {\n",
       "        text-align: right;\n",
       "    }\n",
       "</style>\n",
       "<table border=\"1\" class=\"dataframe\">\n",
       "  <thead>\n",
       "    <tr style=\"text-align: right;\">\n",
       "      <th></th>\n",
       "      <th>δi</th>\n",
       "      <th>Buy Signals</th>\n",
       "      <th>Sell Signals</th>\n",
       "    </tr>\n",
       "  </thead>\n",
       "  <tbody>\n",
       "    <tr>\n",
       "      <th>0</th>\n",
       "      <td>0.25</td>\n",
       "      <td>15.0</td>\n",
       "      <td>9.0</td>\n",
       "    </tr>\n",
       "    <tr>\n",
       "      <th>1</th>\n",
       "      <td>0.50</td>\n",
       "      <td>6.0</td>\n",
       "      <td>7.0</td>\n",
       "    </tr>\n",
       "    <tr>\n",
       "      <th>2</th>\n",
       "      <td>0.75</td>\n",
       "      <td>4.0</td>\n",
       "      <td>6.0</td>\n",
       "    </tr>\n",
       "  </tbody>\n",
       "</table>\n",
       "</div>"
      ],
      "text/plain": [
       "     δi  Buy Signals  Sell Signals\n",
       "0  0.25         15.0           9.0\n",
       "1  0.50          6.0           7.0\n",
       "2  0.75          4.0           6.0"
      ]
     },
     "execution_count": 269,
     "metadata": {},
     "output_type": "execute_result"
    }
   ],
   "source": [
    "ctws_signals"
   ]
  },
  {
   "cell_type": "markdown",
   "metadata": {},
   "source": [
    "WTR"
   ]
  },
  {
   "cell_type": "code",
   "execution_count": 270,
   "metadata": {},
   "outputs": [],
   "source": [
    "wtr_signals = pd.DataFrame({'δi': (0.25, 0.50, 0.75), 'Buy Signals': (0.0, 0.0, 0.0), 'Sell Signals': (0.0, 0.0, 0.0)})"
   ]
  },
  {
   "cell_type": "code",
   "execution_count": 271,
   "metadata": {},
   "outputs": [
    {
     "name": "stderr",
     "output_type": "stream",
     "text": [
      "C:\\Users\\Tyson\\Anaconda3\\lib\\site-packages\\ipykernel_launcher.py:1: SettingWithCopyWarning: \n",
      "A value is trying to be set on a copy of a slice from a DataFrame.\n",
      "Try using .loc[row_indexer,col_indexer] = value instead\n",
      "\n",
      "See the caveats in the documentation: http://pandas.pydata.org/pandas-docs/stable/indexing.html#indexing-view-versus-copy\n",
      "  \"\"\"Entry point for launching an IPython kernel.\n",
      "C:\\Users\\Tyson\\Anaconda3\\lib\\site-packages\\ipykernel_launcher.py:7: SettingWithCopyWarning: \n",
      "A value is trying to be set on a copy of a slice from a DataFrame\n",
      "\n",
      "See the caveats in the documentation: http://pandas.pydata.org/pandas-docs/stable/indexing.html#indexing-view-versus-copy\n",
      "  import sys\n",
      "C:\\Users\\Tyson\\Anaconda3\\lib\\site-packages\\pandas\\core\\indexing.py:189: SettingWithCopyWarning: \n",
      "A value is trying to be set on a copy of a slice from a DataFrame\n",
      "\n",
      "See the caveats in the documentation: http://pandas.pydata.org/pandas-docs/stable/indexing.html#indexing-view-versus-copy\n",
      "  self._setitem_with_indexer(indexer, value)\n",
      "C:\\Users\\Tyson\\Anaconda3\\lib\\site-packages\\pandas\\core\\series.py:914: SettingWithCopyWarning: \n",
      "A value is trying to be set on a copy of a slice from a DataFrame\n",
      "\n",
      "See the caveats in the documentation: http://pandas.pydata.org/pandas-docs/stable/indexing.html#indexing-view-versus-copy\n",
      "  self.loc[key] = value\n",
      "C:\\Users\\Tyson\\Anaconda3\\lib\\site-packages\\IPython\\core\\interactiveshell.py:2963: SettingWithCopyWarning: \n",
      "A value is trying to be set on a copy of a slice from a DataFrame\n",
      "\n",
      "See the caveats in the documentation: http://pandas.pydata.org/pandas-docs/stable/indexing.html#indexing-view-versus-copy\n",
      "  exec(code_obj, self.user_global_ns, self.user_ns)\n",
      "C:\\Users\\Tyson\\Anaconda3\\lib\\site-packages\\ipykernel_launcher.py:25: SettingWithCopyWarning: \n",
      "A value is trying to be set on a copy of a slice from a DataFrame\n",
      "\n",
      "See the caveats in the documentation: http://pandas.pydata.org/pandas-docs/stable/indexing.html#indexing-view-versus-copy\n",
      "C:\\Users\\Tyson\\Anaconda3\\lib\\site-packages\\ipykernel_launcher.py:14: SettingWithCopyWarning: \n",
      "A value is trying to be set on a copy of a slice from a DataFrame\n",
      "\n",
      "See the caveats in the documentation: http://pandas.pydata.org/pandas-docs/stable/indexing.html#indexing-view-versus-copy\n",
      "  \n",
      "C:\\Users\\Tyson\\Anaconda3\\lib\\site-packages\\ipykernel_launcher.py:12: SettingWithCopyWarning: \n",
      "A value is trying to be set on a copy of a slice from a DataFrame\n",
      "\n",
      "See the caveats in the documentation: http://pandas.pydata.org/pandas-docs/stable/indexing.html#indexing-view-versus-copy\n",
      "  if sys.path[0] == '':\n",
      "C:\\Users\\Tyson\\Anaconda3\\lib\\site-packages\\ipykernel_launcher.py:19: SettingWithCopyWarning: \n",
      "A value is trying to be set on a copy of a slice from a DataFrame\n",
      "\n",
      "See the caveats in the documentation: http://pandas.pydata.org/pandas-docs/stable/indexing.html#indexing-view-versus-copy\n",
      "C:\\Users\\Tyson\\Anaconda3\\lib\\site-packages\\ipykernel_launcher.py:23: SettingWithCopyWarning: \n",
      "A value is trying to be set on a copy of a slice from a DataFrame\n",
      "\n",
      "See the caveats in the documentation: http://pandas.pydata.org/pandas-docs/stable/indexing.html#indexing-view-versus-copy\n"
     ]
    }
   ],
   "source": [
    "rawData_last['Buy'] = 0\n",
    "\n",
    "for i in range(2263, 2264):\n",
    "    if rawData_last['dif_predicted'][i] > upper_bound_25_wtr:\n",
    "        rawData_last['Buy'][i] = 'YES'\n",
    "    else:\n",
    "        rawData_last['Buy'][i] = 'NO'\n",
    "\n",
    "for i in range(2264, 4526):\n",
    "    if rawData_last['dif_predicted'][i] > upper_bound_25_wtr:\n",
    "        if rawData_last['Buy'][i-1] in ('YES', 'HOLD BUY'):\n",
    "            rawData_last['Buy'][i] = 'HOLD BUY'\n",
    "        else:\n",
    "            rawData_last['Buy'][i] = 'YES'\n",
    "    else:\n",
    "        if rawData_last['Buy'][i-1] in ('YES', 'HOLD BUY'):\n",
    "            if rawData_last['dif_predicted'][i] > 0:\n",
    "                if rawData_last['Buy'][i-1] in ('YES', 'HOLD BUY'):\n",
    "                    rawData_last['Buy'][i] = 'HOLD BUY'\n",
    "                else:\n",
    "                    rawData_last['Buy'][i] = 'NO'\n",
    "            else:\n",
    "                    rawData_last['Buy'][i] = 'EXIT BUY'\n",
    "        else:\n",
    "            rawData_last['Buy'][i] = 'NO'"
   ]
  },
  {
   "cell_type": "code",
   "execution_count": null,
   "metadata": {},
   "outputs": [],
   "source": [
    "rawData_last['Sell'] = 0\n",
    "\n",
    "for i in range(2263, 2264):\n",
    "    if rawData_last['dif_predicted'][i] < lower_bound_25_wtr:\n",
    "        rawData_last['Sell'][i] = 'YES'\n",
    "    else:\n",
    "        rawData_last['Sell'][i] = 'NO'\n",
    "\n",
    "for i in range(2264, 4526):\n",
    "    if rawData_last['dif_predicted'][i] < lower_bound_25_wtr:\n",
    "        if rawData_last['Sell'][i-1] in ('YES', 'HOLD SELL'):\n",
    "            rawData_last['Sell'][i] = 'HOLD SELL'\n",
    "        else:\n",
    "            rawData_last['Sell'][i] = 'YES'\n",
    "    else:\n",
    "        if rawData_last['Sell'][i-1] in ('YES', 'HOLD SELL'):\n",
    "            if rawData_last['dif_predicted'][i] < 0:\n",
    "                if rawData_last['Sell'][i-1] in ('YES', 'HOLD SELL'):\n",
    "                    rawData_last['Sell'][i] = 'HOLD SELL'\n",
    "                else:\n",
    "                    rawData_last['Sell'][i] = 'NO'\n",
    "            else:\n",
    "                    rawData_last['Sell'][i] = 'EXIT SELL'\n",
    "        else:\n",
    "            rawData_last['Sell'][i] = 'NO'"
   ]
  },
  {
   "cell_type": "code",
   "execution_count": null,
   "metadata": {},
   "outputs": [],
   "source": [
    "wtr_buy = rawData_last.loc[rawData_last['Buy'] == 'YES']\n",
    "wtr_exit_buy = rawData_last.loc[rawData_last['Buy'] == 'EXIT BUY']\n",
    "\n",
    "wtr_buy.reset_index(inplace=True)\n",
    "wtr_exit_buy.reset_index(inplace=True)\n",
    "\n",
    "wtr_sell = rawData_last.loc[rawData_last['Sell'] == 'YES']\n",
    "wtr_exit_sell = rawData_last.loc[rawData_last['Sell'] == 'EXIT SELL']\n",
    "\n",
    "wtr_sell.reset_index(inplace=True)\n",
    "wtr_exit_sell.reset_index(inplace=True)"
   ]
  },
  {
   "cell_type": "code",
   "execution_count": 276,
   "metadata": {},
   "outputs": [],
   "source": [
    "wtr_signals['Buy Signals'][0] = rawData_last.loc[(rawData_last['PERMCO'] == 21397) & (rawData_last['Buy'] == 'YES')].count()[0]\n",
    "wtr_signals['Sell Signals'][0] = rawData_last.loc[(rawData_last['PERMCO'] == 21397) & (rawData_last['Sell'] == 'YES')].count()[0]"
   ]
  },
  {
   "cell_type": "code",
   "execution_count": null,
   "metadata": {},
   "outputs": [],
   "source": [
    "rawData_last['Buy'] = 0\n",
    "\n",
    "for i in range(2263, 2264):\n",
    "    if rawData_last['dif_predicted'][i] > upper_bound_50_wtr:\n",
    "        rawData_last['Buy'][i] = 'YES'\n",
    "    else:\n",
    "        rawData_last['Buy'][i] = 'NO'\n",
    "\n",
    "for i in range(2264, 4526):\n",
    "    if rawData_last['dif_predicted'][i] > upper_bound_50_wtr:\n",
    "        if rawData_last['Buy'][i-1] in ('YES', 'HOLD BUY'):\n",
    "            rawData_last['Buy'][i] = 'HOLD BUY'\n",
    "        else:\n",
    "            rawData_last['Buy'][i] = 'YES'\n",
    "    else:\n",
    "        if rawData_last['Buy'][i-1] in ('YES', 'HOLD BUY'):\n",
    "            if rawData_last['dif_predicted'][i] > 0:\n",
    "                if rawData_last['Buy'][i-1] in ('YES', 'HOLD BUY'):\n",
    "                    rawData_last['Buy'][i] = 'HOLD BUY'\n",
    "                else:\n",
    "                    rawData_last['Buy'][i] = 'NO'\n",
    "            else:\n",
    "                    rawData_last['Buy'][i] = 'EXIT BUY'\n",
    "        else:\n",
    "            rawData_last['Buy'][i] = 'NO'"
   ]
  },
  {
   "cell_type": "code",
   "execution_count": null,
   "metadata": {},
   "outputs": [],
   "source": [
    "rawData_last['Sell'] = 0\n",
    "\n",
    "for i in range(2263, 2264):\n",
    "    if rawData_last['dif_predicted'][i] < lower_bound_50_wtr:\n",
    "        rawData_last['Sell'][i] = 'YES'\n",
    "    else:\n",
    "        rawData_last['Sell'][i] = 'NO'\n",
    "\n",
    "for i in range(2264, 4526):\n",
    "    if rawData_last['dif_predicted'][i] < lower_bound_50_wtr:\n",
    "        if rawData_last['Sell'][i-1] in ('YES', 'HOLD SELL'):\n",
    "            rawData_last['Sell'][i] = 'HOLD SELL'\n",
    "        else:\n",
    "            rawData_last['Sell'][i] = 'YES'\n",
    "    else:\n",
    "        if rawData_last['Sell'][i-1] in ('YES', 'HOLD SELL'):\n",
    "            if rawData_last['dif_predicted'][i] < 0:\n",
    "                if rawData_last['Sell'][i-1] in ('YES', 'HOLD SELL'):\n",
    "                    rawData_last['Sell'][i] = 'HOLD SELL'\n",
    "                else:\n",
    "                    rawData_last['Sell'][i] = 'NO'\n",
    "            else:\n",
    "                    rawData_last['Sell'][i] = 'EXIT SELL'\n",
    "        else:\n",
    "            rawData_last['Sell'][i] = 'NO'"
   ]
  },
  {
   "cell_type": "code",
   "execution_count": null,
   "metadata": {},
   "outputs": [],
   "source": [
    "wtr_signals['Buy Signals'][1] = rawData_last.loc[(rawData_last['PERMCO'] == 21397) & (rawData_last['Buy'] == 'YES')].count()[0]\n",
    "wtr_signals['Sell Signals'][1] = rawData_last.loc[(rawData_last['PERMCO'] == 21397) & (rawData_last['Sell'] == 'YES')].count()[0]"
   ]
  },
  {
   "cell_type": "code",
   "execution_count": null,
   "metadata": {},
   "outputs": [],
   "source": [
    "rawData_last['Buy'] = 0\n",
    "\n",
    "for i in range(2263, 2264):\n",
    "    if rawData_last['dif_predicted'][i] > upper_bound_75_wtr:\n",
    "        rawData_last['Buy'][i] = 'YES'\n",
    "    else:\n",
    "        rawData_last['Buy'][i] = 'NO'\n",
    "\n",
    "for i in range(2264, 4526):\n",
    "    if rawData_last['dif_predicted'][i] > upper_bound_75_wtr:\n",
    "        if rawData_last['Buy'][i-1] in ('YES', 'HOLD BUY'):\n",
    "            rawData_last['Buy'][i] = 'HOLD BUY'\n",
    "        else:\n",
    "            rawData_last['Buy'][i] = 'YES'\n",
    "    else:\n",
    "        if rawData_last['Buy'][i-1] in ('YES', 'HOLD BUY'):\n",
    "            if rawData_last['dif_predicted'][i] > 0:\n",
    "                if rawData_last['Buy'][i-1] in ('YES', 'HOLD BUY'):\n",
    "                    rawData_last['Buy'][i] = 'HOLD BUY'\n",
    "                else:\n",
    "                    rawData_last['Buy'][i] = 'NO'\n",
    "            else:\n",
    "                    rawData_last['Buy'][i] = 'EXIT BUY'\n",
    "        else:\n",
    "            rawData_last['Buy'][i] = 'NO'"
   ]
  },
  {
   "cell_type": "code",
   "execution_count": null,
   "metadata": {},
   "outputs": [],
   "source": [
    "rawData_last['Sell'] = 0\n",
    "\n",
    "for i in range(2263, 2264):\n",
    "    if rawData_last['dif_predicted'][i] < lower_bound_75_wtr:\n",
    "        rawData_last['Sell'][i] = 'YES'\n",
    "    else:\n",
    "        rawData_last['Sell'][i] = 'NO'\n",
    "\n",
    "for i in range(2264, 4526):\n",
    "    if rawData_last['dif_predicted'][i] < lower_bound_75_wtr:\n",
    "        if rawData_last['Sell'][i-1] in ('YES', 'HOLD SELL'):\n",
    "            rawData_last['Sell'][i] = 'HOLD SELL'\n",
    "        else:\n",
    "            rawData_last['Sell'][i] = 'YES'\n",
    "    else:\n",
    "        if rawData_last['Sell'][i-1] in ('YES', 'HOLD SELL'):\n",
    "            if rawData_last['dif_predicted'][i] < 0:\n",
    "                if rawData_last['Sell'][i-1] in ('YES', 'HOLD SELL'):\n",
    "                    rawData_last['Sell'][i] = 'HOLD SELL'\n",
    "                else:\n",
    "                    rawData_last['Sell'][i] = 'NO'\n",
    "            else:\n",
    "                    rawData_last['Sell'][i] = 'EXIT SELL'\n",
    "        else:\n",
    "            rawData_last['Sell'][i] = 'NO'"
   ]
  },
  {
   "cell_type": "code",
   "execution_count": null,
   "metadata": {},
   "outputs": [],
   "source": [
    "wtr_signals['Buy Signals'][2] = rawData_last.loc[(rawData_last['PERMCO'] == 21397) & (rawData_last['Buy'] == 'YES')].count()[0]\n",
    "wtr_signals['Sell Signals'][2] = rawData_last.loc[(rawData_last['PERMCO'] == 21397) & (rawData_last['Sell'] == 'YES')].count()[0]"
   ]
  },
  {
   "cell_type": "code",
   "execution_count": 277,
   "metadata": {},
   "outputs": [
    {
     "data": {
      "text/html": [
       "<div>\n",
       "<style scoped>\n",
       "    .dataframe tbody tr th:only-of-type {\n",
       "        vertical-align: middle;\n",
       "    }\n",
       "\n",
       "    .dataframe tbody tr th {\n",
       "        vertical-align: top;\n",
       "    }\n",
       "\n",
       "    .dataframe thead th {\n",
       "        text-align: right;\n",
       "    }\n",
       "</style>\n",
       "<table border=\"1\" class=\"dataframe\">\n",
       "  <thead>\n",
       "    <tr style=\"text-align: right;\">\n",
       "      <th></th>\n",
       "      <th>δi</th>\n",
       "      <th>Buy Signals</th>\n",
       "      <th>Sell Signals</th>\n",
       "    </tr>\n",
       "  </thead>\n",
       "  <tbody>\n",
       "    <tr>\n",
       "      <th>0</th>\n",
       "      <td>0.25</td>\n",
       "      <td>21.0</td>\n",
       "      <td>0.0</td>\n",
       "    </tr>\n",
       "    <tr>\n",
       "      <th>1</th>\n",
       "      <td>0.50</td>\n",
       "      <td>0.0</td>\n",
       "      <td>0.0</td>\n",
       "    </tr>\n",
       "    <tr>\n",
       "      <th>2</th>\n",
       "      <td>0.75</td>\n",
       "      <td>0.0</td>\n",
       "      <td>0.0</td>\n",
       "    </tr>\n",
       "  </tbody>\n",
       "</table>\n",
       "</div>"
      ],
      "text/plain": [
       "     δi  Buy Signals  Sell Signals\n",
       "0  0.25         21.0           0.0\n",
       "1  0.50          0.0           0.0\n",
       "2  0.75          0.0           0.0"
      ]
     },
     "execution_count": 277,
     "metadata": {},
     "output_type": "execute_result"
    }
   ],
   "source": [
    "wtr_signals"
   ]
  },
  {
   "cell_type": "markdown",
   "metadata": {},
   "source": [
    "AWR"
   ]
  },
  {
   "cell_type": "code",
   "execution_count": 278,
   "metadata": {},
   "outputs": [],
   "source": [
    "awr_signals = pd.DataFrame({'δi': (0.25, 0.50, 0.75), 'Buy Signals': (0.0, 0.0, 0.0), 'Sell Signals': (0.0, 0.0, 0.0)})"
   ]
  },
  {
   "cell_type": "code",
   "execution_count": 279,
   "metadata": {},
   "outputs": [
    {
     "name": "stderr",
     "output_type": "stream",
     "text": [
      "C:\\Users\\Tyson\\Anaconda3\\lib\\site-packages\\ipykernel_launcher.py:1: SettingWithCopyWarning: \n",
      "A value is trying to be set on a copy of a slice from a DataFrame.\n",
      "Try using .loc[row_indexer,col_indexer] = value instead\n",
      "\n",
      "See the caveats in the documentation: http://pandas.pydata.org/pandas-docs/stable/indexing.html#indexing-view-versus-copy\n",
      "  \"\"\"Entry point for launching an IPython kernel.\n",
      "C:\\Users\\Tyson\\Anaconda3\\lib\\site-packages\\ipykernel_launcher.py:5: SettingWithCopyWarning: \n",
      "A value is trying to be set on a copy of a slice from a DataFrame\n",
      "\n",
      "See the caveats in the documentation: http://pandas.pydata.org/pandas-docs/stable/indexing.html#indexing-view-versus-copy\n",
      "  \"\"\"\n",
      "C:\\Users\\Tyson\\Anaconda3\\lib\\site-packages\\pandas\\core\\indexing.py:189: SettingWithCopyWarning: \n",
      "A value is trying to be set on a copy of a slice from a DataFrame\n",
      "\n",
      "See the caveats in the documentation: http://pandas.pydata.org/pandas-docs/stable/indexing.html#indexing-view-versus-copy\n",
      "  self._setitem_with_indexer(indexer, value)\n",
      "C:\\Users\\Tyson\\Anaconda3\\lib\\site-packages\\pandas\\core\\series.py:914: SettingWithCopyWarning: \n",
      "A value is trying to be set on a copy of a slice from a DataFrame\n",
      "\n",
      "See the caveats in the documentation: http://pandas.pydata.org/pandas-docs/stable/indexing.html#indexing-view-versus-copy\n",
      "  self.loc[key] = value\n",
      "C:\\Users\\Tyson\\Anaconda3\\lib\\site-packages\\IPython\\core\\interactiveshell.py:2963: SettingWithCopyWarning: \n",
      "A value is trying to be set on a copy of a slice from a DataFrame\n",
      "\n",
      "See the caveats in the documentation: http://pandas.pydata.org/pandas-docs/stable/indexing.html#indexing-view-versus-copy\n",
      "  exec(code_obj, self.user_global_ns, self.user_ns)\n",
      "C:\\Users\\Tyson\\Anaconda3\\lib\\site-packages\\ipykernel_launcher.py:12: SettingWithCopyWarning: \n",
      "A value is trying to be set on a copy of a slice from a DataFrame\n",
      "\n",
      "See the caveats in the documentation: http://pandas.pydata.org/pandas-docs/stable/indexing.html#indexing-view-versus-copy\n",
      "  if sys.path[0] == '':\n",
      "C:\\Users\\Tyson\\Anaconda3\\lib\\site-packages\\ipykernel_launcher.py:19: SettingWithCopyWarning: \n",
      "A value is trying to be set on a copy of a slice from a DataFrame\n",
      "\n",
      "See the caveats in the documentation: http://pandas.pydata.org/pandas-docs/stable/indexing.html#indexing-view-versus-copy\n",
      "C:\\Users\\Tyson\\Anaconda3\\lib\\site-packages\\ipykernel_launcher.py:23: SettingWithCopyWarning: \n",
      "A value is trying to be set on a copy of a slice from a DataFrame\n",
      "\n",
      "See the caveats in the documentation: http://pandas.pydata.org/pandas-docs/stable/indexing.html#indexing-view-versus-copy\n",
      "C:\\Users\\Tyson\\Anaconda3\\lib\\site-packages\\ipykernel_launcher.py:25: SettingWithCopyWarning: \n",
      "A value is trying to be set on a copy of a slice from a DataFrame\n",
      "\n",
      "See the caveats in the documentation: http://pandas.pydata.org/pandas-docs/stable/indexing.html#indexing-view-versus-copy\n",
      "C:\\Users\\Tyson\\Anaconda3\\lib\\site-packages\\ipykernel_launcher.py:14: SettingWithCopyWarning: \n",
      "A value is trying to be set on a copy of a slice from a DataFrame\n",
      "\n",
      "See the caveats in the documentation: http://pandas.pydata.org/pandas-docs/stable/indexing.html#indexing-view-versus-copy\n",
      "  \n"
     ]
    }
   ],
   "source": [
    "rawData_last['Buy'] = 0\n",
    "\n",
    "for i in range(4526, 4527):\n",
    "    if rawData_last['dif_predicted'][i] > upper_bound_25_awr:\n",
    "        rawData_last['Buy'][i] = 'YES'\n",
    "    else:\n",
    "        rawData_last['Buy'][i] = 'NO'\n",
    "\n",
    "for i in range(4527, 6789):\n",
    "    if rawData_last['dif_predicted'][i] > upper_bound_25_awr:\n",
    "        if rawData_last['Buy'][i-1] in ('YES', 'HOLD BUY'):\n",
    "            rawData_last['Buy'][i] = 'HOLD BUY'\n",
    "        else:\n",
    "            rawData_last['Buy'][i] = 'YES'\n",
    "    else:\n",
    "        if rawData_last['Buy'][i-1] in ('YES', 'HOLD BUY'):\n",
    "            if rawData_last['dif_predicted'][i] > 0:\n",
    "                if rawData_last['Buy'][i-1] in ('YES', 'HOLD BUY'):\n",
    "                    rawData_last['Buy'][i] = 'HOLD BUY'\n",
    "                else:\n",
    "                    rawData_last['Buy'][i] = 'NO'\n",
    "            else:\n",
    "                    rawData_last['Buy'][i] = 'EXIT BUY'\n",
    "        else:\n",
    "            rawData_last['Buy'][i] = 'NO'"
   ]
  },
  {
   "cell_type": "code",
   "execution_count": 280,
   "metadata": {},
   "outputs": [
    {
     "name": "stderr",
     "output_type": "stream",
     "text": [
      "C:\\Users\\Tyson\\Anaconda3\\lib\\site-packages\\ipykernel_launcher.py:1: SettingWithCopyWarning: \n",
      "A value is trying to be set on a copy of a slice from a DataFrame.\n",
      "Try using .loc[row_indexer,col_indexer] = value instead\n",
      "\n",
      "See the caveats in the documentation: http://pandas.pydata.org/pandas-docs/stable/indexing.html#indexing-view-versus-copy\n",
      "  \"\"\"Entry point for launching an IPython kernel.\n",
      "C:\\Users\\Tyson\\Anaconda3\\lib\\site-packages\\ipykernel_launcher.py:7: SettingWithCopyWarning: \n",
      "A value is trying to be set on a copy of a slice from a DataFrame\n",
      "\n",
      "See the caveats in the documentation: http://pandas.pydata.org/pandas-docs/stable/indexing.html#indexing-view-versus-copy\n",
      "  import sys\n",
      "C:\\Users\\Tyson\\Anaconda3\\lib\\site-packages\\pandas\\core\\indexing.py:189: SettingWithCopyWarning: \n",
      "A value is trying to be set on a copy of a slice from a DataFrame\n",
      "\n",
      "See the caveats in the documentation: http://pandas.pydata.org/pandas-docs/stable/indexing.html#indexing-view-versus-copy\n",
      "  self._setitem_with_indexer(indexer, value)\n",
      "C:\\Users\\Tyson\\Anaconda3\\lib\\site-packages\\pandas\\core\\series.py:914: SettingWithCopyWarning: \n",
      "A value is trying to be set on a copy of a slice from a DataFrame\n",
      "\n",
      "See the caveats in the documentation: http://pandas.pydata.org/pandas-docs/stable/indexing.html#indexing-view-versus-copy\n",
      "  self.loc[key] = value\n",
      "C:\\Users\\Tyson\\Anaconda3\\lib\\site-packages\\IPython\\core\\interactiveshell.py:2963: SettingWithCopyWarning: \n",
      "A value is trying to be set on a copy of a slice from a DataFrame\n",
      "\n",
      "See the caveats in the documentation: http://pandas.pydata.org/pandas-docs/stable/indexing.html#indexing-view-versus-copy\n",
      "  exec(code_obj, self.user_global_ns, self.user_ns)\n",
      "C:\\Users\\Tyson\\Anaconda3\\lib\\site-packages\\ipykernel_launcher.py:25: SettingWithCopyWarning: \n",
      "A value is trying to be set on a copy of a slice from a DataFrame\n",
      "\n",
      "See the caveats in the documentation: http://pandas.pydata.org/pandas-docs/stable/indexing.html#indexing-view-versus-copy\n",
      "C:\\Users\\Tyson\\Anaconda3\\lib\\site-packages\\ipykernel_launcher.py:14: SettingWithCopyWarning: \n",
      "A value is trying to be set on a copy of a slice from a DataFrame\n",
      "\n",
      "See the caveats in the documentation: http://pandas.pydata.org/pandas-docs/stable/indexing.html#indexing-view-versus-copy\n",
      "  \n",
      "C:\\Users\\Tyson\\Anaconda3\\lib\\site-packages\\ipykernel_launcher.py:12: SettingWithCopyWarning: \n",
      "A value is trying to be set on a copy of a slice from a DataFrame\n",
      "\n",
      "See the caveats in the documentation: http://pandas.pydata.org/pandas-docs/stable/indexing.html#indexing-view-versus-copy\n",
      "  if sys.path[0] == '':\n",
      "C:\\Users\\Tyson\\Anaconda3\\lib\\site-packages\\ipykernel_launcher.py:23: SettingWithCopyWarning: \n",
      "A value is trying to be set on a copy of a slice from a DataFrame\n",
      "\n",
      "See the caveats in the documentation: http://pandas.pydata.org/pandas-docs/stable/indexing.html#indexing-view-versus-copy\n",
      "C:\\Users\\Tyson\\Anaconda3\\lib\\site-packages\\ipykernel_launcher.py:19: SettingWithCopyWarning: \n",
      "A value is trying to be set on a copy of a slice from a DataFrame\n",
      "\n",
      "See the caveats in the documentation: http://pandas.pydata.org/pandas-docs/stable/indexing.html#indexing-view-versus-copy\n"
     ]
    }
   ],
   "source": [
    "rawData_last['Sell'] = 0\n",
    "\n",
    "for i in range(4526, 4527):\n",
    "    if rawData_last['dif_predicted'][i] < lower_bound_25_awr:\n",
    "        rawData_last['Sell'][i] = 'YES'\n",
    "    else:\n",
    "        rawData_last['Sell'][i] = 'NO'\n",
    "\n",
    "for i in range(4527, 6789):\n",
    "    if rawData_last['dif_predicted'][i] < lower_bound_25_awr:\n",
    "        if rawData_last['Sell'][i-1] in ('YES', 'HOLD SELL'):\n",
    "            rawData_last['Sell'][i] = 'HOLD SELL'\n",
    "        else:\n",
    "            rawData_last['Sell'][i] = 'YES'\n",
    "    else:\n",
    "        if rawData_last['Sell'][i-1] in ('YES', 'HOLD SELL'):\n",
    "            if rawData_last['dif_predicted'][i] < 0:\n",
    "                if rawData_last['Sell'][i-1] in ('YES', 'HOLD SELL'):\n",
    "                    rawData_last['Sell'][i] = 'HOLD SELL'\n",
    "                else:\n",
    "                    rawData_last['Sell'][i] = 'NO'\n",
    "            else:\n",
    "                    rawData_last['Sell'][i] = 'EXIT SELL'\n",
    "        else:\n",
    "            rawData_last['Sell'][i] = 'NO'"
   ]
  },
  {
   "cell_type": "code",
   "execution_count": null,
   "metadata": {},
   "outputs": [],
   "source": [
    "awr_buy = rawData_last.loc[rawData_last['Buy'] == 'YES']\n",
    "awr_exit_buy = rawData_last.loc[rawData_last['Buy'] == 'EXIT BUY']\n",
    "\n",
    "awr_buy.reset_index(inplace=True)\n",
    "awr_exit_buy.reset_index(inplace=True)\n",
    "\n",
    "awr_sell = rawData_last.loc[rawData_last['Sell'] == 'YES']\n",
    "awr_exit_sell = rawData_last.loc[rawData_last['Sell'] == 'EXIT SELL']\n",
    "\n",
    "awr_sell.reset_index(inplace=True)\n",
    "awr_exit_sell.reset_index(inplace=True)"
   ]
  },
  {
   "cell_type": "code",
   "execution_count": 281,
   "metadata": {},
   "outputs": [],
   "source": [
    "awr_signals['Buy Signals'][0] = rawData_last.loc[(rawData_last['PERMCO'] == 4350) & (rawData_last['Buy'] == 'YES')].count()[0]\n",
    "awr_signals['Sell Signals'][0] = rawData_last.loc[(rawData_last['PERMCO'] == 4350) & (rawData_last['Sell'] == 'YES')].count()[0]"
   ]
  },
  {
   "cell_type": "code",
   "execution_count": 282,
   "metadata": {},
   "outputs": [
    {
     "name": "stderr",
     "output_type": "stream",
     "text": [
      "C:\\Users\\Tyson\\Anaconda3\\lib\\site-packages\\ipykernel_launcher.py:1: SettingWithCopyWarning: \n",
      "A value is trying to be set on a copy of a slice from a DataFrame.\n",
      "Try using .loc[row_indexer,col_indexer] = value instead\n",
      "\n",
      "See the caveats in the documentation: http://pandas.pydata.org/pandas-docs/stable/indexing.html#indexing-view-versus-copy\n",
      "  \"\"\"Entry point for launching an IPython kernel.\n",
      "C:\\Users\\Tyson\\Anaconda3\\lib\\site-packages\\ipykernel_launcher.py:5: SettingWithCopyWarning: \n",
      "A value is trying to be set on a copy of a slice from a DataFrame\n",
      "\n",
      "See the caveats in the documentation: http://pandas.pydata.org/pandas-docs/stable/indexing.html#indexing-view-versus-copy\n",
      "  \"\"\"\n",
      "C:\\Users\\Tyson\\Anaconda3\\lib\\site-packages\\pandas\\core\\indexing.py:189: SettingWithCopyWarning: \n",
      "A value is trying to be set on a copy of a slice from a DataFrame\n",
      "\n",
      "See the caveats in the documentation: http://pandas.pydata.org/pandas-docs/stable/indexing.html#indexing-view-versus-copy\n",
      "  self._setitem_with_indexer(indexer, value)\n",
      "C:\\Users\\Tyson\\Anaconda3\\lib\\site-packages\\pandas\\core\\series.py:914: SettingWithCopyWarning: \n",
      "A value is trying to be set on a copy of a slice from a DataFrame\n",
      "\n",
      "See the caveats in the documentation: http://pandas.pydata.org/pandas-docs/stable/indexing.html#indexing-view-versus-copy\n",
      "  self.loc[key] = value\n",
      "C:\\Users\\Tyson\\Anaconda3\\lib\\site-packages\\IPython\\core\\interactiveshell.py:2963: SettingWithCopyWarning: \n",
      "A value is trying to be set on a copy of a slice from a DataFrame\n",
      "\n",
      "See the caveats in the documentation: http://pandas.pydata.org/pandas-docs/stable/indexing.html#indexing-view-versus-copy\n",
      "  exec(code_obj, self.user_global_ns, self.user_ns)\n",
      "C:\\Users\\Tyson\\Anaconda3\\lib\\site-packages\\ipykernel_launcher.py:12: SettingWithCopyWarning: \n",
      "A value is trying to be set on a copy of a slice from a DataFrame\n",
      "\n",
      "See the caveats in the documentation: http://pandas.pydata.org/pandas-docs/stable/indexing.html#indexing-view-versus-copy\n",
      "  if sys.path[0] == '':\n",
      "C:\\Users\\Tyson\\Anaconda3\\lib\\site-packages\\ipykernel_launcher.py:19: SettingWithCopyWarning: \n",
      "A value is trying to be set on a copy of a slice from a DataFrame\n",
      "\n",
      "See the caveats in the documentation: http://pandas.pydata.org/pandas-docs/stable/indexing.html#indexing-view-versus-copy\n",
      "C:\\Users\\Tyson\\Anaconda3\\lib\\site-packages\\ipykernel_launcher.py:23: SettingWithCopyWarning: \n",
      "A value is trying to be set on a copy of a slice from a DataFrame\n",
      "\n",
      "See the caveats in the documentation: http://pandas.pydata.org/pandas-docs/stable/indexing.html#indexing-view-versus-copy\n",
      "C:\\Users\\Tyson\\Anaconda3\\lib\\site-packages\\ipykernel_launcher.py:25: SettingWithCopyWarning: \n",
      "A value is trying to be set on a copy of a slice from a DataFrame\n",
      "\n",
      "See the caveats in the documentation: http://pandas.pydata.org/pandas-docs/stable/indexing.html#indexing-view-versus-copy\n",
      "C:\\Users\\Tyson\\Anaconda3\\lib\\site-packages\\ipykernel_launcher.py:14: SettingWithCopyWarning: \n",
      "A value is trying to be set on a copy of a slice from a DataFrame\n",
      "\n",
      "See the caveats in the documentation: http://pandas.pydata.org/pandas-docs/stable/indexing.html#indexing-view-versus-copy\n",
      "  \n"
     ]
    }
   ],
   "source": [
    "rawData_last['Buy'] = 0\n",
    "\n",
    "for i in range(4526, 4527):\n",
    "    if rawData_last['dif_predicted'][i] > upper_bound_50_awr:\n",
    "        rawData_last['Buy'][i] = 'YES'\n",
    "    else:\n",
    "        rawData_last['Buy'][i] = 'NO'\n",
    "\n",
    "for i in range(4527, 6789):\n",
    "    if rawData_last['dif_predicted'][i] > upper_bound_50_awr:\n",
    "        if rawData_last['Buy'][i-1] in ('YES', 'HOLD BUY'):\n",
    "            rawData_last['Buy'][i] = 'HOLD BUY'\n",
    "        else:\n",
    "            rawData_last['Buy'][i] = 'YES'\n",
    "    else:\n",
    "        if rawData_last['Buy'][i-1] in ('YES', 'HOLD BUY'):\n",
    "            if rawData_last['dif_predicted'][i] > 0:\n",
    "                if rawData_last['Buy'][i-1] in ('YES', 'HOLD BUY'):\n",
    "                    rawData_last['Buy'][i] = 'HOLD BUY'\n",
    "                else:\n",
    "                    rawData_last['Buy'][i] = 'NO'\n",
    "            else:\n",
    "                    rawData_last['Buy'][i] = 'EXIT BUY'\n",
    "        else:\n",
    "            rawData_last['Buy'][i] = 'NO'"
   ]
  },
  {
   "cell_type": "code",
   "execution_count": 283,
   "metadata": {},
   "outputs": [
    {
     "name": "stderr",
     "output_type": "stream",
     "text": [
      "C:\\Users\\Tyson\\Anaconda3\\lib\\site-packages\\ipykernel_launcher.py:1: SettingWithCopyWarning: \n",
      "A value is trying to be set on a copy of a slice from a DataFrame.\n",
      "Try using .loc[row_indexer,col_indexer] = value instead\n",
      "\n",
      "See the caveats in the documentation: http://pandas.pydata.org/pandas-docs/stable/indexing.html#indexing-view-versus-copy\n",
      "  \"\"\"Entry point for launching an IPython kernel.\n",
      "C:\\Users\\Tyson\\Anaconda3\\lib\\site-packages\\ipykernel_launcher.py:7: SettingWithCopyWarning: \n",
      "A value is trying to be set on a copy of a slice from a DataFrame\n",
      "\n",
      "See the caveats in the documentation: http://pandas.pydata.org/pandas-docs/stable/indexing.html#indexing-view-versus-copy\n",
      "  import sys\n",
      "C:\\Users\\Tyson\\Anaconda3\\lib\\site-packages\\pandas\\core\\indexing.py:189: SettingWithCopyWarning: \n",
      "A value is trying to be set on a copy of a slice from a DataFrame\n",
      "\n",
      "See the caveats in the documentation: http://pandas.pydata.org/pandas-docs/stable/indexing.html#indexing-view-versus-copy\n",
      "  self._setitem_with_indexer(indexer, value)\n",
      "C:\\Users\\Tyson\\Anaconda3\\lib\\site-packages\\pandas\\core\\series.py:914: SettingWithCopyWarning: \n",
      "A value is trying to be set on a copy of a slice from a DataFrame\n",
      "\n",
      "See the caveats in the documentation: http://pandas.pydata.org/pandas-docs/stable/indexing.html#indexing-view-versus-copy\n",
      "  self.loc[key] = value\n",
      "C:\\Users\\Tyson\\Anaconda3\\lib\\site-packages\\IPython\\core\\interactiveshell.py:2963: SettingWithCopyWarning: \n",
      "A value is trying to be set on a copy of a slice from a DataFrame\n",
      "\n",
      "See the caveats in the documentation: http://pandas.pydata.org/pandas-docs/stable/indexing.html#indexing-view-versus-copy\n",
      "  exec(code_obj, self.user_global_ns, self.user_ns)\n",
      "C:\\Users\\Tyson\\Anaconda3\\lib\\site-packages\\ipykernel_launcher.py:25: SettingWithCopyWarning: \n",
      "A value is trying to be set on a copy of a slice from a DataFrame\n",
      "\n",
      "See the caveats in the documentation: http://pandas.pydata.org/pandas-docs/stable/indexing.html#indexing-view-versus-copy\n",
      "C:\\Users\\Tyson\\Anaconda3\\lib\\site-packages\\ipykernel_launcher.py:14: SettingWithCopyWarning: \n",
      "A value is trying to be set on a copy of a slice from a DataFrame\n",
      "\n",
      "See the caveats in the documentation: http://pandas.pydata.org/pandas-docs/stable/indexing.html#indexing-view-versus-copy\n",
      "  \n",
      "C:\\Users\\Tyson\\Anaconda3\\lib\\site-packages\\ipykernel_launcher.py:19: SettingWithCopyWarning: \n",
      "A value is trying to be set on a copy of a slice from a DataFrame\n",
      "\n",
      "See the caveats in the documentation: http://pandas.pydata.org/pandas-docs/stable/indexing.html#indexing-view-versus-copy\n",
      "C:\\Users\\Tyson\\Anaconda3\\lib\\site-packages\\ipykernel_launcher.py:12: SettingWithCopyWarning: \n",
      "A value is trying to be set on a copy of a slice from a DataFrame\n",
      "\n",
      "See the caveats in the documentation: http://pandas.pydata.org/pandas-docs/stable/indexing.html#indexing-view-versus-copy\n",
      "  if sys.path[0] == '':\n",
      "C:\\Users\\Tyson\\Anaconda3\\lib\\site-packages\\ipykernel_launcher.py:23: SettingWithCopyWarning: \n",
      "A value is trying to be set on a copy of a slice from a DataFrame\n",
      "\n",
      "See the caveats in the documentation: http://pandas.pydata.org/pandas-docs/stable/indexing.html#indexing-view-versus-copy\n"
     ]
    }
   ],
   "source": [
    "rawData_last['Sell'] = 0\n",
    "\n",
    "for i in range(4526, 4527):\n",
    "    if rawData_last['dif_predicted'][i] < lower_bound_50_awr:\n",
    "        rawData_last['Sell'][i] = 'YES'\n",
    "    else:\n",
    "        rawData_last['Sell'][i] = 'NO'\n",
    "\n",
    "for i in range(4527, 6789):\n",
    "    if rawData_last['dif_predicted'][i] < lower_bound_50_awr:\n",
    "        if rawData_last['Sell'][i-1] in ('YES', 'HOLD SELL'):\n",
    "            rawData_last['Sell'][i] = 'HOLD SELL'\n",
    "        else:\n",
    "            rawData_last['Sell'][i] = 'YES'\n",
    "    else:\n",
    "        if rawData_last['Sell'][i-1] in ('YES', 'HOLD SELL'):\n",
    "            if rawData_last['dif_predicted'][i] < 0:\n",
    "                if rawData_last['Sell'][i-1] in ('YES', 'HOLD SELL'):\n",
    "                    rawData_last['Sell'][i] = 'HOLD SELL'\n",
    "                else:\n",
    "                    rawData_last['Sell'][i] = 'NO'\n",
    "            else:\n",
    "                    rawData_last['Sell'][i] = 'EXIT SELL'\n",
    "        else:\n",
    "            rawData_last['Sell'][i] = 'NO'"
   ]
  },
  {
   "cell_type": "code",
   "execution_count": 284,
   "metadata": {},
   "outputs": [],
   "source": [
    "awr_signals['Buy Signals'][1] = rawData_last.loc[(rawData_last['PERMCO'] == 4350) & (rawData_last['Buy'] == 'YES')].count()[0]\n",
    "awr_signals['Sell Signals'][1] = rawData_last.loc[(rawData_last['PERMCO'] == 4350) & (rawData_last['Sell'] == 'YES')].count()[0]"
   ]
  },
  {
   "cell_type": "code",
   "execution_count": 285,
   "metadata": {},
   "outputs": [
    {
     "name": "stderr",
     "output_type": "stream",
     "text": [
      "C:\\Users\\Tyson\\Anaconda3\\lib\\site-packages\\ipykernel_launcher.py:1: SettingWithCopyWarning: \n",
      "A value is trying to be set on a copy of a slice from a DataFrame.\n",
      "Try using .loc[row_indexer,col_indexer] = value instead\n",
      "\n",
      "See the caveats in the documentation: http://pandas.pydata.org/pandas-docs/stable/indexing.html#indexing-view-versus-copy\n",
      "  \"\"\"Entry point for launching an IPython kernel.\n",
      "C:\\Users\\Tyson\\Anaconda3\\lib\\site-packages\\ipykernel_launcher.py:5: SettingWithCopyWarning: \n",
      "A value is trying to be set on a copy of a slice from a DataFrame\n",
      "\n",
      "See the caveats in the documentation: http://pandas.pydata.org/pandas-docs/stable/indexing.html#indexing-view-versus-copy\n",
      "  \"\"\"\n",
      "C:\\Users\\Tyson\\Anaconda3\\lib\\site-packages\\pandas\\core\\indexing.py:189: SettingWithCopyWarning: \n",
      "A value is trying to be set on a copy of a slice from a DataFrame\n",
      "\n",
      "See the caveats in the documentation: http://pandas.pydata.org/pandas-docs/stable/indexing.html#indexing-view-versus-copy\n",
      "  self._setitem_with_indexer(indexer, value)\n",
      "C:\\Users\\Tyson\\Anaconda3\\lib\\site-packages\\pandas\\core\\series.py:914: SettingWithCopyWarning: \n",
      "A value is trying to be set on a copy of a slice from a DataFrame\n",
      "\n",
      "See the caveats in the documentation: http://pandas.pydata.org/pandas-docs/stable/indexing.html#indexing-view-versus-copy\n",
      "  self.loc[key] = value\n",
      "C:\\Users\\Tyson\\Anaconda3\\lib\\site-packages\\IPython\\core\\interactiveshell.py:2963: SettingWithCopyWarning: \n",
      "A value is trying to be set on a copy of a slice from a DataFrame\n",
      "\n",
      "See the caveats in the documentation: http://pandas.pydata.org/pandas-docs/stable/indexing.html#indexing-view-versus-copy\n",
      "  exec(code_obj, self.user_global_ns, self.user_ns)\n",
      "C:\\Users\\Tyson\\Anaconda3\\lib\\site-packages\\ipykernel_launcher.py:12: SettingWithCopyWarning: \n",
      "A value is trying to be set on a copy of a slice from a DataFrame\n",
      "\n",
      "See the caveats in the documentation: http://pandas.pydata.org/pandas-docs/stable/indexing.html#indexing-view-versus-copy\n",
      "  if sys.path[0] == '':\n",
      "C:\\Users\\Tyson\\Anaconda3\\lib\\site-packages\\ipykernel_launcher.py:19: SettingWithCopyWarning: \n",
      "A value is trying to be set on a copy of a slice from a DataFrame\n",
      "\n",
      "See the caveats in the documentation: http://pandas.pydata.org/pandas-docs/stable/indexing.html#indexing-view-versus-copy\n",
      "C:\\Users\\Tyson\\Anaconda3\\lib\\site-packages\\ipykernel_launcher.py:23: SettingWithCopyWarning: \n",
      "A value is trying to be set on a copy of a slice from a DataFrame\n",
      "\n",
      "See the caveats in the documentation: http://pandas.pydata.org/pandas-docs/stable/indexing.html#indexing-view-versus-copy\n",
      "C:\\Users\\Tyson\\Anaconda3\\lib\\site-packages\\ipykernel_launcher.py:25: SettingWithCopyWarning: \n",
      "A value is trying to be set on a copy of a slice from a DataFrame\n",
      "\n",
      "See the caveats in the documentation: http://pandas.pydata.org/pandas-docs/stable/indexing.html#indexing-view-versus-copy\n",
      "C:\\Users\\Tyson\\Anaconda3\\lib\\site-packages\\ipykernel_launcher.py:14: SettingWithCopyWarning: \n",
      "A value is trying to be set on a copy of a slice from a DataFrame\n",
      "\n",
      "See the caveats in the documentation: http://pandas.pydata.org/pandas-docs/stable/indexing.html#indexing-view-versus-copy\n",
      "  \n"
     ]
    }
   ],
   "source": [
    "rawData_last['Buy'] = 0\n",
    "\n",
    "for i in range(4526, 4527):\n",
    "    if rawData_last['dif_predicted'][i] > upper_bound_75_awr:\n",
    "        rawData_last['Buy'][i] = 'YES'\n",
    "    else:\n",
    "        rawData_last['Buy'][i] = 'NO'\n",
    "\n",
    "for i in range(4527, 6789):\n",
    "    if rawData_last['dif_predicted'][i] > upper_bound_75_awr:\n",
    "        if rawData_last['Buy'][i-1] in ('YES', 'HOLD BUY'):\n",
    "            rawData_last['Buy'][i] = 'HOLD BUY'\n",
    "        else:\n",
    "            rawData_last['Buy'][i] = 'YES'\n",
    "    else:\n",
    "        if rawData_last['Buy'][i-1] in ('YES', 'HOLD BUY'):\n",
    "            if rawData_last['dif_predicted'][i] > 0:\n",
    "                if rawData_last['Buy'][i-1] in ('YES', 'HOLD BUY'):\n",
    "                    rawData_last['Buy'][i] = 'HOLD BUY'\n",
    "                else:\n",
    "                    rawData_last['Buy'][i] = 'NO'\n",
    "            else:\n",
    "                    rawData_last['Buy'][i] = 'EXIT BUY'\n",
    "        else:\n",
    "            rawData_last['Buy'][i] = 'NO'"
   ]
  },
  {
   "cell_type": "code",
   "execution_count": 286,
   "metadata": {},
   "outputs": [
    {
     "name": "stderr",
     "output_type": "stream",
     "text": [
      "C:\\Users\\Tyson\\Anaconda3\\lib\\site-packages\\ipykernel_launcher.py:1: SettingWithCopyWarning: \n",
      "A value is trying to be set on a copy of a slice from a DataFrame.\n",
      "Try using .loc[row_indexer,col_indexer] = value instead\n",
      "\n",
      "See the caveats in the documentation: http://pandas.pydata.org/pandas-docs/stable/indexing.html#indexing-view-versus-copy\n",
      "  \"\"\"Entry point for launching an IPython kernel.\n",
      "C:\\Users\\Tyson\\Anaconda3\\lib\\site-packages\\ipykernel_launcher.py:7: SettingWithCopyWarning: \n",
      "A value is trying to be set on a copy of a slice from a DataFrame\n",
      "\n",
      "See the caveats in the documentation: http://pandas.pydata.org/pandas-docs/stable/indexing.html#indexing-view-versus-copy\n",
      "  import sys\n",
      "C:\\Users\\Tyson\\Anaconda3\\lib\\site-packages\\pandas\\core\\indexing.py:189: SettingWithCopyWarning: \n",
      "A value is trying to be set on a copy of a slice from a DataFrame\n",
      "\n",
      "See the caveats in the documentation: http://pandas.pydata.org/pandas-docs/stable/indexing.html#indexing-view-versus-copy\n",
      "  self._setitem_with_indexer(indexer, value)\n",
      "C:\\Users\\Tyson\\Anaconda3\\lib\\site-packages\\pandas\\core\\series.py:914: SettingWithCopyWarning: \n",
      "A value is trying to be set on a copy of a slice from a DataFrame\n",
      "\n",
      "See the caveats in the documentation: http://pandas.pydata.org/pandas-docs/stable/indexing.html#indexing-view-versus-copy\n",
      "  self.loc[key] = value\n",
      "C:\\Users\\Tyson\\Anaconda3\\lib\\site-packages\\IPython\\core\\interactiveshell.py:2963: SettingWithCopyWarning: \n",
      "A value is trying to be set on a copy of a slice from a DataFrame\n",
      "\n",
      "See the caveats in the documentation: http://pandas.pydata.org/pandas-docs/stable/indexing.html#indexing-view-versus-copy\n",
      "  exec(code_obj, self.user_global_ns, self.user_ns)\n",
      "C:\\Users\\Tyson\\Anaconda3\\lib\\site-packages\\ipykernel_launcher.py:25: SettingWithCopyWarning: \n",
      "A value is trying to be set on a copy of a slice from a DataFrame\n",
      "\n",
      "See the caveats in the documentation: http://pandas.pydata.org/pandas-docs/stable/indexing.html#indexing-view-versus-copy\n",
      "C:\\Users\\Tyson\\Anaconda3\\lib\\site-packages\\ipykernel_launcher.py:14: SettingWithCopyWarning: \n",
      "A value is trying to be set on a copy of a slice from a DataFrame\n",
      "\n",
      "See the caveats in the documentation: http://pandas.pydata.org/pandas-docs/stable/indexing.html#indexing-view-versus-copy\n",
      "  \n",
      "C:\\Users\\Tyson\\Anaconda3\\lib\\site-packages\\ipykernel_launcher.py:19: SettingWithCopyWarning: \n",
      "A value is trying to be set on a copy of a slice from a DataFrame\n",
      "\n",
      "See the caveats in the documentation: http://pandas.pydata.org/pandas-docs/stable/indexing.html#indexing-view-versus-copy\n",
      "C:\\Users\\Tyson\\Anaconda3\\lib\\site-packages\\ipykernel_launcher.py:23: SettingWithCopyWarning: \n",
      "A value is trying to be set on a copy of a slice from a DataFrame\n",
      "\n",
      "See the caveats in the documentation: http://pandas.pydata.org/pandas-docs/stable/indexing.html#indexing-view-versus-copy\n"
     ]
    }
   ],
   "source": [
    "rawData_last['Sell'] = 0\n",
    "\n",
    "for i in range(4526, 4527):\n",
    "    if rawData_last['dif_predicted'][i] < lower_bound_75_awr:\n",
    "        rawData_last['Sell'][i] = 'YES'\n",
    "    else:\n",
    "        rawData_last['Sell'][i] = 'NO'\n",
    "\n",
    "for i in range(4527, 6789):\n",
    "    if rawData_last['dif_predicted'][i] < lower_bound_75_awr:\n",
    "        if rawData_last['Sell'][i-1] in ('YES', 'HOLD SELL'):\n",
    "            rawData_last['Sell'][i] = 'HOLD SELL'\n",
    "        else:\n",
    "            rawData_last['Sell'][i] = 'YES'\n",
    "    else:\n",
    "        if rawData_last['Sell'][i-1] in ('YES', 'HOLD SELL'):\n",
    "            if rawData_last['dif_predicted'][i] < 0:\n",
    "                if rawData_last['Sell'][i-1] in ('YES', 'HOLD SELL'):\n",
    "                    rawData_last['Sell'][i] = 'HOLD SELL'\n",
    "                else:\n",
    "                    rawData_last['Sell'][i] = 'NO'\n",
    "            else:\n",
    "                    rawData_last['Sell'][i] = 'EXIT SELL'\n",
    "        else:\n",
    "            rawData_last['Sell'][i] = 'NO'"
   ]
  },
  {
   "cell_type": "code",
   "execution_count": 287,
   "metadata": {},
   "outputs": [],
   "source": [
    "awr_signals['Buy Signals'][2] = rawData_last.loc[(rawData_last['PERMCO'] == 4350) & (rawData_last['Buy'] == 'YES')].count()[0]\n",
    "awr_signals['Sell Signals'][2] = rawData_last.loc[(rawData_last['PERMCO'] == 4350) & (rawData_last['Sell'] == 'YES')].count()[0]"
   ]
  },
  {
   "cell_type": "code",
   "execution_count": 289,
   "metadata": {},
   "outputs": [
    {
     "data": {
      "text/html": [
       "<div>\n",
       "<style scoped>\n",
       "    .dataframe tbody tr th:only-of-type {\n",
       "        vertical-align: middle;\n",
       "    }\n",
       "\n",
       "    .dataframe tbody tr th {\n",
       "        vertical-align: top;\n",
       "    }\n",
       "\n",
       "    .dataframe thead th {\n",
       "        text-align: right;\n",
       "    }\n",
       "</style>\n",
       "<table border=\"1\" class=\"dataframe\">\n",
       "  <thead>\n",
       "    <tr style=\"text-align: right;\">\n",
       "      <th></th>\n",
       "      <th>δi</th>\n",
       "      <th>Buy Signals</th>\n",
       "      <th>Sell Signals</th>\n",
       "    </tr>\n",
       "  </thead>\n",
       "  <tbody>\n",
       "    <tr>\n",
       "      <th>0</th>\n",
       "      <td>0.25</td>\n",
       "      <td>10.0</td>\n",
       "      <td>12.0</td>\n",
       "    </tr>\n",
       "    <tr>\n",
       "      <th>1</th>\n",
       "      <td>0.50</td>\n",
       "      <td>5.0</td>\n",
       "      <td>6.0</td>\n",
       "    </tr>\n",
       "    <tr>\n",
       "      <th>2</th>\n",
       "      <td>0.75</td>\n",
       "      <td>4.0</td>\n",
       "      <td>1.0</td>\n",
       "    </tr>\n",
       "  </tbody>\n",
       "</table>\n",
       "</div>"
      ],
      "text/plain": [
       "     δi  Buy Signals  Sell Signals\n",
       "0  0.25         10.0          12.0\n",
       "1  0.50          5.0           6.0\n",
       "2  0.75          4.0           1.0"
      ]
     },
     "execution_count": 289,
     "metadata": {},
     "output_type": "execute_result"
    }
   ],
   "source": [
    "awr_signals"
   ]
  },
  {
   "cell_type": "markdown",
   "metadata": {},
   "source": [
    "_Length/Gain(Loss) of each first buy/sell_"
   ]
  },
  {
   "cell_type": "markdown",
   "metadata": {},
   "source": [
    "Buy CTWS"
   ]
  },
  {
   "cell_type": "code",
   "execution_count": 313,
   "metadata": {},
   "outputs": [
    {
     "name": "stderr",
     "output_type": "stream",
     "text": [
      "C:\\Users\\Tyson\\Anaconda3\\lib\\site-packages\\ipykernel_launcher.py:1: SettingWithCopyWarning: \n",
      "A value is trying to be set on a copy of a slice from a DataFrame\n",
      "\n",
      "See the caveats in the documentation: http://pandas.pydata.org/pandas-docs/stable/indexing.html#indexing-view-versus-copy\n",
      "  \"\"\"Entry point for launching an IPython kernel.\n",
      "C:\\Users\\Tyson\\Anaconda3\\lib\\site-packages\\pandas\\core\\indexing.py:189: SettingWithCopyWarning: \n",
      "A value is trying to be set on a copy of a slice from a DataFrame\n",
      "\n",
      "See the caveats in the documentation: http://pandas.pydata.org/pandas-docs/stable/indexing.html#indexing-view-versus-copy\n",
      "  self._setitem_with_indexer(indexer, value)\n",
      "C:\\Users\\Tyson\\Anaconda3\\lib\\site-packages\\pandas\\core\\series.py:914: SettingWithCopyWarning: \n",
      "A value is trying to be set on a copy of a slice from a DataFrame\n",
      "\n",
      "See the caveats in the documentation: http://pandas.pydata.org/pandas-docs/stable/indexing.html#indexing-view-versus-copy\n",
      "  self.loc[key] = value\n",
      "C:\\Users\\Tyson\\Anaconda3\\lib\\site-packages\\IPython\\core\\interactiveshell.py:2963: SettingWithCopyWarning: \n",
      "A value is trying to be set on a copy of a slice from a DataFrame\n",
      "\n",
      "See the caveats in the documentation: http://pandas.pydata.org/pandas-docs/stable/indexing.html#indexing-view-versus-copy\n",
      "  exec(code_obj, self.user_global_ns, self.user_ns)\n",
      "C:\\Users\\Tyson\\Anaconda3\\lib\\site-packages\\ipykernel_launcher.py:2: SettingWithCopyWarning: \n",
      "A value is trying to be set on a copy of a slice from a DataFrame\n",
      "\n",
      "See the caveats in the documentation: http://pandas.pydata.org/pandas-docs/stable/indexing.html#indexing-view-versus-copy\n",
      "  \n",
      "C:\\Users\\Tyson\\Anaconda3\\lib\\site-packages\\ipykernel_launcher.py:4: SettingWithCopyWarning: \n",
      "A value is trying to be set on a copy of a slice from a DataFrame\n",
      "\n",
      "See the caveats in the documentation: http://pandas.pydata.org/pandas-docs/stable/indexing.html#indexing-view-versus-copy\n",
      "  after removing the cwd from sys.path.\n",
      "C:\\Users\\Tyson\\Anaconda3\\lib\\site-packages\\ipykernel_launcher.py:5: SettingWithCopyWarning: \n",
      "A value is trying to be set on a copy of a slice from a DataFrame\n",
      "\n",
      "See the caveats in the documentation: http://pandas.pydata.org/pandas-docs/stable/indexing.html#indexing-view-versus-copy\n",
      "  \"\"\"\n"
     ]
    },
    {
     "data": {
      "text/plain": [
       "22"
      ]
     },
     "execution_count": 313,
     "metadata": {},
     "output_type": "execute_result"
    }
   ],
   "source": [
    "ctws_buy['date'][0] = datetime.strptime(str(ctws_buy['date'][0]), '%Y%m%d').strftime('%Y/%m/%d')\n",
    "ctws_exit_buy['date'][0] = datetime.strptime(str(ctws_exit_buy['date'][0]), '%Y%m%d').strftime('%Y/%m/%d')\n",
    "\n",
    "ctws_buy['date'][0] = datetime.strptime(ctws_buy['date'][0], \"%Y/%m/%d\")\n",
    "ctws_exit_buy['date'][0] = datetime.strptime(ctws_exit_buy['date'][0], \"%Y/%m/%d\")\n",
    "\n",
    "Round_Trip_Buy_ctws = abs((ctws_buy['date'][0] - ctws_exit_buy['date'][0]).days)\n",
    "\n",
    "Profit_ctws = ctws_exit_buy['PRC'][0] - ctws_buy['PRC'][0]"
   ]
  },
  {
   "cell_type": "code",
   "execution_count": 328,
   "metadata": {},
   "outputs": [
    {
     "name": "stdout",
     "output_type": "stream",
     "text": [
      "The first buy trade at δ1 = 0.25 for CTWS was 22 days and resulted in a profit of $-2.25\n"
     ]
    }
   ],
   "source": [
    "print(f\"The first buy trade at δ1 = 0.25 for CTWS was {Round_Trip_Buy_ctws:0.0f} days and resulted in a profit of ${Profit_ctws: 0.2f}\")"
   ]
  },
  {
   "cell_type": "markdown",
   "metadata": {},
   "source": [
    "Sell CTWS"
   ]
  },
  {
   "cell_type": "code",
   "execution_count": 314,
   "metadata": {},
   "outputs": [
    {
     "name": "stderr",
     "output_type": "stream",
     "text": [
      "C:\\Users\\Tyson\\Anaconda3\\lib\\site-packages\\ipykernel_launcher.py:1: SettingWithCopyWarning: \n",
      "A value is trying to be set on a copy of a slice from a DataFrame\n",
      "\n",
      "See the caveats in the documentation: http://pandas.pydata.org/pandas-docs/stable/indexing.html#indexing-view-versus-copy\n",
      "  \"\"\"Entry point for launching an IPython kernel.\n",
      "C:\\Users\\Tyson\\Anaconda3\\lib\\site-packages\\pandas\\core\\indexing.py:189: SettingWithCopyWarning: \n",
      "A value is trying to be set on a copy of a slice from a DataFrame\n",
      "\n",
      "See the caveats in the documentation: http://pandas.pydata.org/pandas-docs/stable/indexing.html#indexing-view-versus-copy\n",
      "  self._setitem_with_indexer(indexer, value)\n",
      "C:\\Users\\Tyson\\Anaconda3\\lib\\site-packages\\pandas\\core\\series.py:914: SettingWithCopyWarning: \n",
      "A value is trying to be set on a copy of a slice from a DataFrame\n",
      "\n",
      "See the caveats in the documentation: http://pandas.pydata.org/pandas-docs/stable/indexing.html#indexing-view-versus-copy\n",
      "  self.loc[key] = value\n",
      "C:\\Users\\Tyson\\Anaconda3\\lib\\site-packages\\IPython\\core\\interactiveshell.py:2963: SettingWithCopyWarning: \n",
      "A value is trying to be set on a copy of a slice from a DataFrame\n",
      "\n",
      "See the caveats in the documentation: http://pandas.pydata.org/pandas-docs/stable/indexing.html#indexing-view-versus-copy\n",
      "  exec(code_obj, self.user_global_ns, self.user_ns)\n",
      "C:\\Users\\Tyson\\Anaconda3\\lib\\site-packages\\ipykernel_launcher.py:2: SettingWithCopyWarning: \n",
      "A value is trying to be set on a copy of a slice from a DataFrame\n",
      "\n",
      "See the caveats in the documentation: http://pandas.pydata.org/pandas-docs/stable/indexing.html#indexing-view-versus-copy\n",
      "  \n",
      "C:\\Users\\Tyson\\Anaconda3\\lib\\site-packages\\ipykernel_launcher.py:4: SettingWithCopyWarning: \n",
      "A value is trying to be set on a copy of a slice from a DataFrame\n",
      "\n",
      "See the caveats in the documentation: http://pandas.pydata.org/pandas-docs/stable/indexing.html#indexing-view-versus-copy\n",
      "  after removing the cwd from sys.path.\n",
      "C:\\Users\\Tyson\\Anaconda3\\lib\\site-packages\\ipykernel_launcher.py:5: SettingWithCopyWarning: \n",
      "A value is trying to be set on a copy of a slice from a DataFrame\n",
      "\n",
      "See the caveats in the documentation: http://pandas.pydata.org/pandas-docs/stable/indexing.html#indexing-view-versus-copy\n",
      "  \"\"\"\n"
     ]
    },
    {
     "data": {
      "text/plain": [
       "104"
      ]
     },
     "execution_count": 314,
     "metadata": {},
     "output_type": "execute_result"
    }
   ],
   "source": [
    "ctws_sell['date'][0] = datetime.strptime(str(ctws_sell['date'][0]), '%Y%m%d').strftime('%Y/%m/%d')\n",
    "ctws_exit_sell['date'][0] = datetime.strptime(str(ctws_exit_sell['date'][0]), '%Y%m%d').strftime('%Y/%m/%d')\n",
    "\n",
    "ctws_sell['date'][0] = datetime.strptime(ctws_sell['date'][0], \"%Y/%m/%d\")\n",
    "ctws_exit_sell['date'][0] = datetime.strptime(ctws_exit_sell['date'][0], \"%Y/%m/%d\")\n",
    "\n",
    "Round_Trip_Sell_ctws = abs((ctws_sell['date'][0] - ctws_exit_sell['date'][0]).days)\n",
    "\n",
    "Profit_ctws = ctws_sell['PRC'][0] - ctws_exit_sell['PRC'][0]"
   ]
  },
  {
   "cell_type": "code",
   "execution_count": 329,
   "metadata": {},
   "outputs": [
    {
     "name": "stdout",
     "output_type": "stream",
     "text": [
      "The first sell trade at δ1 = 0.25 for CTWS was 104 days and resulted in a profit of $-2.25\n"
     ]
    }
   ],
   "source": [
    "print(f\"The first sell trade at δ1 = 0.25 for CTWS was {Round_Trip_Sell_ctws:0.0f} days and resulted in a profit of ${Profit_ctws: 0.2f}\")"
   ]
  },
  {
   "cell_type": "markdown",
   "metadata": {},
   "source": [
    "Buy WTR"
   ]
  },
  {
   "cell_type": "code",
   "execution_count": 330,
   "metadata": {},
   "outputs": [
    {
     "ename": "NameError",
     "evalue": "name 'wtr_buy' is not defined",
     "output_type": "error",
     "traceback": [
      "\u001b[1;31m---------------------------------------------------------------------------\u001b[0m",
      "\u001b[1;31mNameError\u001b[0m                                 Traceback (most recent call last)",
      "\u001b[1;32m<ipython-input-330-7dd9466a7a74>\u001b[0m in \u001b[0;36m<module>\u001b[1;34m()\u001b[0m\n\u001b[1;32m----> 1\u001b[1;33m \u001b[0mwtr_buy\u001b[0m\u001b[1;33m[\u001b[0m\u001b[1;34m'date'\u001b[0m\u001b[1;33m]\u001b[0m\u001b[1;33m[\u001b[0m\u001b[1;36m0\u001b[0m\u001b[1;33m]\u001b[0m \u001b[1;33m=\u001b[0m \u001b[0mdatetime\u001b[0m\u001b[1;33m.\u001b[0m\u001b[0mstrptime\u001b[0m\u001b[1;33m(\u001b[0m\u001b[0mstr\u001b[0m\u001b[1;33m(\u001b[0m\u001b[0mwtr_buy\u001b[0m\u001b[1;33m[\u001b[0m\u001b[1;34m'date'\u001b[0m\u001b[1;33m]\u001b[0m\u001b[1;33m[\u001b[0m\u001b[1;36m0\u001b[0m\u001b[1;33m]\u001b[0m\u001b[1;33m)\u001b[0m\u001b[1;33m,\u001b[0m \u001b[1;34m'%Y%m%d'\u001b[0m\u001b[1;33m)\u001b[0m\u001b[1;33m.\u001b[0m\u001b[0mstrftime\u001b[0m\u001b[1;33m(\u001b[0m\u001b[1;34m'%Y/%m/%d'\u001b[0m\u001b[1;33m)\u001b[0m\u001b[1;33m\u001b[0m\u001b[0m\n\u001b[0m\u001b[0;32m      2\u001b[0m \u001b[0mwtr_exit_buy\u001b[0m\u001b[1;33m[\u001b[0m\u001b[1;34m'date'\u001b[0m\u001b[1;33m]\u001b[0m\u001b[1;33m[\u001b[0m\u001b[1;36m0\u001b[0m\u001b[1;33m]\u001b[0m \u001b[1;33m=\u001b[0m \u001b[0mdatetime\u001b[0m\u001b[1;33m.\u001b[0m\u001b[0mstrptime\u001b[0m\u001b[1;33m(\u001b[0m\u001b[0mstr\u001b[0m\u001b[1;33m(\u001b[0m\u001b[0mwtr_exit_buy\u001b[0m\u001b[1;33m[\u001b[0m\u001b[1;34m'date'\u001b[0m\u001b[1;33m]\u001b[0m\u001b[1;33m[\u001b[0m\u001b[1;36m0\u001b[0m\u001b[1;33m]\u001b[0m\u001b[1;33m)\u001b[0m\u001b[1;33m,\u001b[0m \u001b[1;34m'%Y%m%d'\u001b[0m\u001b[1;33m)\u001b[0m\u001b[1;33m.\u001b[0m\u001b[0mstrftime\u001b[0m\u001b[1;33m(\u001b[0m\u001b[1;34m'%Y/%m/%d'\u001b[0m\u001b[1;33m)\u001b[0m\u001b[1;33m\u001b[0m\u001b[0m\n\u001b[0;32m      3\u001b[0m \u001b[1;33m\u001b[0m\u001b[0m\n\u001b[0;32m      4\u001b[0m \u001b[0mwtr_buy\u001b[0m\u001b[1;33m[\u001b[0m\u001b[1;34m'date'\u001b[0m\u001b[1;33m]\u001b[0m\u001b[1;33m[\u001b[0m\u001b[1;36m0\u001b[0m\u001b[1;33m]\u001b[0m \u001b[1;33m=\u001b[0m \u001b[0mdatetime\u001b[0m\u001b[1;33m.\u001b[0m\u001b[0mstrptime\u001b[0m\u001b[1;33m(\u001b[0m\u001b[0mwtr_buy\u001b[0m\u001b[1;33m[\u001b[0m\u001b[1;34m'date'\u001b[0m\u001b[1;33m]\u001b[0m\u001b[1;33m[\u001b[0m\u001b[1;36m0\u001b[0m\u001b[1;33m]\u001b[0m\u001b[1;33m,\u001b[0m \u001b[1;34m\"%Y/%m/%d\"\u001b[0m\u001b[1;33m)\u001b[0m\u001b[1;33m\u001b[0m\u001b[0m\n\u001b[0;32m      5\u001b[0m \u001b[0mwtr_exit_buy\u001b[0m\u001b[1;33m[\u001b[0m\u001b[1;34m'date'\u001b[0m\u001b[1;33m]\u001b[0m\u001b[1;33m[\u001b[0m\u001b[1;36m0\u001b[0m\u001b[1;33m]\u001b[0m \u001b[1;33m=\u001b[0m \u001b[0mdatetime\u001b[0m\u001b[1;33m.\u001b[0m\u001b[0mstrptime\u001b[0m\u001b[1;33m(\u001b[0m\u001b[0mwtr_exit_buy\u001b[0m\u001b[1;33m[\u001b[0m\u001b[1;34m'date'\u001b[0m\u001b[1;33m]\u001b[0m\u001b[1;33m[\u001b[0m\u001b[1;36m0\u001b[0m\u001b[1;33m]\u001b[0m\u001b[1;33m,\u001b[0m \u001b[1;34m\"%Y/%m/%d\"\u001b[0m\u001b[1;33m)\u001b[0m\u001b[1;33m\u001b[0m\u001b[0m\n",
      "\u001b[1;31mNameError\u001b[0m: name 'wtr_buy' is not defined"
     ]
    }
   ],
   "source": [
    "wtr_buy['date'][0] = datetime.strptime(str(wtr_buy['date'][0]), '%Y%m%d').strftime('%Y/%m/%d')\n",
    "wtr_exit_buy['date'][0] = datetime.strptime(str(wtr_exit_buy['date'][0]), '%Y%m%d').strftime('%Y/%m/%d')\n",
    "\n",
    "wtr_buy['date'][0] = datetime.strptime(wtr_buy['date'][0], \"%Y/%m/%d\")\n",
    "wtr_exit_buy['date'][0] = datetime.strptime(wtr_exit_buy['date'][0], \"%Y/%m/%d\")\n",
    "\n",
    "Round_Trip_Buy_wtr = abs((wtr_buy['date'][0] - wtr_exit_buy['date'][0]).days)\n",
    "\n",
    "Profit_wtr = wtr_exit_buy['PRC'][0] - wtr_buy['PRC'][0]"
   ]
  },
  {
   "cell_type": "code",
   "execution_count": null,
   "metadata": {},
   "outputs": [],
   "source": [
    "print(f\"The first buy trade at δ1 = 0.25 for WTR was {Round_Trip_Buy_wtr:0.0f} days and resulted in a profit of ${Profit_wtr: 0.2f}\")"
   ]
  },
  {
   "cell_type": "markdown",
   "metadata": {},
   "source": [
    "Sell WTR"
   ]
  },
  {
   "cell_type": "code",
   "execution_count": null,
   "metadata": {},
   "outputs": [],
   "source": [
    "wtr_sell['date'][0] = datetime.strptime(str(wtr_sell['date'][0]), '%Y%m%d').strftime('%Y/%m/%d')\n",
    "wtr_exit_sell['date'][0] = datetime.strptime(str(wtr_exit_sell['date'][0]), '%Y%m%d').strftime('%Y/%m/%d')\n",
    "\n",
    "wtr_sell['date'][0] = datetime.strptime(wtr_sell['date'][0], \"%Y/%m/%d\")\n",
    "wtr_exit_sell['date'][0] = datetime.strptime(wtr_exit_sell['date'][0], \"%Y/%m/%d\")\n",
    "\n",
    "Round_Trip_Sell_wtr = abs((wtr_sell['date'][0] - wtr_exit_sell['date'][0]).days)\n",
    "\n",
    "Profit_wtr = wtr_sell['PRC'][0] - wtr_exit_sell['PRC'][0]"
   ]
  },
  {
   "cell_type": "code",
   "execution_count": null,
   "metadata": {},
   "outputs": [],
   "source": [
    "print(f\"The first sell trade at δ1 = 0.25 for WTR was {Round_Trip_Sell_wtr:0.0f} days and resulted in a profit of ${Profit_wtr: 0.2f}\")"
   ]
  },
  {
   "cell_type": "markdown",
   "metadata": {},
   "source": [
    "Buy AWR"
   ]
  },
  {
   "cell_type": "code",
   "execution_count": null,
   "metadata": {},
   "outputs": [],
   "source": [
    "awr_buy['date'][0] = datetime.strptime(str(awr_buy['date'][0]), '%Y%m%d').strftime('%Y/%m/%d')\n",
    "awr_exit_buy['date'][0] = datetime.strptime(str(awr_exit_buy['date'][0]), '%Y%m%d').strftime('%Y/%m/%d')\n",
    "\n",
    "awr_buy['date'][0] = datetime.strptime(awr_buy['date'][0], \"%Y/%m/%d\")\n",
    "awr_exit_buy['date'][0] = datetime.strptime(awr_exit_buy['date'][0], \"%Y/%m/%d\")\n",
    "\n",
    "Round_Trip_Buy_awr = abs((awr_buy['date'][0] - awr_exit_buy['date'][0]).days)\n",
    "\n",
    "Profit_awr = awr_exit_buy['PRC'][0] - awr_buy['PRC'][0]"
   ]
  },
  {
   "cell_type": "code",
   "execution_count": null,
   "metadata": {},
   "outputs": [],
   "source": [
    "print(f\"The first buy trade at δ1 = 0.25 for AWR was {Round_Trip_Buy_awr:0.0f} days and resulted in a profit of ${Profit_awr: 0.2f}\")"
   ]
  },
  {
   "cell_type": "markdown",
   "metadata": {},
   "source": [
    "Sell AWR"
   ]
  },
  {
   "cell_type": "code",
   "execution_count": null,
   "metadata": {},
   "outputs": [],
   "source": [
    "awr_sell['date'][0] = datetime.strptime(str(awr_sell['date'][0]), '%Y%m%d').strftime('%Y/%m/%d')\n",
    "awr_exit_sell['date'][0] = datetime.strptime(str(awr_exit_sell['date'][0]), '%Y%m%d').strftime('%Y/%m/%d')\n",
    "\n",
    "awr_sell['date'][0] = datetime.strptime(awr_sell['date'][0], \"%Y/%m/%d\")\n",
    "awr_exit_sell['date'][0] = datetime.strptime(awr_exit_sell['date'][0], \"%Y/%m/%d\")\n",
    "\n",
    "Round_Trip_Sell_awr = abs((awr_sell['date'][0] - awr_exit_sell['date'][0]).days)\n",
    "\n",
    "Profit_awr = awr_sell['PRC'][0] - awr_exit_sell['PRC'][0]"
   ]
  },
  {
   "cell_type": "code",
   "execution_count": null,
   "metadata": {},
   "outputs": [],
   "source": [
    "print(f\"The first sell trade at δ1 = 0.25 for AWR was {Round_Trip_Sell_awr:0.0f} days and resulted in a profit of ${Profit_awr: 0.2f}\")"
   ]
  },
  {
   "cell_type": "code",
   "execution_count": null,
   "metadata": {},
   "outputs": [],
   "source": []
  },
  {
   "cell_type": "code",
   "execution_count": null,
   "metadata": {},
   "outputs": [],
   "source": []
  },
  {
   "cell_type": "code",
   "execution_count": null,
   "metadata": {},
   "outputs": [],
   "source": []
  },
  {
   "cell_type": "markdown",
   "metadata": {},
   "source": [
    "__This next part you don't have to look at and is the trading strategy, but I put in too much time and effort to just delete it__"
   ]
  },
  {
   "cell_type": "markdown",
   "metadata": {},
   "source": [
    "__Intercepts and Coefficients__"
   ]
  },
  {
   "cell_type": "code",
   "execution_count": 36,
   "metadata": {},
   "outputs": [],
   "source": [
    "ctws_first_series = pd.Series(abs(ctwsData_first.nplog))\n",
    "wtr_first_series = pd.Series(wtrData_first.nplog)\n",
    "awr_first_series = pd.Series(awrData_first.nplog)\n",
    "\n",
    "reshaped_ctws_first = ctws_first_series.values.reshape(757, 1)\n",
    "reshaped_wtr_first = wtr_first_series.values.reshape(757, 1)\n",
    "reshaped_awr_first = awr_first_series.values.reshape(757, 1)"
   ]
  },
  {
   "cell_type": "code",
   "execution_count": 37,
   "metadata": {},
   "outputs": [],
   "source": [
    "model_ctws = LinearRegression(fit_intercept=True)\n",
    "int_ctws = model_ctws.fit(reshaped_ctws_first, reshaped_wtr_first).intercept_\n",
    "coef_ctws = model_ctws.fit(reshaped_ctws_first, reshaped_wtr_first).coef_\n",
    "\n",
    "model_wtr = LinearRegression(fit_intercept=True)\n",
    "int_wtr = model_wtr.fit(reshaped_wtr_first, reshaped_awr_first).intercept_\n",
    "coef_wtr = model_wtr.fit(reshaped_wtr_first, reshaped_awr_first).coef_\n",
    "\n",
    "model_awr = LinearRegression(fit_intercept=True)\n",
    "int_awr = model_ctws.fit(reshaped_awr_first, reshaped_ctws_first).intercept_\n",
    "coef_awr = model_ctws.fit(reshaped_awr_first, reshaped_ctws_first).coef_"
   ]
  },
  {
   "cell_type": "markdown",
   "metadata": {},
   "source": [
    "__Predicted Values__"
   ]
  },
  {
   "cell_type": "code",
   "execution_count": 38,
   "metadata": {},
   "outputs": [
    {
     "name": "stderr",
     "output_type": "stream",
     "text": [
      "C:\\Users\\Tyson\\Anaconda3\\lib\\site-packages\\ipykernel_launcher.py:1: SettingWithCopyWarning: \n",
      "A value is trying to be set on a copy of a slice from a DataFrame.\n",
      "Try using .loc[row_indexer,col_indexer] = value instead\n",
      "\n",
      "See the caveats in the documentation: http://pandas.pydata.org/pandas-docs/stable/indexing.html#indexing-view-versus-copy\n",
      "  \"\"\"Entry point for launching an IPython kernel.\n"
     ]
    }
   ],
   "source": [
    "rawData_last['predicted'] = 0.0\n",
    "predicted_value_ctws = np.empty(2263)\n",
    "for i in range(0, 2263):\n",
    "    predicted_value_ctws[i] = (int_awr[0] + (coef_awr[0,0] * awrData_last.loc[i]['nplog']))\n",
    "    rawData_last.at[i, 'predicted'] = predicted_value_ctws[i]"
   ]
  },
  {
   "cell_type": "code",
   "execution_count": 39,
   "metadata": {},
   "outputs": [],
   "source": [
    "predicted_value_wtr = np.empty(2263)\n",
    "for i in range(0, 2263):\n",
    "    predicted_value_wtr[i] = (int_ctws[0] + (coef_ctws[0,0] * ctwsData_last.loc[i]['nplog']))\n",
    "    rawData_last.at[(i+2263), 'predicted'] = predicted_value_wtr[i]"
   ]
  },
  {
   "cell_type": "code",
   "execution_count": 40,
   "metadata": {},
   "outputs": [],
   "source": [
    "predicted_value_awr = np.empty(2263)\n",
    "for i in range(0, 2263):\n",
    "    predicted_value_awr[i] = (int_wtr[0] + (coef_wtr[0,0] * wtrData_last.loc[i]['nplog']))\n",
    "    rawData_last.at[(i+4526), 'predicted'] = predicted_value_awr[i]"
   ]
  },
  {
   "cell_type": "markdown",
   "metadata": {},
   "source": [
    "__Difference From Predicted Values__"
   ]
  },
  {
   "cell_type": "code",
   "execution_count": 41,
   "metadata": {},
   "outputs": [
    {
     "name": "stderr",
     "output_type": "stream",
     "text": [
      "C:\\Users\\Tyson\\Anaconda3\\lib\\site-packages\\ipykernel_launcher.py:1: SettingWithCopyWarning: \n",
      "A value is trying to be set on a copy of a slice from a DataFrame.\n",
      "Try using .loc[row_indexer,col_indexer] = value instead\n",
      "\n",
      "See the caveats in the documentation: http://pandas.pydata.org/pandas-docs/stable/indexing.html#indexing-view-versus-copy\n",
      "  \"\"\"Entry point for launching an IPython kernel.\n"
     ]
    }
   ],
   "source": [
    "rawData_last['dif_predicted'] = 0.0"
   ]
  },
  {
   "cell_type": "code",
   "execution_count": null,
   "metadata": {},
   "outputs": [
    {
     "name": "stderr",
     "output_type": "stream",
     "text": [
      "C:\\Users\\Tyson\\Anaconda3\\lib\\site-packages\\ipykernel_launcher.py:2: SettingWithCopyWarning: \n",
      "A value is trying to be set on a copy of a slice from a DataFrame\n",
      "\n",
      "See the caveats in the documentation: http://pandas.pydata.org/pandas-docs/stable/indexing.html#indexing-view-versus-copy\n",
      "  \n",
      "C:\\Users\\Tyson\\Anaconda3\\lib\\site-packages\\IPython\\core\\interactiveshell.py:2963: SettingWithCopyWarning: \n",
      "A value is trying to be set on a copy of a slice from a DataFrame\n",
      "\n",
      "See the caveats in the documentation: http://pandas.pydata.org/pandas-docs/stable/indexing.html#indexing-view-versus-copy\n",
      "  exec(code_obj, self.user_global_ns, self.user_ns)\n"
     ]
    }
   ],
   "source": [
    "for i in range(0, 6789):\n",
    "    rawData_last['dif_predicted'][i] = rawData_last['nplog'][i] - rawData_last['predicted'][i]"
   ]
  },
  {
   "cell_type": "code",
   "execution_count": null,
   "metadata": {},
   "outputs": [],
   "source": [
    "permno = [26463, 52898, 71475]\n",
    "\n",
    "ind = rawData_last.PERMNO == permno[0]\n",
    "ctwsData_last = rawData_last[ind]\n",
    "\n",
    "ind = rawData_last.PERMNO == permno[1]\n",
    "wtrData_last = rawData_last[ind]\n",
    "\n",
    "ind = rawData_last.PERMNO == permno[2]\n",
    "awrData_last = rawData_last[ind]"
   ]
  },
  {
   "cell_type": "markdown",
   "metadata": {},
   "source": [
    "__WTR & CTWS Strategy__"
   ]
  },
  {
   "cell_type": "code",
   "execution_count": null,
   "metadata": {},
   "outputs": [],
   "source": [
    "multiple = [0.25, 0.50, 0.75]"
   ]
  },
  {
   "cell_type": "markdown",
   "metadata": {},
   "source": [
    "__WTR Bounds__"
   ]
  },
  {
   "cell_type": "code",
   "execution_count": null,
   "metadata": {},
   "outputs": [],
   "source": [
    "e_wtr = np.sqrt(np.var((wtrData_last.dif_predicted)))\n",
    "np.mean(np.abs(wtrData_last.dif_predicted))"
   ]
  },
  {
   "cell_type": "code",
   "execution_count": null,
   "metadata": {},
   "outputs": [],
   "source": [
    "upper_bound_25_wtr = multiple[0] * e_wtr\n",
    "lower_bound_25_wtr = -multiple[0] * e_wtr\n",
    "upper_bound_50_wtr = multiple[1] * e_wtr\n",
    "lower_bound_50_wtr = -multiple[1] * e_wtr\n",
    "upper_bound_75_wtr = multiple[2] * e_wtr\n",
    "lower_bound_75_wtr = -multiple[2] * e_wtr"
   ]
  },
  {
   "cell_type": "markdown",
   "metadata": {},
   "source": [
    "__CTWS Bounds__"
   ]
  },
  {
   "cell_type": "code",
   "execution_count": 48,
   "metadata": {},
   "outputs": [
    {
     "data": {
      "text/plain": [
       "0.13670592721226152"
      ]
     },
     "execution_count": 48,
     "metadata": {},
     "output_type": "execute_result"
    }
   ],
   "source": [
    "e_ctws = np.sqrt(np.var((ctwsData_last.dif_predicted)))\n",
    "np.mean(np.abs(ctwsData_last.dif_predicted))"
   ]
  },
  {
   "cell_type": "code",
   "execution_count": 49,
   "metadata": {},
   "outputs": [],
   "source": [
    "upper_bound_25_ctws = multiple[0] * e_ctws\n",
    "lower_bound_25_ctws = -multiple[0] * e_ctws\n",
    "upper_bound_50_ctws = multiple[1] * e_ctws\n",
    "lower_bound_50_ctws = -multiple[1] * e_ctws\n",
    "upper_bound_75_ctws = multiple[2] * e_ctws\n",
    "lower_bound_75_ctws = -multiple[2] * e_ctws"
   ]
  },
  {
   "cell_type": "markdown",
   "metadata": {},
   "source": [
    "__Amount of Shares to Short__"
   ]
  },
  {
   "cell_type": "code",
   "execution_count": 50,
   "metadata": {},
   "outputs": [],
   "source": [
    "short_wtr_on_ctws = np.empty(3020)\n",
    "for i in range(0, 3020):\n",
    "    short_wtr_on_ctws[i] = 1000 * (ctwsData.nplog[i]/wtrData.nplog[i+3020])"
   ]
  },
  {
   "cell_type": "code",
   "execution_count": 51,
   "metadata": {},
   "outputs": [],
   "source": [
    "short_ctws_on_wtr = np.empty(3020)\n",
    "for i in range(0, 3020):\n",
    "    short_ctws_on_wtr[i] = 1000 * (wtrData.nplog[i+3020]/ctwsData.nplog[i])"
   ]
  },
  {
   "cell_type": "markdown",
   "metadata": {},
   "source": [
    "__Long CTWS Short WTR__"
   ]
  },
  {
   "cell_type": "markdown",
   "metadata": {},
   "source": [
    "__Long CTWS Code__"
   ]
  },
  {
   "cell_type": "code",
   "execution_count": 52,
   "metadata": {},
   "outputs": [
    {
     "name": "stderr",
     "output_type": "stream",
     "text": [
      "C:\\Users\\Tyson\\Anaconda3\\lib\\site-packages\\ipykernel_launcher.py:1: SettingWithCopyWarning: \n",
      "A value is trying to be set on a copy of a slice from a DataFrame.\n",
      "Try using .loc[row_indexer,col_indexer] = value instead\n",
      "\n",
      "See the caveats in the documentation: http://pandas.pydata.org/pandas-docs/stable/indexing.html#indexing-view-versus-copy\n",
      "  \"\"\"Entry point for launching an IPython kernel.\n",
      "C:\\Users\\Tyson\\Anaconda3\\lib\\site-packages\\ipykernel_launcher.py:5: SettingWithCopyWarning: \n",
      "A value is trying to be set on a copy of a slice from a DataFrame\n",
      "\n",
      "See the caveats in the documentation: http://pandas.pydata.org/pandas-docs/stable/indexing.html#indexing-view-versus-copy\n",
      "  \"\"\"\n",
      "C:\\Users\\Tyson\\Anaconda3\\lib\\site-packages\\pandas\\core\\indexing.py:189: SettingWithCopyWarning: \n",
      "A value is trying to be set on a copy of a slice from a DataFrame\n",
      "\n",
      "See the caveats in the documentation: http://pandas.pydata.org/pandas-docs/stable/indexing.html#indexing-view-versus-copy\n",
      "  self._setitem_with_indexer(indexer, value)\n",
      "C:\\Users\\Tyson\\Anaconda3\\lib\\site-packages\\pandas\\core\\series.py:914: SettingWithCopyWarning: \n",
      "A value is trying to be set on a copy of a slice from a DataFrame\n",
      "\n",
      "See the caveats in the documentation: http://pandas.pydata.org/pandas-docs/stable/indexing.html#indexing-view-versus-copy\n",
      "  self.loc[key] = value\n",
      "C:\\Users\\Tyson\\Anaconda3\\lib\\site-packages\\IPython\\core\\interactiveshell.py:2963: SettingWithCopyWarning: \n",
      "A value is trying to be set on a copy of a slice from a DataFrame\n",
      "\n",
      "See the caveats in the documentation: http://pandas.pydata.org/pandas-docs/stable/indexing.html#indexing-view-versus-copy\n",
      "  exec(code_obj, self.user_global_ns, self.user_ns)\n",
      "C:\\Users\\Tyson\\Anaconda3\\lib\\site-packages\\ipykernel_launcher.py:19: SettingWithCopyWarning: \n",
      "A value is trying to be set on a copy of a slice from a DataFrame\n",
      "\n",
      "See the caveats in the documentation: http://pandas.pydata.org/pandas-docs/stable/indexing.html#indexing-view-versus-copy\n",
      "C:\\Users\\Tyson\\Anaconda3\\lib\\site-packages\\ipykernel_launcher.py:12: SettingWithCopyWarning: \n",
      "A value is trying to be set on a copy of a slice from a DataFrame\n",
      "\n",
      "See the caveats in the documentation: http://pandas.pydata.org/pandas-docs/stable/indexing.html#indexing-view-versus-copy\n",
      "  if sys.path[0] == '':\n",
      "C:\\Users\\Tyson\\Anaconda3\\lib\\site-packages\\ipykernel_launcher.py:23: SettingWithCopyWarning: \n",
      "A value is trying to be set on a copy of a slice from a DataFrame\n",
      "\n",
      "See the caveats in the documentation: http://pandas.pydata.org/pandas-docs/stable/indexing.html#indexing-view-versus-copy\n",
      "C:\\Users\\Tyson\\Anaconda3\\lib\\site-packages\\ipykernel_launcher.py:25: SettingWithCopyWarning: \n",
      "A value is trying to be set on a copy of a slice from a DataFrame\n",
      "\n",
      "See the caveats in the documentation: http://pandas.pydata.org/pandas-docs/stable/indexing.html#indexing-view-versus-copy\n",
      "C:\\Users\\Tyson\\Anaconda3\\lib\\site-packages\\ipykernel_launcher.py:14: SettingWithCopyWarning: \n",
      "A value is trying to be set on a copy of a slice from a DataFrame\n",
      "\n",
      "See the caveats in the documentation: http://pandas.pydata.org/pandas-docs/stable/indexing.html#indexing-view-versus-copy\n",
      "  \n"
     ]
    }
   ],
   "source": [
    "rawData_last['Buy'] = 0\n",
    "\n",
    "for i in range(0, 1):\n",
    "    if rawData_last['dif_predicted'][i] > upper_bound_25_ctws:\n",
    "        rawData_last['Buy'][i] = 'YES'\n",
    "    else:\n",
    "        rawData_last['Buy'][i] = 'NO'\n",
    "\n",
    "for i in range(1, 2263):\n",
    "    if rawData_last['dif_predicted'][i] > upper_bound_25_ctws:\n",
    "        if rawData_last['Buy'][i-1] in ('YES', 'HOLD BUY'):\n",
    "            rawData_last['Buy'][i] = 'HOLD BUY'\n",
    "        else:\n",
    "            rawData_last['Buy'][i] = 'YES'\n",
    "    else:\n",
    "        if rawData_last['Buy'][i-1] in ('YES', 'HOLD BUY'):\n",
    "            if rawData_last['dif_predicted'][i] > 0:\n",
    "                if rawData_last['Buy'][i-1] in ('YES', 'HOLD BUY'):\n",
    "                    rawData_last['Buy'][i] = 'HOLD BUY'\n",
    "                else:\n",
    "                    rawData_last['Buy'][i] = 'NO'\n",
    "            else:\n",
    "                    rawData_last['Buy'][i] = 'EXIT BUY'\n",
    "        else:\n",
    "            rawData_last['Buy'][i] = 'NO'"
   ]
  },
  {
   "cell_type": "markdown",
   "metadata": {},
   "source": [
    "__Long CTWS Results__"
   ]
  },
  {
   "cell_type": "code",
   "execution_count": 53,
   "metadata": {},
   "outputs": [],
   "source": [
    "ctws_buy = rawData_last.loc[rawData_last['Buy'] == 'YES']\n",
    "ctws_exit_buy = rawData_last.loc[rawData_last['Buy'] == 'EXIT BUY']"
   ]
  },
  {
   "cell_type": "code",
   "execution_count": 54,
   "metadata": {},
   "outputs": [],
   "source": [
    "n = ctws_exit_buy.nplog.count()\n",
    "ctws_buy_gains = np.empty(n)\n",
    "\n",
    "for i in range(0, n):\n",
    "    ctws_buy_gains[i] = (ctws_buy.PRC.values[i] - ctws_exit_buy.PRC.values[i]) / ctws_buy.PRC.values[i]"
   ]
  },
  {
   "cell_type": "code",
   "execution_count": 84,
   "metadata": {},
   "outputs": [
    {
     "data": {
      "text/plain": [
       "0.06352165741725663"
      ]
     },
     "execution_count": 84,
     "metadata": {},
     "output_type": "execute_result"
    }
   ],
   "source": [
    "ctws_buy_gains.mean()"
   ]
  },
  {
   "cell_type": "markdown",
   "metadata": {},
   "source": [
    "__CTWS Round Trip Calculation__"
   ]
  },
  {
   "cell_type": "code",
   "execution_count": null,
   "metadata": {},
   "outputs": [],
   "source": [
    "ctws_buy.reset_index(inplace=True)\n",
    "ctws_exit_buy.reset_index(inplace=True)"
   ]
  },
  {
   "cell_type": "code",
   "execution_count": 56,
   "metadata": {},
   "outputs": [
    {
     "name": "stderr",
     "output_type": "stream",
     "text": [
      "C:\\Users\\Tyson\\Anaconda3\\lib\\site-packages\\ipykernel_launcher.py:2: SettingWithCopyWarning: \n",
      "A value is trying to be set on a copy of a slice from a DataFrame\n",
      "\n",
      "See the caveats in the documentation: http://pandas.pydata.org/pandas-docs/stable/indexing.html#indexing-view-versus-copy\n",
      "  \n",
      "C:\\Users\\Tyson\\Anaconda3\\lib\\site-packages\\pandas\\core\\indexing.py:189: SettingWithCopyWarning: \n",
      "A value is trying to be set on a copy of a slice from a DataFrame\n",
      "\n",
      "See the caveats in the documentation: http://pandas.pydata.org/pandas-docs/stable/indexing.html#indexing-view-versus-copy\n",
      "  self._setitem_with_indexer(indexer, value)\n",
      "C:\\Users\\Tyson\\Anaconda3\\lib\\site-packages\\pandas\\core\\series.py:914: SettingWithCopyWarning: \n",
      "A value is trying to be set on a copy of a slice from a DataFrame\n",
      "\n",
      "See the caveats in the documentation: http://pandas.pydata.org/pandas-docs/stable/indexing.html#indexing-view-versus-copy\n",
      "  self.loc[key] = value\n",
      "C:\\Users\\Tyson\\Anaconda3\\lib\\site-packages\\IPython\\core\\interactiveshell.py:2963: SettingWithCopyWarning: \n",
      "A value is trying to be set on a copy of a slice from a DataFrame\n",
      "\n",
      "See the caveats in the documentation: http://pandas.pydata.org/pandas-docs/stable/indexing.html#indexing-view-versus-copy\n",
      "  exec(code_obj, self.user_global_ns, self.user_ns)\n",
      "C:\\Users\\Tyson\\Anaconda3\\lib\\site-packages\\ipykernel_launcher.py:5: SettingWithCopyWarning: \n",
      "A value is trying to be set on a copy of a slice from a DataFrame\n",
      "\n",
      "See the caveats in the documentation: http://pandas.pydata.org/pandas-docs/stable/indexing.html#indexing-view-versus-copy\n",
      "  \"\"\"\n"
     ]
    }
   ],
   "source": [
    "for i in range(0, n):\n",
    "    ctws_buy['date'][i] = datetime.strptime(str(ctws_buy['date'][i]), '%Y%m%d').strftime('%Y/%m/%d')\n",
    "    \n",
    "for i in range(0, n-1):\n",
    "    ctws_exit_buy['date'][i] = datetime.strptime(str(ctws_exit_buy['date'][i]), '%Y%m%d').strftime('%Y/%m/%d')"
   ]
  },
  {
   "cell_type": "code",
   "execution_count": 66,
   "metadata": {},
   "outputs": [
    {
     "name": "stderr",
     "output_type": "stream",
     "text": [
      "C:\\Users\\Tyson\\Anaconda3\\lib\\site-packages\\ipykernel_launcher.py:2: SettingWithCopyWarning: \n",
      "A value is trying to be set on a copy of a slice from a DataFrame\n",
      "\n",
      "See the caveats in the documentation: http://pandas.pydata.org/pandas-docs/stable/indexing.html#indexing-view-versus-copy\n",
      "  \n",
      "C:\\Users\\Tyson\\Anaconda3\\lib\\site-packages\\IPython\\core\\interactiveshell.py:2963: SettingWithCopyWarning: \n",
      "A value is trying to be set on a copy of a slice from a DataFrame\n",
      "\n",
      "See the caveats in the documentation: http://pandas.pydata.org/pandas-docs/stable/indexing.html#indexing-view-versus-copy\n",
      "  exec(code_obj, self.user_global_ns, self.user_ns)\n",
      "C:\\Users\\Tyson\\Anaconda3\\lib\\site-packages\\ipykernel_launcher.py:3: SettingWithCopyWarning: \n",
      "A value is trying to be set on a copy of a slice from a DataFrame\n",
      "\n",
      "See the caveats in the documentation: http://pandas.pydata.org/pandas-docs/stable/indexing.html#indexing-view-versus-copy\n",
      "  This is separate from the ipykernel package so we can avoid doing imports until\n"
     ]
    },
    {
     "ename": "TypeError",
     "evalue": "strptime() argument 1 must be str, not int",
     "output_type": "error",
     "traceback": [
      "\u001b[1;31m---------------------------------------------------------------------------\u001b[0m",
      "\u001b[1;31mTypeError\u001b[0m                                 Traceback (most recent call last)",
      "\u001b[1;32m<ipython-input-66-4e907beff7af>\u001b[0m in \u001b[0;36m<module>\u001b[1;34m()\u001b[0m\n\u001b[0;32m      1\u001b[0m \u001b[1;32mfor\u001b[0m \u001b[0mi\u001b[0m \u001b[1;32min\u001b[0m \u001b[0mrange\u001b[0m\u001b[1;33m(\u001b[0m\u001b[1;36m1\u001b[0m\u001b[1;33m,\u001b[0m \u001b[0mn\u001b[0m\u001b[1;33m)\u001b[0m\u001b[1;33m:\u001b[0m\u001b[1;33m\u001b[0m\u001b[0m\n\u001b[0;32m      2\u001b[0m     \u001b[0mctws_buy\u001b[0m\u001b[1;33m[\u001b[0m\u001b[1;34m'date'\u001b[0m\u001b[1;33m]\u001b[0m\u001b[1;33m[\u001b[0m\u001b[0mi\u001b[0m\u001b[1;33m]\u001b[0m \u001b[1;33m=\u001b[0m \u001b[0mdatetime\u001b[0m\u001b[1;33m.\u001b[0m\u001b[0mstrptime\u001b[0m\u001b[1;33m(\u001b[0m\u001b[0mctws_buy\u001b[0m\u001b[1;33m[\u001b[0m\u001b[1;34m'date'\u001b[0m\u001b[1;33m]\u001b[0m\u001b[1;33m[\u001b[0m\u001b[0mi\u001b[0m\u001b[1;33m]\u001b[0m\u001b[1;33m,\u001b[0m \u001b[1;34m\"%Y/%m/%d\"\u001b[0m\u001b[1;33m)\u001b[0m\u001b[1;33m\u001b[0m\u001b[0m\n\u001b[1;32m----> 3\u001b[1;33m     \u001b[0mctws_exit_buy\u001b[0m\u001b[1;33m[\u001b[0m\u001b[1;34m'date'\u001b[0m\u001b[1;33m]\u001b[0m\u001b[1;33m[\u001b[0m\u001b[0mi\u001b[0m\u001b[1;33m]\u001b[0m \u001b[1;33m=\u001b[0m \u001b[0mdatetime\u001b[0m\u001b[1;33m.\u001b[0m\u001b[0mstrptime\u001b[0m\u001b[1;33m(\u001b[0m\u001b[0mctws_exit_buy\u001b[0m\u001b[1;33m[\u001b[0m\u001b[1;34m'date'\u001b[0m\u001b[1;33m]\u001b[0m\u001b[1;33m[\u001b[0m\u001b[0mi\u001b[0m\u001b[1;33m]\u001b[0m\u001b[1;33m,\u001b[0m \u001b[1;34m\"%Y/%m/%d\"\u001b[0m\u001b[1;33m)\u001b[0m\u001b[1;33m\u001b[0m\u001b[0m\n\u001b[0m",
      "\u001b[1;31mTypeError\u001b[0m: strptime() argument 1 must be str, not int"
     ]
    }
   ],
   "source": [
    "for i in range(0, n):\n",
    "    ctws_buy['date'][i] = datetime.strptime(ctws_buy['date'][i], \"%Y/%m/%d\")\n",
    "    ctws_exit_buy['date'][i] = datetime.strptime(ctws_exit_buy['date'][i], \"%Y/%m/%d\")"
   ]
  },
  {
   "cell_type": "code",
   "execution_count": 71,
   "metadata": {},
   "outputs": [],
   "source": [
    "Round_Trip_ctws = np.empty(n)\n",
    "\n",
    "for i in range(0, n-1):\n",
    "    Round_Trip[i] = abs((ctws_buy['date'][i] - ctws_exit_buy['date'][i]).days)\n",
    "\n",
    "Round_Trip_ctws = pd.DataFrame(Round_Trip_ctws)"
   ]
  },
  {
   "cell_type": "markdown",
   "metadata": {},
   "source": [
    "__Short WTR Code__"
   ]
  },
  {
   "cell_type": "code",
   "execution_count": 86,
   "metadata": {},
   "outputs": [
    {
     "name": "stderr",
     "output_type": "stream",
     "text": [
      "C:\\Users\\Tyson\\Anaconda3\\lib\\site-packages\\ipykernel_launcher.py:1: SettingWithCopyWarning: \n",
      "A value is trying to be set on a copy of a slice from a DataFrame.\n",
      "Try using .loc[row_indexer,col_indexer] = value instead\n",
      "\n",
      "See the caveats in the documentation: http://pandas.pydata.org/pandas-docs/stable/indexing.html#indexing-view-versus-copy\n",
      "  \"\"\"Entry point for launching an IPython kernel.\n",
      "C:\\Users\\Tyson\\Anaconda3\\lib\\site-packages\\ipykernel_launcher.py:5: SettingWithCopyWarning: \n",
      "A value is trying to be set on a copy of a slice from a DataFrame\n",
      "\n",
      "See the caveats in the documentation: http://pandas.pydata.org/pandas-docs/stable/indexing.html#indexing-view-versus-copy\n",
      "  \"\"\"\n",
      "C:\\Users\\Tyson\\Anaconda3\\lib\\site-packages\\pandas\\core\\indexing.py:189: SettingWithCopyWarning: \n",
      "A value is trying to be set on a copy of a slice from a DataFrame\n",
      "\n",
      "See the caveats in the documentation: http://pandas.pydata.org/pandas-docs/stable/indexing.html#indexing-view-versus-copy\n",
      "  self._setitem_with_indexer(indexer, value)\n",
      "C:\\Users\\Tyson\\Anaconda3\\lib\\site-packages\\pandas\\core\\series.py:914: SettingWithCopyWarning: \n",
      "A value is trying to be set on a copy of a slice from a DataFrame\n",
      "\n",
      "See the caveats in the documentation: http://pandas.pydata.org/pandas-docs/stable/indexing.html#indexing-view-versus-copy\n",
      "  self.loc[key] = value\n",
      "C:\\Users\\Tyson\\Anaconda3\\lib\\site-packages\\IPython\\core\\interactiveshell.py:2963: SettingWithCopyWarning: \n",
      "A value is trying to be set on a copy of a slice from a DataFrame\n",
      "\n",
      "See the caveats in the documentation: http://pandas.pydata.org/pandas-docs/stable/indexing.html#indexing-view-versus-copy\n",
      "  exec(code_obj, self.user_global_ns, self.user_ns)\n",
      "C:\\Users\\Tyson\\Anaconda3\\lib\\site-packages\\ipykernel_launcher.py:12: SettingWithCopyWarning: \n",
      "A value is trying to be set on a copy of a slice from a DataFrame\n",
      "\n",
      "See the caveats in the documentation: http://pandas.pydata.org/pandas-docs/stable/indexing.html#indexing-view-versus-copy\n",
      "  if sys.path[0] == '':\n",
      "C:\\Users\\Tyson\\Anaconda3\\lib\\site-packages\\ipykernel_launcher.py:19: SettingWithCopyWarning: \n",
      "A value is trying to be set on a copy of a slice from a DataFrame\n",
      "\n",
      "See the caveats in the documentation: http://pandas.pydata.org/pandas-docs/stable/indexing.html#indexing-view-versus-copy\n",
      "C:\\Users\\Tyson\\Anaconda3\\lib\\site-packages\\ipykernel_launcher.py:23: SettingWithCopyWarning: \n",
      "A value is trying to be set on a copy of a slice from a DataFrame\n",
      "\n",
      "See the caveats in the documentation: http://pandas.pydata.org/pandas-docs/stable/indexing.html#indexing-view-versus-copy\n",
      "C:\\Users\\Tyson\\Anaconda3\\lib\\site-packages\\ipykernel_launcher.py:25: SettingWithCopyWarning: \n",
      "A value is trying to be set on a copy of a slice from a DataFrame\n",
      "\n",
      "See the caveats in the documentation: http://pandas.pydata.org/pandas-docs/stable/indexing.html#indexing-view-versus-copy\n",
      "C:\\Users\\Tyson\\Anaconda3\\lib\\site-packages\\ipykernel_launcher.py:14: SettingWithCopyWarning: \n",
      "A value is trying to be set on a copy of a slice from a DataFrame\n",
      "\n",
      "See the caveats in the documentation: http://pandas.pydata.org/pandas-docs/stable/indexing.html#indexing-view-versus-copy\n",
      "  \n"
     ]
    }
   ],
   "source": [
    "rawData_last['Sell'] = 0\n",
    "\n",
    "for i in range(2263, 2264):\n",
    "    if rawData_last['dif_predicted'][i] < lower_bound_25_wtr:\n",
    "        rawData_last['Sell'][i] = 'YES'\n",
    "    else:\n",
    "        rawData_last['Sell'][i] = 'NO'\n",
    "\n",
    "for i in range(2264, 4526):\n",
    "    if rawData_last['dif_predicted'][i] < lower_bound_25_wtr:\n",
    "        if rawData_last['Sell'][i-1] in ('YES', 'HOLD SELL'):\n",
    "            rawData_last['Sell'][i] = 'HOLD SELL'\n",
    "        else:\n",
    "            rawData_last['Sell'][i] = 'YES'\n",
    "    else:\n",
    "        if rawData_last['Sell'][i-1] in ('YES', 'HOLD SELL'):\n",
    "            if rawData_last['dif_predicted'][i] < 0:\n",
    "                if rawData_last['Sell'][i-1] in ('YES', 'HOLD SELL'):\n",
    "                    rawData_last['Sell'][i] = 'HOLD SELL'\n",
    "                else:\n",
    "                    rawData_last['Sell'][i] = 'NO'\n",
    "            else:\n",
    "                    rawData_last['Sell'][i] = 'EXIT SELL'\n",
    "        else:\n",
    "            rawData_last['Sell'][i] = 'NO'"
   ]
  },
  {
   "cell_type": "markdown",
   "metadata": {},
   "source": [
    "__Short WTR Results__"
   ]
  },
  {
   "cell_type": "code",
   "execution_count": 88,
   "metadata": {},
   "outputs": [],
   "source": [
    "wtr_sell = rawData_last.loc[rawData_last['Sell'] == 'YES']\n",
    "wtr_exit_sell = rawData_last.loc[rawData_last['Sell'] == 'EXIT SELL']"
   ]
  },
  {
   "cell_type": "code",
   "execution_count": 92,
   "metadata": {},
   "outputs": [],
   "source": [
    "n = wtr_exit_sell.nplog.count()\n",
    "wtr_sell_gains = np.empty(n)\n",
    "\n",
    "for i in range(0, n):\n",
    "    wtr_sell_gains[i] = (wtr_sell.PRC.values[i] - wtr_exit_sell.PRC.values[i]) / wtr_sell.PRC.values[i]"
   ]
  },
  {
   "cell_type": "code",
   "execution_count": 94,
   "metadata": {},
   "outputs": [
    {
     "data": {
      "text/plain": [
       "-0.069870968997243"
      ]
     },
     "execution_count": 94,
     "metadata": {},
     "output_type": "execute_result"
    }
   ],
   "source": [
    "wtr_sell_gains.mean()"
   ]
  },
  {
   "cell_type": "markdown",
   "metadata": {},
   "source": [
    "__Long WTR Short CTWS__"
   ]
  },
  {
   "cell_type": "markdown",
   "metadata": {},
   "source": [
    "__Long WTR Code__"
   ]
  },
  {
   "cell_type": "code",
   "execution_count": null,
   "metadata": {},
   "outputs": [],
   "source": [
    "rawData['Buy'] = 0\n",
    "\n",
    "for i in range(3020, 3021):\n",
    "    if rawData['dif_predicted'][i] > upper_bound_25_wtr:\n",
    "        rawData['Buy'][i] = 'YES'\n",
    "    else:\n",
    "        rawData['Buy'][i] = 'NO'\n",
    "\n",
    "for i in range(3021, 6040):\n",
    "    if rawData['dif_predicted'][i] > upper_bound_25_wtr:\n",
    "        if rawData['Buy'][i-1] in ('YES', 'HOLD BUY'):\n",
    "            rawData['Buy'][i] = 'HOLD BUY'\n",
    "        else:\n",
    "            rawData['Buy'][i] = 'YES'\n",
    "    else:\n",
    "        if rawData['Buy'][i-1] in ('YES', 'HOLD BUY'):\n",
    "            if rawData['dif_predicted'][i] > 0:\n",
    "                if rawData['Buy'][i-1] in ('YES', 'HOLD BUY'):\n",
    "                    rawData['Buy'][i] = 'HOLD BUY'\n",
    "                else:\n",
    "                    rawData['Buy'][i] = 'NO'\n",
    "            else:\n",
    "                    rawData['Buy'][i] = 'EXIT BUY'\n",
    "        else:\n",
    "            rawData['Buy'][i] = 'NO'"
   ]
  },
  {
   "cell_type": "markdown",
   "metadata": {},
   "source": [
    "__Long WTR Results__"
   ]
  },
  {
   "cell_type": "code",
   "execution_count": 47,
   "metadata": {},
   "outputs": [],
   "source": [
    "wtr_buy = rawData.loc[rawData['Buy'] == 'YES']\n",
    "wtr_exit_buy = rawData.loc[rawData['Buy'] == 'EXIT BUY']"
   ]
  },
  {
   "cell_type": "code",
   "execution_count": 48,
   "metadata": {},
   "outputs": [],
   "source": [
    "n = wtr_exit_buy.nplog.count()\n",
    "wtr_buy_gains = np.empty(n)\n",
    "\n",
    "for i in range(0, n):\n",
    "    wtr_buy_gains[i] = (wtr_buy.PRC.values[i] - wtr_exit_buy.PRC.values[i]) / wtr_buy.PRC.values[i]"
   ]
  },
  {
   "cell_type": "markdown",
   "metadata": {},
   "source": [
    "__Short CTWS Code__"
   ]
  },
  {
   "cell_type": "code",
   "execution_count": 49,
   "metadata": {},
   "outputs": [
    {
     "name": "stderr",
     "output_type": "stream",
     "text": [
      "C:\\Users\\Tyson\\Anaconda3\\lib\\site-packages\\ipykernel_launcher.py:7: SettingWithCopyWarning: \n",
      "A value is trying to be set on a copy of a slice from a DataFrame\n",
      "\n",
      "See the caveats in the documentation: http://pandas.pydata.org/pandas-docs/stable/indexing.html#indexing-view-versus-copy\n",
      "  import sys\n",
      "C:\\Users\\Tyson\\Anaconda3\\lib\\site-packages\\pandas\\core\\indexing.py:189: SettingWithCopyWarning: \n",
      "A value is trying to be set on a copy of a slice from a DataFrame\n",
      "\n",
      "See the caveats in the documentation: http://pandas.pydata.org/pandas-docs/stable/indexing.html#indexing-view-versus-copy\n",
      "  self._setitem_with_indexer(indexer, value)\n",
      "C:\\Users\\Tyson\\Anaconda3\\lib\\site-packages\\ipykernel_launcher.py:14: SettingWithCopyWarning: \n",
      "A value is trying to be set on a copy of a slice from a DataFrame\n",
      "\n",
      "See the caveats in the documentation: http://pandas.pydata.org/pandas-docs/stable/indexing.html#indexing-view-versus-copy\n",
      "  \n",
      "C:\\Users\\Tyson\\Anaconda3\\lib\\site-packages\\ipykernel_launcher.py:12: SettingWithCopyWarning: \n",
      "A value is trying to be set on a copy of a slice from a DataFrame\n",
      "\n",
      "See the caveats in the documentation: http://pandas.pydata.org/pandas-docs/stable/indexing.html#indexing-view-versus-copy\n",
      "  if sys.path[0] == '':\n",
      "C:\\Users\\Tyson\\Anaconda3\\lib\\site-packages\\ipykernel_launcher.py:19: SettingWithCopyWarning: \n",
      "A value is trying to be set on a copy of a slice from a DataFrame\n",
      "\n",
      "See the caveats in the documentation: http://pandas.pydata.org/pandas-docs/stable/indexing.html#indexing-view-versus-copy\n",
      "C:\\Users\\Tyson\\Anaconda3\\lib\\site-packages\\ipykernel_launcher.py:23: SettingWithCopyWarning: \n",
      "A value is trying to be set on a copy of a slice from a DataFrame\n",
      "\n",
      "See the caveats in the documentation: http://pandas.pydata.org/pandas-docs/stable/indexing.html#indexing-view-versus-copy\n",
      "C:\\Users\\Tyson\\Anaconda3\\lib\\site-packages\\ipykernel_launcher.py:25: SettingWithCopyWarning: \n",
      "A value is trying to be set on a copy of a slice from a DataFrame\n",
      "\n",
      "See the caveats in the documentation: http://pandas.pydata.org/pandas-docs/stable/indexing.html#indexing-view-versus-copy\n"
     ]
    }
   ],
   "source": [
    "rawData['Sell'] = 0\n",
    "\n",
    "for i in range(0, 1):\n",
    "    if rawData['dif_predicted'][i] < lower_bound_25_ctws:\n",
    "        rawData['Sell'][i] = 'YES'\n",
    "    else:\n",
    "        rawData['Sell'][i] = 'NO'\n",
    "\n",
    "for i in range(3021, 6040):\n",
    "    if rawData['dif_predicted'][i] < lower_bound_25_ctws:\n",
    "        if rawData['Sell'][i-1] in ('YES', 'HOLD SELL'):\n",
    "            rawData['Sell'][i] = 'HOLD SELL'\n",
    "        else:\n",
    "            rawData['Sell'][i] = 'YES'\n",
    "    else:\n",
    "        if rawData['Sell'][i-1] in ('YES', 'HOLD SELL'):\n",
    "            if rawData['dif_predicted'][i] < 0:\n",
    "                if rawData['Sell'][i-1] in ('YES', 'HOLD SELL'):\n",
    "                    rawData['Sell'][i] = 'HOLD SELL'\n",
    "                else:\n",
    "                    rawData['Sell'][i] = 'NO'\n",
    "            else:\n",
    "                    rawData['Sell'][i] = 'EXIT SELL'\n",
    "        else:\n",
    "            rawData['Sell'][i] = 'NO'"
   ]
  },
  {
   "cell_type": "markdown",
   "metadata": {},
   "source": [
    "__Short CTWS Results__"
   ]
  },
  {
   "cell_type": "code",
   "execution_count": 50,
   "metadata": {},
   "outputs": [],
   "source": [
    "ctws_sell = rawData.loc[rawData['Sell'] == 'YES']\n",
    "ctws_exit_sell = rawData.loc[rawData['Sell'] == 'EXIT SELL']"
   ]
  },
  {
   "cell_type": "code",
   "execution_count": 51,
   "metadata": {},
   "outputs": [],
   "source": [
    "n = ctws_exit_sell.nplog.count()\n",
    "ctws_sell_gains = np.empty(n)\n",
    "\n",
    "for i in range(0, n):\n",
    "    ctws_sell_gains[i] = (ctws_sell.PRC.values[i] - ctws_exit_sell.PRC.values[i]) / ctws_sell.PRC.values[i]"
   ]
  },
  {
   "cell_type": "markdown",
   "metadata": {},
   "source": [
    "__Final Results__"
   ]
  },
  {
   "cell_type": "code",
   "execution_count": 52,
   "metadata": {},
   "outputs": [],
   "source": [
    "data = [['L_CTWS', ctws_buy.nplog.count(), ctws_buy_gains.mean(), ctws_buy_gains.std(), 0, ctws_buy_gains.max(), ctws_buy_gains.min(), ctws_buy_gains.sum(), '-'],\\\n",
    "['S_WTR', wtr_sell.nplog.count(), wtr_sell_gains.mean(), wtr_sell_gains.std(), 0, wtr_sell_gains.max(), wtr_sell_gains.min(), wtr_sell_gains.sum(), '-'], \\\n",
    "['L_WTR', wtr_buy.nplog.count(), wtr_buy_gains.mean(), wtr_buy_gains.std(), 0, wtr_buy_gains.max(), wtr_buy_gains.min(), wtr_buy_gains.sum(), '-'],\\\n",
    "['S_CTWS', ctws_sell.nplog.count(), ctws_sell_gains.mean(), ctws_sell_gains.std(), 0, ctws_sell_gains.max(), ctws_sell_gains.min(), ctws_sell_gains.sum(), ctws_buy_gains.sum() + wtr_sell_gains.sum() + wtr_buy_gains.sum() + ctws_sell_gains.sum()]] \n",
    "  \n",
    "results = pd.DataFrame(data, columns = ['Position', 'Count', 'Mean', 'St. Dev', 'Median', 'Max', 'Min', 'Position Total', 'Strategy Total']) "
   ]
  },
  {
   "cell_type": "code",
   "execution_count": 53,
   "metadata": {},
   "outputs": [
    {
     "data": {
      "text/html": [
       "<div>\n",
       "<style scoped>\n",
       "    .dataframe tbody tr th:only-of-type {\n",
       "        vertical-align: middle;\n",
       "    }\n",
       "\n",
       "    .dataframe tbody tr th {\n",
       "        vertical-align: top;\n",
       "    }\n",
       "\n",
       "    .dataframe thead th {\n",
       "        text-align: right;\n",
       "    }\n",
       "</style>\n",
       "<table border=\"1\" class=\"dataframe\">\n",
       "  <thead>\n",
       "    <tr style=\"text-align: right;\">\n",
       "      <th></th>\n",
       "      <th>Position</th>\n",
       "      <th>Count</th>\n",
       "      <th>Mean</th>\n",
       "      <th>St. Dev</th>\n",
       "      <th>Median</th>\n",
       "      <th>Max</th>\n",
       "      <th>Min</th>\n",
       "      <th>Position Total</th>\n",
       "      <th>Strategy Total</th>\n",
       "    </tr>\n",
       "  </thead>\n",
       "  <tbody>\n",
       "    <tr>\n",
       "      <th>0</th>\n",
       "      <td>L_CTWS</td>\n",
       "      <td>31</td>\n",
       "      <td>0.055750</td>\n",
       "      <td>0.021524</td>\n",
       "      <td>0</td>\n",
       "      <td>0.119862</td>\n",
       "      <td>0.021739</td>\n",
       "      <td>1.728249</td>\n",
       "      <td>-</td>\n",
       "    </tr>\n",
       "    <tr>\n",
       "      <th>1</th>\n",
       "      <td>S_WTR</td>\n",
       "      <td>30</td>\n",
       "      <td>-0.074494</td>\n",
       "      <td>0.042570</td>\n",
       "      <td>0</td>\n",
       "      <td>-0.038763</td>\n",
       "      <td>-0.236246</td>\n",
       "      <td>-2.160332</td>\n",
       "      <td>-</td>\n",
       "    </tr>\n",
       "    <tr>\n",
       "      <th>2</th>\n",
       "      <td>L_WTR</td>\n",
       "      <td>35</td>\n",
       "      <td>0.069018</td>\n",
       "      <td>0.029969</td>\n",
       "      <td>0</td>\n",
       "      <td>0.180371</td>\n",
       "      <td>0.040000</td>\n",
       "      <td>2.415645</td>\n",
       "      <td>-</td>\n",
       "    </tr>\n",
       "    <tr>\n",
       "      <th>3</th>\n",
       "      <td>S_CTWS</td>\n",
       "      <td>34</td>\n",
       "      <td>-0.065089</td>\n",
       "      <td>0.039385</td>\n",
       "      <td>0</td>\n",
       "      <td>-0.036919</td>\n",
       "      <td>-0.236246</td>\n",
       "      <td>-2.147935</td>\n",
       "      <td>-0.164374</td>\n",
       "    </tr>\n",
       "  </tbody>\n",
       "</table>\n",
       "</div>"
      ],
      "text/plain": [
       "  Position  Count      Mean   St. Dev  Median       Max       Min  \\\n",
       "0   L_CTWS     31  0.055750  0.021524       0  0.119862  0.021739   \n",
       "1    S_WTR     30 -0.074494  0.042570       0 -0.038763 -0.236246   \n",
       "2    L_WTR     35  0.069018  0.029969       0  0.180371  0.040000   \n",
       "3   S_CTWS     34 -0.065089  0.039385       0 -0.036919 -0.236246   \n",
       "\n",
       "   Position Total Strategy Total  \n",
       "0        1.728249              -  \n",
       "1       -2.160332              -  \n",
       "2        2.415645              -  \n",
       "3       -2.147935      -0.164374  "
      ]
     },
     "execution_count": 53,
     "metadata": {},
     "output_type": "execute_result"
    }
   ],
   "source": [
    "results"
   ]
  },
  {
   "cell_type": "code",
   "execution_count": null,
   "metadata": {},
   "outputs": [],
   "source": []
  }
 ],
 "metadata": {
  "kernelspec": {
   "display_name": "Python 3",
   "language": "python",
   "name": "python3"
  },
  "language_info": {
   "codemirror_mode": {
    "name": "ipython",
    "version": 3
   },
   "file_extension": ".py",
   "mimetype": "text/x-python",
   "name": "python",
   "nbconvert_exporter": "python",
   "pygments_lexer": "ipython3",
   "version": "3.6.5"
  }
 },
 "nbformat": 4,
 "nbformat_minor": 2
}
